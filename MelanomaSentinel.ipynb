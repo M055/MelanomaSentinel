{
 "cells": [
  {
   "cell_type": "markdown",
   "metadata": {},
   "source": [
    "# Personalized Melanoma Staging Model\n",
    "\n",
    "The goal of this project is to create an easily understood and used tool for doctors to predict whether patients need a sentinel lymph node biopsy (SLNB). SLNB are an invasive procedure and currently doctors suggest it to patients if there is around a 10% chance for a positive biopsy. These odds are mostly based upon the depth of the melanoma, so I would like to use more data in order to create better predictions for the odds that patients need the biopsy. \n",
    "\n",
    "## The Data\n",
    "I am using data from two sources: the National Cancer Database and the NIH's SEER Database. Currently, we are soley focusing on the NCDB's melanoma patients."
   ]
  },
  {
   "cell_type": "code",
   "execution_count": 144,
   "metadata": {},
   "outputs": [],
   "source": [
    "import pandas as pd\n",
    "\n",
    "mela = pd.read_csv('Melanoma.csv')"
   ]
  },
  {
   "cell_type": "code",
   "execution_count": 145,
   "metadata": {},
   "outputs": [
    {
     "name": "stdout",
     "output_type": "stream",
     "text": [
      "126\n"
     ]
    },
    {
     "data": {
      "text/plain": [
       "array(['PUF_CASE_ID', 'PUF_FACILITY_ID', 'FACILITY_TYPE_CD',\n",
       "       'FACILITY_LOCATION_CD', 'AGE', 'SEX', 'RACE',\n",
       "       'SPANISH_HISPANIC_ORIGIN', 'INSURANCE_STATUS', 'MED_INC_QUAR_00',\n",
       "       'NO_HSD_QUAR_00', 'UR_CD_03', 'MED_INC_QUAR_12', 'NO_HSD_QUAR_12',\n",
       "       'UR_CD_13', 'CROWFLY', 'CDCC_TOTAL_BEST', 'SEQUENCE_NUMBER',\n",
       "       'CLASS_OF_CASE', 'YEAR_OF_DIAGNOSIS', 'PRIMARY_SITE', 'LATERALITY',\n",
       "       'HISTOLOGY', 'BEHAVIOR', 'GRADE', 'DIAGNOSTIC_CONFIRMATION',\n",
       "       'TUMOR_SIZE', 'REGIONAL_NODES_POSITIVE', 'REGIONAL_NODES_EXAMINED',\n",
       "       'DX_STAGING_PROC_DAYS', 'RX_SUMM_DXSTG_PROC', 'TNM_CLIN_T',\n",
       "       'TNM_CLIN_N', 'TNM_CLIN_M', 'TNM_CLIN_STAGE_GROUP', 'TNM_PATH_T',\n",
       "       'TNM_PATH_N', 'TNM_PATH_M', 'TNM_PATH_STAGE_GROUP',\n",
       "       'TNM_EDITION_NUMBER', 'ANALYTIC_STAGE_GROUP', 'CS_METS_AT_DX',\n",
       "       'CS_METS_EVAL', 'CS_EXTENSION', 'CS_TUMOR_SIZEEXT_EVAL',\n",
       "       'CS_METS_DX_BONE', 'CS_METS_DX_BRAIN', 'CS_METS_DX_LIVER',\n",
       "       'CS_METS_DX_LUNG', 'LYMPH_VASCULAR_INVASION',\n",
       "       'CS_SITESPECIFIC_FACTOR_1', 'CS_SITESPECIFIC_FACTOR_2',\n",
       "       'CS_SITESPECIFIC_FACTOR_3', 'CS_SITESPECIFIC_FACTOR_4',\n",
       "       'CS_SITESPECIFIC_FACTOR_5', 'CS_SITESPECIFIC_FACTOR_6',\n",
       "       'CS_SITESPECIFIC_FACTOR_7', 'CS_SITESPECIFIC_FACTOR_8',\n",
       "       'CS_SITESPECIFIC_FACTOR_9', 'CS_SITESPECIFIC_FACTOR_10',\n",
       "       'CS_SITESPECIFIC_FACTOR_11', 'CS_SITESPECIFIC_FACTOR_12',\n",
       "       'CS_SITESPECIFIC_FACTOR_13', 'CS_SITESPECIFIC_FACTOR_14',\n",
       "       'CS_SITESPECIFIC_FACTOR_15', 'CS_SITESPECIFIC_FACTOR_16',\n",
       "       'CS_SITESPECIFIC_FACTOR_17', 'CS_SITESPECIFIC_FACTOR_18',\n",
       "       'CS_SITESPECIFIC_FACTOR_19', 'CS_SITESPECIFIC_FACTOR_20',\n",
       "       'CS_SITESPECIFIC_FACTOR_21', 'CS_SITESPECIFIC_FACTOR_22',\n",
       "       'CS_SITESPECIFIC_FACTOR_23', 'CS_SITESPECIFIC_FACTOR_24',\n",
       "       'CS_SITESPECIFIC_FACTOR_25', 'CS_VERSION_LATEST',\n",
       "       'DX_RX_STARTED_DAYS', 'DX_SURG_STARTED_DAYS',\n",
       "       'DX_DEFSURG_STARTED_DAYS', 'RX_SUMM_SURG_PRIM_SITE',\n",
       "       'RX_HOSP_SURG_APPR_2010', 'RX_SUMM_SURGICAL_MARGINS',\n",
       "       'RX_SUMM_SCOPE_REG_LN_SUR', 'RX_SUMM_SURG_OTH_REGDIS',\n",
       "       'SURG_DISCHARGE_DAYS', 'READM_HOSP_30_DAYS',\n",
       "       'REASON_FOR_NO_SURGERY', 'DX_RAD_STARTED_DAYS',\n",
       "       'RX_SUMM_RADIATION', 'RAD_LOCATION_OF_RX', 'RAD_TREAT_VOL',\n",
       "       'RAD_REGIONAL_RX_MODALITY', 'RAD_REGIONAL_DOSE_CGY',\n",
       "       'RAD_BOOST_RX_MODALITY', 'RAD_BOOST_DOSE_CGY', 'RAD_NUM_TREAT_VOL',\n",
       "       'RX_SUMM_SURGRAD_SEQ', 'RAD_ELAPSED_RX_DAYS',\n",
       "       'REASON_FOR_NO_RADIATION', 'DX_SYSTEMIC_STARTED_DAYS',\n",
       "       'DX_CHEMO_STARTED_DAYS', 'RX_SUMM_CHEMO',\n",
       "       'DX_HORMONE_STARTED_DAYS', 'RX_SUMM_HORMONE',\n",
       "       'DX_IMMUNO_STARTED_DAYS', 'RX_SUMM_IMMUNOTHERAPY',\n",
       "       'RX_SUMM_TRNSPLNT_ENDO', 'RX_SUMM_SYSTEMIC_SUR_SEQ',\n",
       "       'DX_OTHER_STARTED_DAYS', 'RX_SUMM_OTHER', 'PALLIATIVE_CARE',\n",
       "       'RX_SUMM_TREATMENT_STATUS', 'PUF_30_DAY_MORT_CD',\n",
       "       'PUF_90_DAY_MORT_CD', 'DX_LASTCONTACT_DEATH_MONTHS',\n",
       "       'PUF_VITAL_STATUS', 'RX_HOSP_SURG_PRIM_SITE', 'RX_HOSP_CHEMO',\n",
       "       'RX_HOSP_IMMUNOTHERAPY', 'RX_HOSP_HORMONE', 'RX_HOSP_OTHER',\n",
       "       'PUF_MULT_SOURCE', 'PUF_REFERENCE_DATE_FLAG',\n",
       "       'RX_SUMM_SCOPE_REG_LN_2012', 'RX_HOSP_DXSTG_PROC',\n",
       "       'PALLIATIVE_CARE_HOSP'], dtype=object)"
      ]
     },
     "execution_count": 145,
     "metadata": {},
     "output_type": "execute_result"
    }
   ],
   "source": [
    "print(len(mela.columns.values))\n",
    "mela.columns.values"
   ]
  },
  {
   "cell_type": "code",
   "execution_count": 146,
   "metadata": {},
   "outputs": [
    {
     "name": "stdout",
     "output_type": "stream",
     "text": [
      "<class 'pandas.core.frame.DataFrame'>\n",
      "RangeIndex: 523492 entries, 0 to 523491\n",
      "Columns: 126 entries, PUF_CASE_ID to PALLIATIVE_CARE_HOSP\n",
      "dtypes: float64(64), int64(51), object(11)\n",
      "memory usage: 503.2+ MB\n"
     ]
    }
   ],
   "source": [
    "mela.info()"
   ]
  },
  {
   "cell_type": "markdown",
   "metadata": {},
   "source": [
    "As we can see, we have 523492 patients with 126 features (or attributes). Since it is a database, not all of these attributes would be known before a SLNB would be suggested and others of them would be irrelevant to the need for a biopsy. For example, <code>PUF_FACILITY_ID</code> (or the facility where these data were recorded) likely doesn't influence a patient's need for a biopsy. I will use the following subset of features below:\n",
    "\n",
    "- <code>AGE</code>: The age of the patient\n",
    "- <code>SEX</code>: The sex of the patient\n",
    "- <code>RACE</code>: The race of the patient\n",
    "- <code>SPANISH_HISPANIC_ORIGIN</code>: Indicates whether a patient is hispanic\n",
    "- <code>CS_SITESPECIFIC_FACTOR_1</code>: The depth of the tumor. I rename this feature <code>DEPTH</code> to be more easily interpable\n",
    "- <code>CS_SITESPECIFIC_FACTOR_2</code>: The formation of an ulcer on the skin. I rename this feature <code>ULCERATION</code> to be more easily interpable\n",
    "- <code>CS_EXTENSION</code>: Indicates the extent of the spread of the melanoma.\n",
    "- <code>CS_SITESPECIFIC_FACTOR_7</code>: Categories for the number of mitoses per square mm around a \"hot spot\". I rename this feature to <code>MITOSES</code> for interprability.\n",
    "- <code>PRIMARY_SITE</code>: The main site for the melanoma. The options are:\n",
    "    - <code>C44.0</code>: Skin of lips, NOS\n",
    "    - <code>C44.1</code>: Eyelid\n",
    "    - <code>C44.2</code>: External Ear\n",
    "    - <code>C44.3</code>: Skin of other and unspecified parts of face\n",
    "    - <code>C44.4</code>: Skin of scalp and neck\n",
    "    - <code>C44.5</code>: Skin of the trunk\n",
    "    - <code>C44.6</code>: Skin of upper limb and shoulder\n",
    "    - <code>C44.7</code>: Skin of lower limb and hip\n",
    "    - <code>C44.8</code>: Overlapping lesion of skin\n",
    "    - <code>C44.9</code>: Skin, NOS\n",
    " \n",
    "We are trying to calssify the patients into whether they had a positive lymph node biopsy or not. This is recorded in <code>TNM_PATH_N</code> or <code>REGIONAL_NODES_POSITIVE</code>."
   ]
  },
  {
   "cell_type": "code",
   "execution_count": 147,
   "metadata": {},
   "outputs": [],
   "source": [
    "#mela['TNM_PATH_N'].value_counts()"
   ]
  },
  {
   "cell_type": "markdown",
   "metadata": {},
   "source": [
    "## Data Cleaning and Feature Combining\n",
    "\n",
    "Some of the rows of the features are missing data. To start with, I will drop rows with missing data in order to have the best possible training data possible. This is a reasonable assumption currently because I have a large amount of training data, but I can work on creating a model including interpolation at a later point."
   ]
  },
  {
   "cell_type": "code",
   "execution_count": 148,
   "metadata": {},
   "outputs": [],
   "source": [
    "attribs = ['AGE', 'SEX', 'RACE', 'SPANISH_HISPANIC_ORIGIN', 'CS_SITESPECIFIC_FACTOR_1', 'CS_SITESPECIFIC_FACTOR_2',\n",
    "           'CS_SITESPECIFIC_FACTOR_7', 'CS_EXTENSION', 'PRIMARY_SITE', 'CS_SITESPECIFIC_FACTOR_3']\n",
    "#attribs = ['AGE', 'SEX', 'RACE', 'SPANISH_HISPANIC_ORIGIN', 'CS_SITESPECIFIC_FACTOR_1', 'CS_SITESPECIFIC_FACTOR_2',\n",
    "#           'CS_SITESPECIFIC_FACTOR_7', 'CS_EXTENSION', 'PRIMARY_SITE', 'REGIONAL_NODES_POSITIVE']\n",
    "#attribs = ['AGE', 'SEX', 'RACE', 'SPANISH_HISPANIC_ORIGIN', 'CS_SITESPECIFIC_FACTOR_1', 'CS_SITESPECIFIC_FACTOR_2',\n",
    "#           'CS_SITESPECIFIC_FACTOR_7', 'CS_EXTENSION', 'PRIMARY_SITE', 'TNM_PATH_N']\n",
    "\n",
    "#attribs = ['AGE', 'SEX', 'CS_SITESPECIFIC_FACTOR_1', 'CS_SITESPECIFIC_FACTOR_2',\n",
    "#           'CS_SITESPECIFIC_FACTOR_7', 'CS_EXTENSION', 'PRIMARY_SITE', 'TNM_PATH_N']"
   ]
  },
  {
   "cell_type": "code",
   "execution_count": 149,
   "metadata": {},
   "outputs": [
    {
     "name": "stdout",
     "output_type": "stream",
     "text": [
      "<class 'pandas.core.frame.DataFrame'>\n",
      "Int64Index: 517967 entries, 0 to 523491\n",
      "Data columns (total 10 columns):\n",
      " #   Column                    Non-Null Count   Dtype  \n",
      "---  ------                    --------------   -----  \n",
      " 0   AGE                       517967 non-null  int64  \n",
      " 1   SEX                       517967 non-null  int64  \n",
      " 2   RACE                      517967 non-null  int64  \n",
      " 3   SPANISH_HISPANIC_ORIGIN   517967 non-null  int64  \n",
      " 4   CS_SITESPECIFIC_FACTOR_1  517967 non-null  float64\n",
      " 5   CS_SITESPECIFIC_FACTOR_2  517967 non-null  float64\n",
      " 6   CS_SITESPECIFIC_FACTOR_7  517967 non-null  float64\n",
      " 7   CS_EXTENSION              517967 non-null  float64\n",
      " 8   PRIMARY_SITE              517967 non-null  object \n",
      " 9   CS_SITESPECIFIC_FACTOR_3  517967 non-null  float64\n",
      "dtypes: float64(5), int64(4), object(1)\n",
      "memory usage: 43.5+ MB\n"
     ]
    }
   ],
   "source": [
    "data = mela[attribs].dropna()\n",
    "data.info()"
   ]
  },
  {
   "cell_type": "code",
   "execution_count": 150,
   "metadata": {},
   "outputs": [],
   "source": [
    "#data['SPANISH_HISPANIC_ORIGIN'].value_counts() #9 means unknown if HISPANIC, 99 FOR RACE MEANS RACE UNKNOWN"
   ]
  },
  {
   "cell_type": "code",
   "execution_count": 151,
   "metadata": {},
   "outputs": [],
   "source": [
    "data = data.rename(columns={'CS_SITESPECIFIC_FACTOR_1': \"DEPTH\", 'CS_SITESPECIFIC_FACTOR_2': 'ULCERATION',\n",
    "       'CS_SITESPECIFIC_FACTOR_7': 'MITOSES', 'CS_SITESPECIFIC_FACTOR_3': 'CS_LYMPH_NODE_METS'})"
   ]
  },
  {
   "cell_type": "code",
   "execution_count": 152,
   "metadata": {},
   "outputs": [],
   "source": [
    "#attribs = ['AGE', 'SEX', 'RACE', 'SPANISH_HISPANIC_ORIGIN', 'DEPTH', 'ULCERATION',\n",
    "#           'MITOSES', 'CS_EXTENSION', 'PRIMARY_SITE', 'REGIONAL_NODES_POSITIVE']\n",
    "attribs = ['AGE', 'SEX', 'RACE', 'SPANISH_HISPANIC_ORIGIN', 'DEPTH', 'ULCERATION',\n",
    "        'MITOSES', 'CS_EXTENSION', 'PRIMARY_SITE', 'CS_LYMPH_NODE_METS']\n",
    "\n",
    "#attribs = ['AGE', 'SEX', 'DEPTH', 'ULCERATION',\n",
    "#           'MITOSES', 'CS_EXTENSION', 'PRIMARY_SITE', 'TNM_PATH_N']"
   ]
  },
  {
   "cell_type": "markdown",
   "metadata": {},
   "source": [
    "### Dropping Missing Values\n",
    "For most of our attributes, a missing value is coded as 999. We care remove these entries easily by using .dropna(). However, I need to do additional cleaning for each of our attributes."
   ]
  },
  {
   "cell_type": "code",
   "execution_count": 153,
   "metadata": {},
   "outputs": [
    {
     "data": {
      "text/html": [
       "<div>\n",
       "<style scoped>\n",
       "    .dataframe tbody tr th:only-of-type {\n",
       "        vertical-align: middle;\n",
       "    }\n",
       "\n",
       "    .dataframe tbody tr th {\n",
       "        vertical-align: top;\n",
       "    }\n",
       "\n",
       "    .dataframe thead th {\n",
       "        text-align: right;\n",
       "    }\n",
       "</style>\n",
       "<table border=\"1\" class=\"dataframe\">\n",
       "  <thead>\n",
       "    <tr style=\"text-align: right;\">\n",
       "      <th></th>\n",
       "      <th>AGE</th>\n",
       "      <th>SEX</th>\n",
       "      <th>RACE</th>\n",
       "      <th>SPANISH_HISPANIC_ORIGIN</th>\n",
       "      <th>DEPTH</th>\n",
       "      <th>ULCERATION</th>\n",
       "      <th>MITOSES</th>\n",
       "      <th>CS_EXTENSION</th>\n",
       "      <th>PRIMARY_SITE</th>\n",
       "      <th>CS_LYMPH_NODE_METS</th>\n",
       "    </tr>\n",
       "  </thead>\n",
       "  <tbody>\n",
       "    <tr>\n",
       "      <th>4</th>\n",
       "      <td>54</td>\n",
       "      <td>1</td>\n",
       "      <td>1</td>\n",
       "      <td>0</td>\n",
       "      <td>42.0</td>\n",
       "      <td>0.0</td>\n",
       "      <td>1.0</td>\n",
       "      <td>100.0</td>\n",
       "      <td>C447</td>\n",
       "      <td>5.0</td>\n",
       "    </tr>\n",
       "    <tr>\n",
       "      <th>5</th>\n",
       "      <td>88</td>\n",
       "      <td>2</td>\n",
       "      <td>1</td>\n",
       "      <td>0</td>\n",
       "      <td>6.0</td>\n",
       "      <td>0.0</td>\n",
       "      <td>0.0</td>\n",
       "      <td>100.0</td>\n",
       "      <td>C447</td>\n",
       "      <td>5.0</td>\n",
       "    </tr>\n",
       "    <tr>\n",
       "      <th>12</th>\n",
       "      <td>60</td>\n",
       "      <td>1</td>\n",
       "      <td>1</td>\n",
       "      <td>0</td>\n",
       "      <td>270.0</td>\n",
       "      <td>10.0</td>\n",
       "      <td>10.0</td>\n",
       "      <td>300.0</td>\n",
       "      <td>C446</td>\n",
       "      <td>0.0</td>\n",
       "    </tr>\n",
       "    <tr>\n",
       "      <th>14</th>\n",
       "      <td>46</td>\n",
       "      <td>2</td>\n",
       "      <td>1</td>\n",
       "      <td>0</td>\n",
       "      <td>103.0</td>\n",
       "      <td>0.0</td>\n",
       "      <td>1.0</td>\n",
       "      <td>300.0</td>\n",
       "      <td>C445</td>\n",
       "      <td>5.0</td>\n",
       "    </tr>\n",
       "    <tr>\n",
       "      <th>17</th>\n",
       "      <td>60</td>\n",
       "      <td>1</td>\n",
       "      <td>1</td>\n",
       "      <td>0</td>\n",
       "      <td>101.0</td>\n",
       "      <td>0.0</td>\n",
       "      <td>0.0</td>\n",
       "      <td>100.0</td>\n",
       "      <td>C444</td>\n",
       "      <td>43.0</td>\n",
       "    </tr>\n",
       "  </tbody>\n",
       "</table>\n",
       "</div>"
      ],
      "text/plain": [
       "    AGE  SEX  RACE  SPANISH_HISPANIC_ORIGIN  DEPTH  ULCERATION  MITOSES  \\\n",
       "4    54    1     1                        0   42.0         0.0      1.0   \n",
       "5    88    2     1                        0    6.0         0.0      0.0   \n",
       "12   60    1     1                        0  270.0        10.0     10.0   \n",
       "14   46    2     1                        0  103.0         0.0      1.0   \n",
       "17   60    1     1                        0  101.0         0.0      0.0   \n",
       "\n",
       "    CS_EXTENSION PRIMARY_SITE  CS_LYMPH_NODE_METS  \n",
       "4          100.0         C447                 5.0  \n",
       "5          100.0         C447                 5.0  \n",
       "12         300.0         C446                 0.0  \n",
       "14         300.0         C445                 5.0  \n",
       "17         100.0         C444                43.0  "
      ]
     },
     "execution_count": 153,
     "metadata": {},
     "output_type": "execute_result"
    }
   ],
   "source": [
    "new_df = data[(data != 999).all(1)]\n",
    "new_df = new_df[new_df['DEPTH'] != 980]\n",
    "new_df = new_df[new_df['SPANISH_HISPANIC_ORIGIN'] != 9]\n",
    "new_df = new_df[new_df['MITOSES'] != 988]\n",
    "\n",
    "#new_df.info()\n",
    "new_df.head()"
   ]
  },
  {
   "cell_type": "markdown",
   "metadata": {},
   "source": [
    "### Combining Feature Values\n",
    "For some of our features, there have been two coding schema. For example, `ULCERATION` = 1.0 and `ULCERATION` = 10.0 both correspond to the presence of ulceration. Below, we combine our features in order to better represent the data."
   ]
  },
  {
   "cell_type": "code",
   "execution_count": 154,
   "metadata": {},
   "outputs": [
    {
     "data": {
      "text/plain": [
       "0.0    127722\n",
       "1.0     26484\n",
       "Name: ULCERATION, dtype: int64"
      ]
     },
     "execution_count": 154,
     "metadata": {},
     "output_type": "execute_result"
    }
   ],
   "source": [
    "new_df['ULCERATION'] = new_df['ULCERATION'].replace(10.0, 1.0)\n",
    "new_df['ULCERATION'].value_counts()"
   ]
  },
  {
   "cell_type": "markdown",
   "metadata": {},
   "source": [
    "The `CS_EXTENSION` attribute has a combination of features for the depth of the extension as well as the Clark Level. For now, I have removed anything that isn't about the Clark Level of the tumor."
   ]
  },
  {
   "cell_type": "code",
   "execution_count": 155,
   "metadata": {},
   "outputs": [
    {
     "data": {
      "text/plain": [
       "300.0    58192\n",
       "100.0    33370\n",
       "200.0    28207\n",
       "500.0     6278\n",
       "0.0       4617\n",
       "Name: CS_EXTENSION, dtype: int64"
      ]
     },
     "execution_count": 155,
     "metadata": {},
     "output_type": "execute_result"
    }
   ],
   "source": [
    "new_df['CS_EXTENSION'].value_counts()\n",
    "new_df['CS_EXTENSION'] = new_df['CS_EXTENSION'].replace([\n",
    "    310, 315, 320, 330, 335, 340, 350, 355, 360, 370, 375, 380, 400, 800, 950],\n",
    "    [999, 999, 999, 999, 999, 999, 999, 999, 999, 999, 999, 999, 999, 999, 999])\n",
    "new_df = new_df[(new_df != 999).all(1)]\n",
    "new_df['CS_EXTENSION'].value_counts()"
   ]
  },
  {
   "cell_type": "code",
   "execution_count": 156,
   "metadata": {},
   "outputs": [],
   "source": [
    "#new_df['REGIONAL_NODES_POSITIVE'] = new_df['REGIONAL_NODES_POSITIVE'].replace(98, 0)\n",
    "#new_df['REGIONAL_NODES_POSITIVE'].value_counts()\n",
    "#new_df = new_df[(new_df['REGIONAL_NODES_POSITIVE'] != 99)]\n",
    "\n",
    "#new_df['REGIONAL_NODES_POSITIVE'] = new_df['REGIONAL_NODES_POSITIVE'] > 0 \n",
    "#new_df['REGIONAL_NODES_POSITIVE'].value_counts()"
   ]
  },
  {
   "cell_type": "code",
   "execution_count": 157,
   "metadata": {},
   "outputs": [
    {
     "data": {
      "text/plain": [
       "0.0    117654\n",
       "1.0      8971\n",
       "Name: CS_LYMPH_NODE_METS, dtype: int64"
      ]
     },
     "execution_count": 157,
     "metadata": {},
     "output_type": "execute_result"
    }
   ],
   "source": [
    "new_df['CS_LYMPH_NODE_METS'] = new_df['CS_LYMPH_NODE_METS'].replace([5, 10],[0, 1])\n",
    "new_df = new_df[new_df['CS_LYMPH_NODE_METS'] <= 1.5]\n",
    "new_df['CS_LYMPH_NODE_METS'].value_counts()\n"
   ]
  },
  {
   "cell_type": "code",
   "execution_count": 158,
   "metadata": {},
   "outputs": [],
   "source": [
    "#new_df['TNM_PATH_N'].value_counts()\n",
    "#new_df = new_df[new_df['TNM_PATH_N'] != '88']\n",
    "#new_df = new_df[new_df['TNM_PATH_N'] != 'pX']\n",
    "\n",
    "#new_df['TNM_PATH_N'].value_counts()\n",
    "#new_df['TNM_PATH_N'] = new_df['TNM_PATH_N'].apply(lambda x: 0 if x == 'pX' else x)\n",
    "#new_df['TNM_PATH_N'] = new_df['TNM_PATH_N'].apply(lambda x: 0 if x == 'p0' else 1)\n",
    "#new_df['TNM_PATH_N'] = new_df['TNM_PATH_N'].apply(lambda x: x if x == 0 or x == 1 else 1)\n"
   ]
  },
  {
   "cell_type": "code",
   "execution_count": 159,
   "metadata": {},
   "outputs": [],
   "source": [
    "#new_df['TNM_PATH_N'].value_counts()"
   ]
  },
  {
   "cell_type": "markdown",
   "metadata": {},
   "source": [
    "For the `RACE` attribute, there are several demographics that we only have a single representative; for simplicity, we split these demographics into white, black, and other and hispanic or not hispanic."
   ]
  },
  {
   "cell_type": "code",
   "execution_count": 160,
   "metadata": {},
   "outputs": [
    {
     "data": {
      "text/plain": [
       "0    125099\n",
       "1      1526\n",
       "Name: SPANISH_HISPANIC_ORIGIN, dtype: int64"
      ]
     },
     "execution_count": 160,
     "metadata": {},
     "output_type": "execute_result"
    }
   ],
   "source": [
    "import numpy as np\n",
    "new_df['RACE'].value_counts()\n",
    "a = np.array(new_df['RACE'].values.tolist())\n",
    "new_df['RACE'] = np.where(a > 2, 3, a).tolist()\n",
    "new_df['RACE'].value_counts()#new_df['RACE'] = new_df['RACE'].apply(lambda x: [y if y <= 1 else 2 for y in x])\n",
    "#new_df['RACE']\n",
    "\n",
    "a = np.array(new_df['SPANISH_HISPANIC_ORIGIN'].values.tolist())\n",
    "new_df['SPANISH_HISPANIC_ORIGIN'] = np.where(a > 1, 1, a).tolist()\n",
    "new_df['SPANISH_HISPANIC_ORIGIN'].value_counts()"
   ]
  },
  {
   "cell_type": "markdown",
   "metadata": {},
   "source": [
    "The other feature used is the `PRIMARY_SITE`, which codes where the melanoma is located. The features are fairly specific, so for now I coarse grain this into three categories: Head and neck, Trunk, or Extremity.\n",
    "\n",
    "Current labels are\n",
    "\n",
    "- `c440`: Skin of lip -> Head or Neck\n",
    "- `c441`: Eyelid -> Head or Neck\n",
    "- `c442`: External ear -> Head or Neck\n",
    "- `c443`: Skin of other and unspecified parts of face -> Head or Neck\n",
    "- `c444`: Skin of scalp and neck -> Head or Neck\n",
    "- `c445`: Skin of trunk -> Trunk\n",
    "- `c446`: Skin of upper limb and shoulder -> Extremity\n",
    "- `c447`: Skin of lower limb and hip -> Extremity\n",
    "- `c448`: Overlapping lesion of skin -> ?\n",
    "- `c449`: Skin, NOS -> ?"
   ]
  },
  {
   "cell_type": "code",
   "execution_count": 161,
   "metadata": {},
   "outputs": [],
   "source": [
    "#new_df['DEPTH_3'] = new_df['DEPTH'] ** 3"
   ]
  },
  {
   "cell_type": "code",
   "execution_count": 162,
   "metadata": {},
   "outputs": [],
   "source": [
    "new_df['PRIMARY_SITE'].value_counts()\n",
    "new_df['PRIMARY_SITE'] = new_df['PRIMARY_SITE'].replace([\n",
    "    'C440', 'C441', 'C442', 'C443', 'C444', 'C445', 'C446', 'C447', 'C448', 'C449'],\n",
    "    [0,0,0,0,0,1, 2,2,999,999])\n",
    "\n",
    "new_df = new_df[(new_df != 999).all(1)]\n"
   ]
  },
  {
   "cell_type": "code",
   "execution_count": 163,
   "metadata": {},
   "outputs": [],
   "source": [
    "#attribs = ['AGE', 'SEX', 'RACE', 'SPANISH_HISPANIC_ORIGIN', 'DEPTH', 'DEPTH_3', 'ULCERATION',\n",
    "#           'MITOSES', 'CS_EXTENSION', 'PRIMARY_SITE']\n",
    "\n",
    "attribs = ['AGE', 'SEX', 'DEPTH', 'ULCERATION','RACE', 'SPANISH_HISPANIC_ORIGIN',\n",
    "            'MITOSES', 'CS_EXTENSION', 'PRIMARY_SITE']\n",
    "\n",
    "X = new_df[attribs]\n",
    "y = new_df['CS_LYMPH_NODE_METS']\n",
    "#y = new_df['REGIONAL_NODES_POSITIVE']\n",
    "\n",
    "import numpy as np\n",
    "from sklearn.model_selection import train_test_split\n",
    "X_train, X_test, y_train, y_test = train_test_split(X, y, test_size=0.20, random_state=20)"
   ]
  },
  {
   "cell_type": "markdown",
   "metadata": {},
   "source": [
    "## Encoding Attributes\n",
    "\n",
    "We have a few <b>numerical attributes</b>\n",
    "- AGE\n",
    "- DEPTH\n",
    "- MITOSES\n",
    "- CS_EXTENSION\n",
    "\n",
    "\n",
    "<b>Categorical Attributes</b>\n",
    "- SEX\n",
    "- RACE\n",
    "- SPANISH_HISPANIC_ORIGIN\n",
    "- ULCERATION\n",
    "- PRIMARY_SITE"
   ]
  },
  {
   "cell_type": "code",
   "execution_count": 164,
   "metadata": {},
   "outputs": [],
   "source": [
    "from sklearn.base import BaseEstimator, TransformerMixin\n",
    "from sklearn.preprocessing import PolynomialFeatures\n",
    "\n",
    "\n",
    "class DataFrameSelector(BaseEstimator, TransformerMixin):\n",
    "    def __init__(self, attribute_names):\n",
    "        self.attribute_names = attribute_names\n",
    "    def fit(self, X, y=None):\n",
    "        return self\n",
    "    def transform(self, X, y=None):\n",
    "        return X[self.attribute_names]\n",
    "    \n",
    "    \n",
    "class MostFrequentImputer(BaseEstimator, TransformerMixin):\n",
    "    def fit(self, X,y=None):\n",
    "        self.most_frequent_ = pd.Series([X[c].value_counts().index[0] for c in X], index=X.columns)\n",
    "        return self\n",
    "    def transform(self, X, y=None):\n",
    "        return X.fillna(self.most_frequent_)\n",
    "\n",
    "from sklearn.pipeline import Pipeline\n",
    "from sklearn.impute import SimpleImputer\n",
    "\n",
    "num_pipeline = Pipeline([\n",
    "    (\"select_numeric\", DataFrameSelector([\"AGE\",\"DEPTH\", \"CS_EXTENSION\", \"MITOSES\"])),\n",
    "    ('poly', PolynomialFeatures(degree=3)),\n",
    "    (\"imputer\", SimpleImputer(strategy=\"median\")),\n",
    "     ])\n",
    "\n",
    "from sklearn.preprocessing import OneHotEncoder\n",
    "\n",
    "cat_pipeline = Pipeline([\n",
    "    (\"select_cat\", DataFrameSelector(['SEX', 'RACE', 'SPANISH_HISPANIC_ORIGIN','ULCERATION', 'PRIMARY_SITE'])),\n",
    "    (\"imputer\", MostFrequentImputer()),\n",
    "    (\"cat_encoder\", OneHotEncoder(sparse=False))\n",
    "])"
   ]
  },
  {
   "cell_type": "code",
   "execution_count": 165,
   "metadata": {},
   "outputs": [
    {
     "data": {
      "text/plain": [
       "CS_LYMPH_NODE_METS         1.000000\n",
       "DEPTH                      0.255615\n",
       "CS_EXTENSION               0.211856\n",
       "ULCERATION                 0.192636\n",
       "PRIMARY_SITE               0.030250\n",
       "SPANISH_HISPANIC_ORIGIN    0.017813\n",
       "RACE                       0.007583\n",
       "SEX                       -0.016723\n",
       "MITOSES                   -0.053161\n",
       "AGE                       -0.067096\n",
       "Name: CS_LYMPH_NODE_METS, dtype: float64"
      ]
     },
     "execution_count": 165,
     "metadata": {},
     "output_type": "execute_result"
    }
   ],
   "source": [
    "corr_matrix = new_df.corr()\n",
    "corr_matrix[\"CS_LYMPH_NODE_METS\"].sort_values(ascending=False)"
   ]
  },
  {
   "cell_type": "code",
   "execution_count": 166,
   "metadata": {},
   "outputs": [
    {
     "name": "stdout",
     "output_type": "stream",
     "text": [
      "100855\n"
     ]
    }
   ],
   "source": [
    "train_num = num_pipeline.fit_transform(X_train)\n",
    "print(len(train_num))"
   ]
  },
  {
   "cell_type": "code",
   "execution_count": 167,
   "metadata": {},
   "outputs": [],
   "source": [
    "cat_pipeline.fit_transform(X_train);"
   ]
  },
  {
   "cell_type": "markdown",
   "metadata": {},
   "source": [
    "### Pre-processing the data\n",
    "\n",
    "Now, I want to take out the numerical attributes and the categorical attributes and format the data according to the pipeline above. In addition, I split the data again into a cross-validation set in order to better tune the model parameters."
   ]
  },
  {
   "cell_type": "code",
   "execution_count": 168,
   "metadata": {},
   "outputs": [],
   "source": [
    "from sklearn.pipeline import FeatureUnion\n",
    "\n",
    "preprocess_pipeline = FeatureUnion(transformer_list=[\n",
    "    (\"num_pipeline\", num_pipeline),\n",
    "    (\"cat_pipeline\", cat_pipeline)\n",
    "])\n",
    "\n",
    "x_train = preprocess_pipeline.fit_transform(X_train)\n",
    "x_train\n",
    "from sklearn.preprocessing import MinMaxScaler\n",
    "sc = MinMaxScaler()\n",
    "x_train = sc.fit_transform(x_train)\n",
    "x_cv, x_train = x_train[:10000, :], x_train[10000:,:]\n",
    "y_cv, y_train = y_train[:10000], y_train[10000:]"
   ]
  },
  {
   "cell_type": "markdown",
   "metadata": {},
   "source": [
    "# Methods for Estimating\n",
    "\n",
    "Our baseline for estimating is to predict the majority class, i.e. that everyone doesn't need the SLNB. This gives us a point of comparison for the accuracy of our method: we must perform better than this in a meaningful way for our new model to be performing well."
   ]
  },
  {
   "cell_type": "code",
   "execution_count": 169,
   "metadata": {},
   "outputs": [],
   "source": [
    "from sklearn.base import BaseEstimator\n",
    "\n",
    "class BaseLine(BaseEstimator):\n",
    "    def fit(self, X, y=None):\n",
    "        pass\n",
    "    def predict(self,X):\n",
    "        return np.zeros((len(X),1))"
   ]
  },
  {
   "cell_type": "code",
   "execution_count": 170,
   "metadata": {},
   "outputs": [
    {
     "data": {
      "text/plain": [
       "0.9288206850191122"
      ]
     },
     "execution_count": 170,
     "metadata": {},
     "output_type": "execute_result"
    }
   ],
   "source": [
    "from sklearn.model_selection import cross_val_score\n",
    "base_line_clf = BaseLine()\n",
    "base_scores = cross_val_score(base_line_clf,x_train,y_train,cv=10,scoring=\"accuracy\")\n",
    "base_scores.mean()"
   ]
  },
  {
   "cell_type": "code",
   "execution_count": 171,
   "metadata": {},
   "outputs": [
    {
     "name": "stdout",
     "output_type": "stream",
     "text": [
      "0.928765615541247\n",
      "Feature: 0, Score: 0.00000\n",
      "Feature: 1, Score: -0.99332\n",
      "Feature: 2, Score: 8.00622\n",
      "Feature: 3, Score: 4.91696\n",
      "Feature: 4, Score: 1.70398\n",
      "Feature: 5, Score: -0.39094\n",
      "Feature: 6, Score: 2.35686\n",
      "Feature: 7, Score: 1.06943\n",
      "Feature: 8, Score: 0.69911\n",
      "Feature: 9, Score: -6.22254\n",
      "Feature: 10, Score: -0.83089\n",
      "Feature: 11, Score: 0.77320\n",
      "Feature: 12, Score: 0.85482\n",
      "Feature: 13, Score: 0.37607\n",
      "Feature: 14, Score: -0.99170\n",
      "Feature: 15, Score: -1.15701\n",
      "Feature: 16, Score: -0.68076\n",
      "Feature: 17, Score: 0.01395\n",
      "Feature: 18, Score: 0.70476\n",
      "Feature: 19, Score: -2.06235\n",
      "Feature: 20, Score: -1.34757\n",
      "Feature: 21, Score: 0.34364\n",
      "Feature: 22, Score: -0.08109\n",
      "Feature: 23, Score: -0.22837\n",
      "Feature: 24, Score: -0.91608\n",
      "Feature: 25, Score: 0.83818\n",
      "Feature: 26, Score: 1.20022\n",
      "Feature: 27, Score: -1.24567\n",
      "Feature: 28, Score: -1.63713\n",
      "Feature: 29, Score: -0.21992\n",
      "Feature: 30, Score: 0.45426\n",
      "Feature: 31, Score: -2.47288\n",
      "Feature: 32, Score: 0.29364\n",
      "Feature: 33, Score: -1.18818\n",
      "Feature: 34, Score: -0.97542\n",
      "Feature: 35, Score: -0.74172\n",
      "Feature: 36, Score: -0.84599\n",
      "Feature: 37, Score: -0.49324\n",
      "Feature: 38, Score: -0.44643\n",
      "Feature: 39, Score: -0.64805\n",
      "Feature: 40, Score: -0.90282\n",
      "Feature: 41, Score: -0.68489\n",
      "Feature: 42, Score: -1.06200\n",
      "Feature: 43, Score: -0.52571\n",
      "Feature: 44, Score: -0.84713\n",
      "Feature: 45, Score: -0.31647\n",
      "Feature: 46, Score: -0.42412\n",
      "[[84256   132]\n",
      " [ 6340   127]]\n",
      "The precision is 0.49034749034749037, the recall is 0.019638162981289623, and the f1 score is 0.037763901278620275\n"
     ]
    }
   ],
   "source": [
    "from sklearn.linear_model import LogisticRegression\n",
    "from sklearn.metrics import accuracy_score\n",
    "from sklearn.metrics import recall_score\n",
    "from sklearn.metrics import precision_score\n",
    "from sklearn.metrics import f1_score\n",
    "\n",
    "log_clf = LogisticRegression(solver=\"liblinear\")\n",
    "log_clf.fit(x_train,y_train)\n",
    "log_scores = cross_val_score(log_clf, x_train,y_train,cv=10,scoring=\"accuracy\")\n",
    "y_pred = log_clf.predict(x_train)\n",
    "log_score = accuracy_score(y_train,y_pred)\n",
    "print(log_score)\n",
    "log_scores.mean()\n",
    "\n",
    "importance = log_clf.coef_[0]\n",
    "# summarize feature importance\n",
    "for i,v in enumerate(importance):\n",
    "    print('Feature: %0d, Score: %.5f' % (i,v))\n",
    "\n",
    "from sklearn.metrics import confusion_matrix\n",
    "print(confusion_matrix(y_train, y_pred))\n",
    "#y_pred = y_pred == 2\n",
    "#y_simple = y_train == 2\n",
    "log_f1 = f1_score(y_train,y_pred)\n",
    "log_recall = recall_score(y_train, y_pred)\n",
    "log_precision = precision_score(y_train,y_pred)\n",
    "print(f\"The precision is {log_precision}, the recall is {log_recall}, and the f1 score is {log_f1}\")\n",
    "\n"
   ]
  },
  {
   "cell_type": "code",
   "execution_count": 172,
   "metadata": {},
   "outputs": [
    {
     "name": "stdout",
     "output_type": "stream",
     "text": [
      "0.9324\n",
      "The precision is 0.5185185185185185, the recall is 0.0206794682422452, and the f1 score is 0.03977272727272727\n"
     ]
    },
    {
     "data": {
      "image/png": "[encoded data removed]",
      "text/plain": [
       "<Figure size 432x288 with 1 Axes>"
      ]
     },
     "metadata": {
      "needs_background": "light"
     },
     "output_type": "display_data"
    }
   ],
   "source": [
    "#x_test = preprocess_pipeline.transform(X_test) #running our train_set through the pipeline\n",
    "#x_test = sc.transform (x_test)\n",
    "y_pred = log_clf.predict(x_cv)\n",
    "\n",
    "#y_cv_test = y_cv == 2\n",
    "#print(sum(y_cv_test))\n",
    "#y_pred = y_pred == 2\n",
    "#print(sum(y_pred == 2))\n",
    "log_score = accuracy_score(y_cv, y_pred)\n",
    "print(log_score)\n",
    "#print(y_test)\n",
    "log_f1 = f1_score(y_cv,y_pred)\n",
    "log_recall = recall_score(y_cv, y_pred)\n",
    "log_precision = precision_score(y_cv,y_pred)\n",
    "print(f\"The precision is {log_precision}, the recall is {log_recall}, and the f1 score is {log_f1}\")\n",
    "\n",
    "\n",
    "y_proba = log_clf.predict_proba(x_cv)\n",
    "from sklearn.metrics import precision_recall_curve\n",
    "#precision, recall, thresholds = precision_recall_curve(y_cv, y_proba)\n",
    "\n",
    "from sklearn.metrics import plot_precision_recall_curve\n",
    "import matplotlib.pyplot as plt\n",
    "from sklearn.metrics import average_precision_score\n",
    "average_precision = average_precision_score(y_cv, y_pred)\n",
    "\n",
    "disp = plot_precision_recall_curve(log_clf, x_cv, y_cv)\n",
    "disp.ax_.set_title('2-class Precision-Recall curve: '\n",
    "                   'AP={0:0.2f}'.format(average_precision))\n",
    "\n",
    "\n",
    "\n",
    "misclassified = np.where(y_cv != y_pred)"
   ]
  },
  {
   "cell_type": "code",
   "execution_count": 173,
   "metadata": {},
   "outputs": [
    {
     "data": {
      "text/plain": [
       "201"
      ]
     },
     "execution_count": 173,
     "metadata": {},
     "output_type": "execute_result"
    }
   ],
   "source": [
    "x_miss = x_cv[misclassified]\n",
    "y_proba = log_clf.predict_proba(x_miss)\n",
    "\n",
    "super_misclassified = np.where(y_proba[:][:,1] < 0.10)\n",
    "\n",
    "x_features = x_miss[super_misclassified]\n",
    "\n",
    "len(x_features)\n",
    "\n",
    "#\n",
    "#import seaborn as sns\n",
    "##y_proba[:][:,0]\n",
    "#sns.scatterplot(x=y_proba[:][:,0], y=y_proba[:][:,1])\n",
    "\n",
    "#min(y_proba[:][:,1])\n",
    "#min(y_proba[:][:,0])"
   ]
  },
  {
   "cell_type": "code",
   "execution_count": 174,
   "metadata": {},
   "outputs": [
    {
     "name": "stdout",
     "output_type": "stream",
     "text": [
      "[[9310   13]\n",
      " [ 663   14]]\n"
     ]
    }
   ],
   "source": [
    "print(confusion_matrix(y_cv, y_pred))\n"
   ]
  },
  {
   "cell_type": "code",
   "execution_count": 175,
   "metadata": {},
   "outputs": [
    {
     "name": "stdout",
     "output_type": "stream",
     "text": [
      "0.8487480050630125\n",
      "The precision is 0.1954792800334868, the recall is 0.36106386268749036, and the f1 score is 0.2536389311318705\n",
      "[[74778  9610]\n",
      " [ 4132  2335]]\n",
      "0.8507\n",
      "The precision is 0.18174726989079562, the recall is 0.34416543574593794, and the f1 score is 0.23787646758550282\n",
      "[[8274 1049]\n",
      " [ 444  233]]\n",
      "0.00075809342667025\n",
      "0.3936235116945451\n"
     ]
    },
    {
     "data": {
      "image/png": "[encoded data removed]",
      "text/plain": [
       "<Figure size 432x288 with 1 Axes>"
      ]
     },
     "metadata": {
      "needs_background": "light"
     },
     "output_type": "display_data"
    }
   ],
   "source": [
    "from sklearn.naive_bayes import GaussianNB\n",
    "gnb = GaussianNB()\n",
    "y_pred = gnb.fit(x_train, y_train).predict(x_train)\n",
    "gnb_score = accuracy_score(y_train, y_pred)\n",
    "print(gnb_score)\n",
    "#print(y_test)\n",
    "gnb_f1 = f1_score(y_train,y_pred)\n",
    "gnb_recall = recall_score(y_train, y_pred)\n",
    "gnb_precision = precision_score(y_train,y_pred)\n",
    "print(f\"The precision is {gnb_precision}, the recall is {gnb_recall}, and the f1 score is {gnb_f1}\")\n",
    "print(confusion_matrix(y_train, y_pred))\n",
    "\n",
    "y_pred = gnb.fit(x_train, y_train).predict(x_cv)\n",
    "gnb_score = accuracy_score(y_cv, y_pred)\n",
    "print(gnb_score)\n",
    "#print(y_test)\n",
    "gnb_f1 = f1_score(y_cv,y_pred)\n",
    "gnb_recall = recall_score(y_cv, y_pred)\n",
    "gnb_precision = precision_score(y_cv,y_pred)\n",
    "print(f\"The precision is {gnb_precision}, the recall is {gnb_recall}, and the f1 score is {gnb_f1}\")\n",
    "print(confusion_matrix(y_cv, y_pred))\n",
    "\n",
    "misclassified = np.where(y_cv != y_pred)\n",
    "x_miss = x_cv[misclassified]\n",
    "y_proba = log_clf.predict_proba(x_miss)\n",
    "\n",
    "import seaborn as sns\n",
    "#y_proba[:][:,0]\n",
    "sns.scatterplot(x=y_proba[:][:,0], y=y_proba[:][:,1])\n",
    "\n",
    "print(min(y_proba[:][:,1]))\n",
    "print(min(y_proba[:][:,0]))"
   ]
  },
  {
   "cell_type": "code",
   "execution_count": 184,
   "metadata": {},
   "outputs": [
    {
     "name": "stdout",
     "output_type": "stream",
     "text": [
      "0.950778713334434\n",
      "The precision is 0.904993909866017, the recall is 0.3446729550023195, and the f1 score is 0.4992161254199329\n",
      "[[84154   234]\n",
      " [ 4238  2229]]\n",
      "0.9102\n",
      "The precision is 0.1536050156739812, the recall is 0.0723781388478582, and the f1 score is 0.09839357429718876\n",
      "[[9053  270]\n",
      " [ 628   49]]\n",
      "0.002753796886688686\n",
      "0.43910202795559317\n"
     ]
    },
    {
     "data": {
      "image/png": "[encoded data removed]",
      "text/plain": [
       "<Figure size 432x288 with 1 Axes>"
      ]
     },
     "metadata": {
      "needs_background": "light"
     },
     "output_type": "display_data"
    }
   ],
   "source": [
    "##Prone to Overfitting\n",
    "\n",
    "from sklearn.tree import DecisionTreeClassifier\n",
    "tree = DecisionTreeClassifier(random_state=42, max_depth = 15)\n",
    "tree.fit(x_train, y_train)\n",
    "\n",
    "y_pred = tree.predict(x_train)\n",
    "tree_score = accuracy_score(y_train, y_pred)\n",
    "print(tree_score)\n",
    "#print(y_test)\n",
    "tree_f1 = f1_score(y_train,y_pred)\n",
    "tree_recall = recall_score(y_train, y_pred)\n",
    "tree_precision = precision_score(y_train,y_pred)\n",
    "print(f\"The precision is {tree_precision}, the recall is {tree_recall}, and the f1 score is {tree_f1}\")\n",
    "print(confusion_matrix(y_train, y_pred))\n",
    "\n",
    "y_pred = tree.predict(x_cv)\n",
    "tree_score = accuracy_score(y_cv, y_pred)\n",
    "print(tree_score)\n",
    "#print(y_test)\n",
    "tree_f1 = f1_score(y_cv,y_pred)\n",
    "tree_recall = recall_score(y_cv, y_pred)\n",
    "tree_precision = precision_score(y_cv,y_pred)\n",
    "print(f\"The precision is {tree_precision}, the recall is {tree_recall}, and the f1 score is {tree_f1}\")\n",
    "print(confusion_matrix(y_cv, y_pred))\n",
    "\n",
    "misclassified = np.where(y_cv != y_pred)\n",
    "x_miss = x_cv[misclassified]\n",
    "y_proba = log_clf.predict_proba(x_miss)\n",
    "\n",
    "import seaborn as sns\n",
    "#y_proba[:][:,0]\n",
    "sns.scatterplot(x=y_proba[:][:,0], y=y_proba[:][:,1])\n",
    "\n",
    "print(min(y_proba[:][:,1]))\n",
    "print(min(y_proba[:][:,0]))"
   ]
  },
  {
   "cell_type": "code",
   "execution_count": 185,
   "metadata": {},
   "outputs": [
    {
     "name": "stdout",
     "output_type": "stream",
     "text": [
      "0.9102\n",
      "The precision is 0.9791666666666666, the recall is 0.021802999845368796, and the f1 score is 0.042656179095446986 for depth 10\n",
      "[[84385     3]\n",
      " [ 6326   141]]\n",
      "0.9321\n",
      "The precision is 0.3333333333333333, the recall is 0.0029542097488921715, and the f1 score is 0.005856515373352856 for depth 10\n",
      "[[9319    4]\n",
      " [ 675    2]]\n",
      "0.002753796886688686\n",
      "0.3936235116945451\n",
      "0.9102\n",
      "The precision is 0.9976435304198801, the recall is 0.7201175197154785, and the f1 score is 0.836461607543781 for depth 20\n",
      "[[84377    11]\n",
      " [ 1810  4657]]\n",
      "0.9267\n",
      "The precision is 0.2878787878787879, the recall is 0.056129985228951254, and the f1 score is 0.09394313967861558 for depth 20\n",
      "[[9229   94]\n",
      " [ 639   38]]\n",
      "0.002753796886688686\n",
      "0.3936235116945451\n",
      "0.9102\n",
      "The precision is 0.9929818834666232, the recall is 0.940776248646977, and the f1 score is 0.9661743687470224 for depth 30\n",
      "[[84345    43]\n",
      " [  383  6084]]\n",
      "0.9198\n",
      "The precision is 0.2171945701357466, the recall is 0.07090103397341212, and the f1 score is 0.10690423162583519 for depth 30\n",
      "[[9150  173]\n",
      " [ 629   48]]\n",
      "0.002753796886688686\n",
      "0.3936235116945451\n"
     ]
    },
    {
     "data": {
      "image/png": "[encoded data removed]",
      "text/plain": [
       "<Figure size 432x288 with 1 Axes>"
      ]
     },
     "metadata": {
      "needs_background": "light"
     },
     "output_type": "display_data"
    }
   ],
   "source": [
    "from sklearn.ensemble import RandomForestClassifier\n",
    "\n",
    "depth = [10, 20, 30]\n",
    "\n",
    "for d in depth:\n",
    "\n",
    "    forest = RandomForestClassifier(max_depth = d,random_state=42)\n",
    "    forest.fit(x_train,y_train)\n",
    "    y_pred = forest.predict(x_train)\n",
    "    forest_score = accuracy_score(y_train, y_pred)\n",
    "    print(tree_score)\n",
    "    #print(y_test)\n",
    "    forest_f1 = f1_score(y_train,y_pred)\n",
    "    forest_recall = recall_score(y_train, y_pred)\n",
    "    forest_precision = precision_score(y_train,y_pred)\n",
    "    print(f\"The precision is {forest_precision}, the recall is {forest_recall}, and the f1 score is {forest_f1} for depth {d}\")\n",
    "    print(confusion_matrix(y_train, y_pred))\n",
    "    \n",
    "    y_pred = forest.predict(x_cv)\n",
    "    forest_score = accuracy_score(y_cv, y_pred)\n",
    "    print(forest_score)\n",
    "    #print(y_test)\n",
    "    forest_f1 = f1_score(y_cv,y_pred)\n",
    "    forest_recall = recall_score(y_cv, y_pred)\n",
    "    forest_precision = precision_score(y_cv,y_pred)\n",
    "    print(f\"The precision is {forest_precision}, the recall is {forest_recall}, and the f1 score is {forest_f1} for depth {d}\")\n",
    "    print(confusion_matrix(y_cv, y_pred))\n",
    "    misclassified = np.where(y_cv != y_pred)\n",
    "    x_miss = x_cv[misclassified]\n",
    "    y_proba = log_clf.predict_proba(x_miss)\n",
    "\n",
    "    import seaborn as sns\n",
    "#y_proba[:][:,0]\n",
    "    sns.scatterplot(x=y_proba[:][:,0], y=y_proba[:][:,1])\n",
    "\n",
    "    print(min(y_proba[:][:,1]))\n",
    "    print(min(y_proba[:][:,0]))\n",
    "\n"
   ]
  },
  {
   "cell_type": "code",
   "execution_count": null,
   "metadata": {},
   "outputs": [],
   "source": []
  },
  {
   "cell_type": "code",
   "execution_count": 178,
   "metadata": {},
   "outputs": [],
   "source": [
    "# import tensorflow as tf # Note that tf is the standard way to import tensorflow, much like pd is to pandas\n",
    "# from tensorflow import keras\n",
    "\n",
    "# # The code to build the neural network architecture. \n",
    "\n",
    "# # We will use the Keras sequential API to build the neural network one layer at a time\n",
    "# NN = keras.models.Sequential()\n",
    "\n",
    "# # Next add an input layer\n",
    "# # '.Flatten' tells keras to reshape the data with this layer and not transform the inputs\n",
    "# # We specified the input shape as [28,28] since that is the dimensions of our input arrays\n",
    "# #print(len(x_train), len(x_train[0]))\n",
    "# NN.add(keras.layers.Flatten(input_shape=(len(x_train[0]),)))\n",
    "\n",
    "# # Make the hidden layers\n",
    "# # The '.Dense' part just tells keras/tensorflow that this is just a regular densely connected layer.\n",
    "# NN.add(keras.layers.Dense(10, activation='relu'))\n",
    "# NN.add(keras.layers.Dense(5, activation='relu'))\n",
    "\n",
    "# # Lastly add the output layer\n",
    "# # Remember to specify the softmax activation function\n",
    "# NN.add(keras.layers.Dense(2, activation='sigmoid'))"
   ]
  },
  {
   "cell_type": "code",
   "execution_count": 179,
   "metadata": {},
   "outputs": [],
   "source": [
    "#NN.summary()"
   ]
  },
  {
   "cell_type": "code",
   "execution_count": 180,
   "metadata": {},
   "outputs": [],
   "source": [
    "# weights, biases = NN.layers[1].get_weights()"
   ]
  },
  {
   "cell_type": "code",
   "execution_count": 181,
   "metadata": {},
   "outputs": [],
   "source": [
    "# #from keras.optimizers import SGD\n",
    "# opt = keras.optimizers.SGD(learning_rate=0.1)\n",
    "#  NN.compile(loss = 'sparse_categorical_crossentropy', # This is explained much more below\n",
    "#           optimizer = opt, # sgd stands for stochastic gradient descent\n",
    "#           metrics = ['accuracy']) # These are other metrics you would like to calculate after each epoch"
   ]
  },
  {
   "cell_type": "code",
   "execution_count": 182,
   "metadata": {},
   "outputs": [],
   "source": [
    "# history = NN.fit(x_train, y_train, epochs = 30,\n",
    "#                  validation_data = (x_cv, y_cv))"
   ]
  },
  {
   "cell_type": "code",
   "execution_count": 183,
   "metadata": {},
   "outputs": [],
   "source": [
    "# import pandas as pd\n",
    "# import matplotlib.pyplot as plt\n",
    "# %matplotlib inline\n",
    "\n",
    "# pd.DataFrame(history.history).plot(figsize=(8,5))\n",
    "# plt.grid(True)\n",
    "# plt.gca().set_ylim(0,1)\n",
    "# plt.show();"
   ]
  },
  {
   "cell_type": "code",
   "execution_count": null,
   "metadata": {},
   "outputs": [],
   "source": []
  }
 ],
 "metadata": {
  "kernelspec": {
   "display_name": "Python 3",
   "language": "python",
   "name": "python3"
  },
  "language_info": {
   "codemirror_mode": {
    "name": "ipython",
    "version": 3
   },
   "file_extension": ".py",
   "mimetype": "text/x-python",
   "name": "python",
   "nbconvert_exporter": "python",
   "pygments_lexer": "ipython3",
   "version": "3.7.6"
  }
 },
 "nbformat": 4,
 "nbformat_minor": 4
}
