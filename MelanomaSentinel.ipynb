{
 "cells": [
  {
   "cell_type": "markdown",
   "metadata": {},
   "source": [
    "# Personalized Melanoma Staging Model\n",
    "\n",
    "The goal of this project is to create an easily understood and used tool for doctors to predict whether patients need a sentinel lymph node biopsy (SLNB). SLNB are an invasive procedure and currently doctors suggest it to patients if there is around a 10% chance for a positive biopsy. These odds are mostly based upon the depth of the melanoma, so I would like to use more data in order to create better predictions for the odds that patients need the biopsy. \n",
    "\n",
    "## The Data\n",
    "I am using data from two sources: the National Cancer Database and the NIH's SEER Database. Currently, we are soley focusing on the NCDB's melanoma patients."
   ]
  },
  {
   "cell_type": "code",
   "execution_count": 1,
   "metadata": {},
   "outputs": [],
   "source": [
    "import pandas as pd\n",
    "\n",
    "mela = pd.read_csv('Melanoma.csv')"
   ]
  },
  {
   "cell_type": "code",
   "execution_count": 2,
   "metadata": {},
   "outputs": [
    {
     "name": "stdout",
     "output_type": "stream",
     "text": [
      "126\n"
     ]
    },
    {
     "data": {
      "text/plain": [
       "array(['PUF_CASE_ID', 'PUF_FACILITY_ID', 'FACILITY_TYPE_CD',\n",
       "       'FACILITY_LOCATION_CD', 'AGE', 'SEX', 'RACE',\n",
       "       'SPANISH_HISPANIC_ORIGIN', 'INSURANCE_STATUS', 'MED_INC_QUAR_00',\n",
       "       'NO_HSD_QUAR_00', 'UR_CD_03', 'MED_INC_QUAR_12', 'NO_HSD_QUAR_12',\n",
       "       'UR_CD_13', 'CROWFLY', 'CDCC_TOTAL_BEST', 'SEQUENCE_NUMBER',\n",
       "       'CLASS_OF_CASE', 'YEAR_OF_DIAGNOSIS', 'PRIMARY_SITE', 'LATERALITY',\n",
       "       'HISTOLOGY', 'BEHAVIOR', 'GRADE', 'DIAGNOSTIC_CONFIRMATION',\n",
       "       'TUMOR_SIZE', 'REGIONAL_NODES_POSITIVE', 'REGIONAL_NODES_EXAMINED',\n",
       "       'DX_STAGING_PROC_DAYS', 'RX_SUMM_DXSTG_PROC', 'TNM_CLIN_T',\n",
       "       'TNM_CLIN_N', 'TNM_CLIN_M', 'TNM_CLIN_STAGE_GROUP', 'TNM_PATH_T',\n",
       "       'TNM_PATH_N', 'TNM_PATH_M', 'TNM_PATH_STAGE_GROUP',\n",
       "       'TNM_EDITION_NUMBER', 'ANALYTIC_STAGE_GROUP', 'CS_METS_AT_DX',\n",
       "       'CS_METS_EVAL', 'CS_EXTENSION', 'CS_TUMOR_SIZEEXT_EVAL',\n",
       "       'CS_METS_DX_BONE', 'CS_METS_DX_BRAIN', 'CS_METS_DX_LIVER',\n",
       "       'CS_METS_DX_LUNG', 'LYMPH_VASCULAR_INVASION',\n",
       "       'CS_SITESPECIFIC_FACTOR_1', 'CS_SITESPECIFIC_FACTOR_2',\n",
       "       'CS_SITESPECIFIC_FACTOR_3', 'CS_SITESPECIFIC_FACTOR_4',\n",
       "       'CS_SITESPECIFIC_FACTOR_5', 'CS_SITESPECIFIC_FACTOR_6',\n",
       "       'CS_SITESPECIFIC_FACTOR_7', 'CS_SITESPECIFIC_FACTOR_8',\n",
       "       'CS_SITESPECIFIC_FACTOR_9', 'CS_SITESPECIFIC_FACTOR_10',\n",
       "       'CS_SITESPECIFIC_FACTOR_11', 'CS_SITESPECIFIC_FACTOR_12',\n",
       "       'CS_SITESPECIFIC_FACTOR_13', 'CS_SITESPECIFIC_FACTOR_14',\n",
       "       'CS_SITESPECIFIC_FACTOR_15', 'CS_SITESPECIFIC_FACTOR_16',\n",
       "       'CS_SITESPECIFIC_FACTOR_17', 'CS_SITESPECIFIC_FACTOR_18',\n",
       "       'CS_SITESPECIFIC_FACTOR_19', 'CS_SITESPECIFIC_FACTOR_20',\n",
       "       'CS_SITESPECIFIC_FACTOR_21', 'CS_SITESPECIFIC_FACTOR_22',\n",
       "       'CS_SITESPECIFIC_FACTOR_23', 'CS_SITESPECIFIC_FACTOR_24',\n",
       "       'CS_SITESPECIFIC_FACTOR_25', 'CS_VERSION_LATEST',\n",
       "       'DX_RX_STARTED_DAYS', 'DX_SURG_STARTED_DAYS',\n",
       "       'DX_DEFSURG_STARTED_DAYS', 'RX_SUMM_SURG_PRIM_SITE',\n",
       "       'RX_HOSP_SURG_APPR_2010', 'RX_SUMM_SURGICAL_MARGINS',\n",
       "       'RX_SUMM_SCOPE_REG_LN_SUR', 'RX_SUMM_SURG_OTH_REGDIS',\n",
       "       'SURG_DISCHARGE_DAYS', 'READM_HOSP_30_DAYS',\n",
       "       'REASON_FOR_NO_SURGERY', 'DX_RAD_STARTED_DAYS',\n",
       "       'RX_SUMM_RADIATION', 'RAD_LOCATION_OF_RX', 'RAD_TREAT_VOL',\n",
       "       'RAD_REGIONAL_RX_MODALITY', 'RAD_REGIONAL_DOSE_CGY',\n",
       "       'RAD_BOOST_RX_MODALITY', 'RAD_BOOST_DOSE_CGY', 'RAD_NUM_TREAT_VOL',\n",
       "       'RX_SUMM_SURGRAD_SEQ', 'RAD_ELAPSED_RX_DAYS',\n",
       "       'REASON_FOR_NO_RADIATION', 'DX_SYSTEMIC_STARTED_DAYS',\n",
       "       'DX_CHEMO_STARTED_DAYS', 'RX_SUMM_CHEMO',\n",
       "       'DX_HORMONE_STARTED_DAYS', 'RX_SUMM_HORMONE',\n",
       "       'DX_IMMUNO_STARTED_DAYS', 'RX_SUMM_IMMUNOTHERAPY',\n",
       "       'RX_SUMM_TRNSPLNT_ENDO', 'RX_SUMM_SYSTEMIC_SUR_SEQ',\n",
       "       'DX_OTHER_STARTED_DAYS', 'RX_SUMM_OTHER', 'PALLIATIVE_CARE',\n",
       "       'RX_SUMM_TREATMENT_STATUS', 'PUF_30_DAY_MORT_CD',\n",
       "       'PUF_90_DAY_MORT_CD', 'DX_LASTCONTACT_DEATH_MONTHS',\n",
       "       'PUF_VITAL_STATUS', 'RX_HOSP_SURG_PRIM_SITE', 'RX_HOSP_CHEMO',\n",
       "       'RX_HOSP_IMMUNOTHERAPY', 'RX_HOSP_HORMONE', 'RX_HOSP_OTHER',\n",
       "       'PUF_MULT_SOURCE', 'PUF_REFERENCE_DATE_FLAG',\n",
       "       'RX_SUMM_SCOPE_REG_LN_2012', 'RX_HOSP_DXSTG_PROC',\n",
       "       'PALLIATIVE_CARE_HOSP'], dtype=object)"
      ]
     },
     "execution_count": 2,
     "metadata": {},
     "output_type": "execute_result"
    }
   ],
   "source": [
    "print(len(mela.columns.values))\n",
    "mela.columns.values"
   ]
  },
  {
   "cell_type": "code",
   "execution_count": 3,
   "metadata": {},
   "outputs": [
    {
     "name": "stdout",
     "output_type": "stream",
     "text": [
      "<class 'pandas.core.frame.DataFrame'>\n",
      "RangeIndex: 523492 entries, 0 to 523491\n",
      "Columns: 126 entries, PUF_CASE_ID to PALLIATIVE_CARE_HOSP\n",
      "dtypes: float64(64), int64(51), object(11)\n",
      "memory usage: 503.2+ MB\n"
     ]
    }
   ],
   "source": [
    "mela.info()"
   ]
  },
  {
   "cell_type": "markdown",
   "metadata": {},
   "source": [
    "As we can see, we have 523492 patients with 126 features (or attributes). Since it is a database, not all of these attributes would be known before a SLNB would be suggested and others of them would be irrelevant to the need for a biopsy. For example, <code>PUF_FACILITY_ID</code> (or the facility where these data were recorded) likely doesn't influence a patient's need for a biopsy. I will use the following subset of features below:\n",
    "\n",
    "- <code>AGE</code>: The age of the patient\n",
    "- <code>SEX</code>: The sex of the patient\n",
    "- <code>RACE</code>: The race of the patient\n",
    "- <code>SPANISH_HISPANIC_ORIGIN</code>: Indicates whether a patient is hispanic\n",
    "- <code>CS_SITESPECIFIC_FACTOR_1</code>: The depth of the tumor. I rename this feature <code>DEPTH</code> to be more easily interpable\n",
    "- <code>CS_SITESPECIFIC_FACTOR_2</code>: The formation of an ulcer on the skin. I rename this feature <code>ULCERATION</code> to be more easily interpable\n",
    "- <code>CS_EXTENSION</code>: Indicates the extent of the spread of the melanoma.\n",
    "- <code>CS_SITESPECIFIC_FACTOR_7</code>: Categories for the number of mitoses per square mm around a \"hot spot\". I rename this feature to <code>MITOSES</code> for interprability.\n",
    "- <code>PRIMARY_SITE</code>: The main site for the melanoma. The options are:\n",
    "    - <code>C44.0</code>: Skin of lips, NOS\n",
    "    - <code>C44.1</code>: Eyelid\n",
    "    - <code>C44.2</code>: External Ear\n",
    "    - <code>C44.3</code>: Skin of other and unspecified parts of face\n",
    "    - <code>C44.4</code>: Skin of scalp and neck\n",
    "    - <code>C44.5</code>: Skin of the trunk\n",
    "    - <code>C44.6</code>: Skin of upper limb and shoulder\n",
    "    - <code>C44.7</code>: Skin of lower limb and hip\n",
    "    - <code>C44.8</code>: Overlapping lesion of skin\n",
    "    - <code>C44.9</code>: Skin, NOS\n",
    " \n",
    "We are trying to calssify the patients into whether they had a positive lymph node biopsy or not. This is recorded in <code>TNM_PATH_N</code> or <code>REGIONAL_NODES_POSITIVE</code>."
   ]
  },
  {
   "cell_type": "code",
   "execution_count": 378,
   "metadata": {},
   "outputs": [],
   "source": [
    "#mela['TNM_PATH_N'].value_counts()"
   ]
  },
  {
   "cell_type": "markdown",
   "metadata": {},
   "source": [
    "## Data Cleaning and Feature Combining\n",
    "\n",
    "Some of the rows of the features are missing data. To start with, I will drop rows with missing data in order to have the best possible training data possible. This is a reasonable assumption currently because I have a large amount of training data, but I can work on creating a model including interpolation at a later point."
   ]
  },
  {
   "cell_type": "code",
   "execution_count": 4,
   "metadata": {},
   "outputs": [],
   "source": [
    "attribs = ['AGE', 'SEX', 'CS_SITESPECIFIC_FACTOR_1', 'CS_SITESPECIFIC_FACTOR_2',\n",
    "           'CS_SITESPECIFIC_FACTOR_7', 'CS_EXTENSION', 'PRIMARY_SITE', 'CS_SITESPECIFIC_FACTOR_3']\n",
    "#attribs = ['AGE', 'SEX', 'RACE', 'SPANISH_HISPANIC_ORIGIN', 'CS_SITESPECIFIC_FACTOR_1', 'CS_SITESPECIFIC_FACTOR_2',\n",
    "#           'CS_SITESPECIFIC_FACTOR_7', 'CS_EXTENSION', 'PRIMARY_SITE', 'REGIONAL_NODES_POSITIVE']\n",
    "#attribs = ['AGE', 'SEX', 'RACE', 'SPANISH_HISPANIC_ORIGIN', 'CS_SITESPECIFIC_FACTOR_1', 'CS_SITESPECIFIC_FACTOR_2',\n",
    "#           'CS_SITESPECIFIC_FACTOR_7', 'CS_EXTENSION', 'PRIMARY_SITE', 'TNM_PATH_N']\n",
    "\n",
    "#attribs = ['AGE', 'SEX', 'CS_SITESPECIFIC_FACTOR_1', 'CS_SITESPECIFIC_FACTOR_2',\n",
    "#           'CS_SITESPECIFIC_FACTOR_7', 'CS_EXTENSION', 'PRIMARY_SITE', 'TNM_PATH_N']"
   ]
  },
  {
   "cell_type": "code",
   "execution_count": 5,
   "metadata": {},
   "outputs": [
    {
     "name": "stdout",
     "output_type": "stream",
     "text": [
      "<class 'pandas.core.frame.DataFrame'>\n",
      "Int64Index: 517967 entries, 0 to 523491\n",
      "Data columns (total 8 columns):\n",
      " #   Column                    Non-Null Count   Dtype  \n",
      "---  ------                    --------------   -----  \n",
      " 0   AGE                       517967 non-null  int64  \n",
      " 1   SEX                       517967 non-null  int64  \n",
      " 2   CS_SITESPECIFIC_FACTOR_1  517967 non-null  float64\n",
      " 3   CS_SITESPECIFIC_FACTOR_2  517967 non-null  float64\n",
      " 4   CS_SITESPECIFIC_FACTOR_7  517967 non-null  float64\n",
      " 5   CS_EXTENSION              517967 non-null  float64\n",
      " 6   PRIMARY_SITE              517967 non-null  object \n",
      " 7   CS_SITESPECIFIC_FACTOR_3  517967 non-null  float64\n",
      "dtypes: float64(5), int64(2), object(1)\n",
      "memory usage: 35.6+ MB\n"
     ]
    }
   ],
   "source": [
    "data = mela[attribs].dropna()\n",
    "data.info()"
   ]
  },
  {
   "cell_type": "code",
   "execution_count": 381,
   "metadata": {},
   "outputs": [],
   "source": [
    "#data['SPANISH_HISPANIC_ORIGIN'].value_counts() #9 means unknown if HISPANIC, 99 FOR RACE MEANS RACE UNKNOWN"
   ]
  },
  {
   "cell_type": "code",
   "execution_count": 6,
   "metadata": {},
   "outputs": [],
   "source": [
    "data = data.rename(columns={'CS_SITESPECIFIC_FACTOR_1': \"DEPTH\", 'CS_SITESPECIFIC_FACTOR_2': 'ULCERATION',\n",
    "       'CS_SITESPECIFIC_FACTOR_7': 'MITOSES', 'CS_SITESPECIFIC_FACTOR_3': 'CS_LYMPH_NODE_METS'})"
   ]
  },
  {
   "cell_type": "code",
   "execution_count": 7,
   "metadata": {},
   "outputs": [],
   "source": [
    "#attribs = ['AGE', 'SEX', 'RACE', 'SPANISH_HISPANIC_ORIGIN', 'DEPTH', 'ULCERATION',\n",
    "#           'MITOSES', 'CS_EXTENSION', 'PRIMARY_SITE', 'REGIONAL_NODES_POSITIVE']\n",
    "attribs = ['AGE', 'SEX', 'DEPTH', 'ULCERATION',\n",
    "        'MITOSES', 'CS_EXTENSION', 'PRIMARY_SITE', 'CS_LYMPH_NODE_METS']\n",
    "\n",
    "#attribs = ['AGE', 'SEX', 'DEPTH', 'ULCERATION',\n",
    "#           'MITOSES', 'CS_EXTENSION', 'PRIMARY_SITE', 'TNM_PATH_N']"
   ]
  },
  {
   "cell_type": "markdown",
   "metadata": {},
   "source": [
    "### Dropping Missing Values\n",
    "For most of our attributes, a missing value is coded as 999. We care remove these entries easily by using .dropna(). However, I need to do additional cleaning for each of our attributes."
   ]
  },
  {
   "cell_type": "code",
   "execution_count": 8,
   "metadata": {},
   "outputs": [
    {
     "data": {
      "text/html": [
       "<div>\n",
       "<style scoped>\n",
       "    .dataframe tbody tr th:only-of-type {\n",
       "        vertical-align: middle;\n",
       "    }\n",
       "\n",
       "    .dataframe tbody tr th {\n",
       "        vertical-align: top;\n",
       "    }\n",
       "\n",
       "    .dataframe thead th {\n",
       "        text-align: right;\n",
       "    }\n",
       "</style>\n",
       "<table border=\"1\" class=\"dataframe\">\n",
       "  <thead>\n",
       "    <tr style=\"text-align: right;\">\n",
       "      <th></th>\n",
       "      <th>AGE</th>\n",
       "      <th>SEX</th>\n",
       "      <th>DEPTH</th>\n",
       "      <th>ULCERATION</th>\n",
       "      <th>MITOSES</th>\n",
       "      <th>CS_EXTENSION</th>\n",
       "      <th>CS_LYMPH_NODE_METS</th>\n",
       "    </tr>\n",
       "  </thead>\n",
       "  <tbody>\n",
       "    <tr>\n",
       "      <th>count</th>\n",
       "      <td>137489.000000</td>\n",
       "      <td>137489.000000</td>\n",
       "      <td>137489.000000</td>\n",
       "      <td>137489.000000</td>\n",
       "      <td>137489.000000</td>\n",
       "      <td>137489.000000</td>\n",
       "      <td>137489.000000</td>\n",
       "    </tr>\n",
       "    <tr>\n",
       "      <th>mean</th>\n",
       "      <td>61.719898</td>\n",
       "      <td>1.423372</td>\n",
       "      <td>145.677320</td>\n",
       "      <td>1.848010</td>\n",
       "      <td>2.232491</td>\n",
       "      <td>248.404636</td>\n",
       "      <td>6.167664</td>\n",
       "    </tr>\n",
       "    <tr>\n",
       "      <th>std</th>\n",
       "      <td>15.865377</td>\n",
       "      <td>0.494095</td>\n",
       "      <td>168.689893</td>\n",
       "      <td>3.881366</td>\n",
       "      <td>3.120823</td>\n",
       "      <td>113.127404</td>\n",
       "      <td>9.879907</td>\n",
       "    </tr>\n",
       "    <tr>\n",
       "      <th>min</th>\n",
       "      <td>18.000000</td>\n",
       "      <td>1.000000</td>\n",
       "      <td>0.000000</td>\n",
       "      <td>0.000000</td>\n",
       "      <td>0.000000</td>\n",
       "      <td>0.000000</td>\n",
       "      <td>0.000000</td>\n",
       "    </tr>\n",
       "    <tr>\n",
       "      <th>25%</th>\n",
       "      <td>51.000000</td>\n",
       "      <td>1.000000</td>\n",
       "      <td>40.000000</td>\n",
       "      <td>0.000000</td>\n",
       "      <td>0.000000</td>\n",
       "      <td>200.000000</td>\n",
       "      <td>5.000000</td>\n",
       "    </tr>\n",
       "    <tr>\n",
       "      <th>50%</th>\n",
       "      <td>63.000000</td>\n",
       "      <td>1.000000</td>\n",
       "      <td>85.000000</td>\n",
       "      <td>0.000000</td>\n",
       "      <td>1.000000</td>\n",
       "      <td>300.000000</td>\n",
       "      <td>5.000000</td>\n",
       "    </tr>\n",
       "    <tr>\n",
       "      <th>75%</th>\n",
       "      <td>74.000000</td>\n",
       "      <td>2.000000</td>\n",
       "      <td>180.000000</td>\n",
       "      <td>0.000000</td>\n",
       "      <td>3.000000</td>\n",
       "      <td>300.000000</td>\n",
       "      <td>5.000000</td>\n",
       "    </tr>\n",
       "    <tr>\n",
       "      <th>max</th>\n",
       "      <td>90.000000</td>\n",
       "      <td>2.000000</td>\n",
       "      <td>976.000000</td>\n",
       "      <td>10.000000</td>\n",
       "      <td>11.000000</td>\n",
       "      <td>950.000000</td>\n",
       "      <td>150.000000</td>\n",
       "    </tr>\n",
       "  </tbody>\n",
       "</table>\n",
       "</div>"
      ],
      "text/plain": [
       "                 AGE            SEX          DEPTH     ULCERATION  \\\n",
       "count  137489.000000  137489.000000  137489.000000  137489.000000   \n",
       "mean       61.719898       1.423372     145.677320       1.848010   \n",
       "std        15.865377       0.494095     168.689893       3.881366   \n",
       "min        18.000000       1.000000       0.000000       0.000000   \n",
       "25%        51.000000       1.000000      40.000000       0.000000   \n",
       "50%        63.000000       1.000000      85.000000       0.000000   \n",
       "75%        74.000000       2.000000     180.000000       0.000000   \n",
       "max        90.000000       2.000000     976.000000      10.000000   \n",
       "\n",
       "             MITOSES   CS_EXTENSION  CS_LYMPH_NODE_METS  \n",
       "count  137489.000000  137489.000000       137489.000000  \n",
       "mean        2.232491     248.404636            6.167664  \n",
       "std         3.120823     113.127404            9.879907  \n",
       "min         0.000000       0.000000            0.000000  \n",
       "25%         0.000000     200.000000            5.000000  \n",
       "50%         1.000000     300.000000            5.000000  \n",
       "75%         3.000000     300.000000            5.000000  \n",
       "max        11.000000     950.000000          150.000000  "
      ]
     },
     "execution_count": 8,
     "metadata": {},
     "output_type": "execute_result"
    }
   ],
   "source": [
    "new_df = data[(data != 999).all(1)]\n",
    "new_df = new_df[new_df['DEPTH'] != 980]\n",
    "#new_df = new_df[new_df['SPANISH_HISPANIC_ORIGIN'] != 9]\n",
    "new_df = new_df[new_df['MITOSES'] <= 11]\n",
    "\n",
    "#new_df.info()\n",
    "new_df.describe()"
   ]
  },
  {
   "cell_type": "markdown",
   "metadata": {},
   "source": [
    "### Combining Feature Values\n",
    "For some of our features, there have been two coding schema. For example, `ULCERATION` = 1.0 and `ULCERATION` = 10.0 both correspond to the presence of ulceration. Below, we combine our features in order to better represent the data."
   ]
  },
  {
   "cell_type": "code",
   "execution_count": 9,
   "metadata": {},
   "outputs": [
    {
     "data": {
      "text/plain": [
       "0.0    112080\n",
       "1.0     25409\n",
       "Name: ULCERATION, dtype: int64"
      ]
     },
     "execution_count": 9,
     "metadata": {},
     "output_type": "execute_result"
    }
   ],
   "source": [
    "new_df['ULCERATION'] = new_df['ULCERATION'].replace(10.0, 1.0)\n",
    "new_df['ULCERATION'].value_counts()"
   ]
  },
  {
   "cell_type": "markdown",
   "metadata": {},
   "source": [
    "The `CS_EXTENSION` attribute has a combination of features for the depth of the extension as well as the Clark Level. For now, I have removed anything that isn't about the Clark Level of the tumor."
   ]
  },
  {
   "cell_type": "code",
   "execution_count": 10,
   "metadata": {},
   "outputs": [
    {
     "data": {
      "text/plain": [
       "3.0    54609\n",
       "1.0    27994\n",
       "2.0    24766\n",
       "5.0     6102\n",
       "0.0     4337\n",
       "Name: CS_EXTENSION, dtype: int64"
      ]
     },
     "execution_count": 10,
     "metadata": {},
     "output_type": "execute_result"
    }
   ],
   "source": [
    "new_df['CS_EXTENSION'].value_counts()\n",
    "new_df['CS_EXTENSION'] = new_df['CS_EXTENSION'].replace([\n",
    "    310, 315, 320, 330, 335, 340, 350, 355, 360, 370, 375, 380, 400, 800, 950],\n",
    "    [999, 999, 999, 999, 999, 999, 999, 999, 999, 999, 999, 999, 999, 999, 999])\n",
    "new_df = new_df[(new_df != 999).all(1)]\n",
    "new_df['CS_EXTENSION'] = new_df['CS_EXTENSION']/100\n",
    "new_df['CS_EXTENSION'].value_counts()"
   ]
  },
  {
   "cell_type": "code",
   "execution_count": 387,
   "metadata": {},
   "outputs": [],
   "source": [
    "#new_df['REGIONAL_NODES_POSITIVE'] = new_df['REGIONAL_NODES_POSITIVE'].replace(98, 0)\n",
    "#new_df['REGIONAL_NODES_POSITIVE'].value_counts()\n",
    "#new_df = new_df[(new_df['REGIONAL_NODES_POSITIVE'] != 99)]\n",
    "\n",
    "#new_df['REGIONAL_NODES_POSITIVE'] = new_df['REGIONAL_NODES_POSITIVE'] > 0 \n",
    "#new_df['REGIONAL_NODES_POSITIVE'].value_counts()"
   ]
  },
  {
   "cell_type": "code",
   "execution_count": 11,
   "metadata": {},
   "outputs": [
    {
     "data": {
      "text/plain": [
       "0.0    105400\n",
       "1.0      8626\n",
       "Name: CS_LYMPH_NODE_METS, dtype: int64"
      ]
     },
     "execution_count": 11,
     "metadata": {},
     "output_type": "execute_result"
    }
   ],
   "source": [
    "new_df['CS_LYMPH_NODE_METS'] = new_df['CS_LYMPH_NODE_METS'].replace([5, 10],[0, 1])\n",
    "new_df = new_df[new_df['CS_LYMPH_NODE_METS'] <= 1.5]\n",
    "new_df['CS_LYMPH_NODE_METS'].value_counts()\n"
   ]
  },
  {
   "cell_type": "code",
   "execution_count": 389,
   "metadata": {},
   "outputs": [],
   "source": [
    "#new_df['TNM_PATH_N'].value_counts()\n",
    "#new_df = new_df[new_df['TNM_PATH_N'] != '88']\n",
    "#new_df = new_df[new_df['TNM_PATH_N'] != 'pX']\n",
    "\n",
    "#new_df['TNM_PATH_N'].value_counts()\n",
    "#new_df['TNM_PATH_N'] = new_df['TNM_PATH_N'].apply(lambda x: 0 if x == 'pX' else x)\n",
    "#new_df['TNM_PATH_N'] = new_df['TNM_PATH_N'].apply(lambda x: 0 if x == 'p0' else 1)\n",
    "#new_df['TNM_PATH_N'] = new_df['TNM_PATH_N'].apply(lambda x: x if x == 0 or x == 1 else 1)\n"
   ]
  },
  {
   "cell_type": "code",
   "execution_count": 390,
   "metadata": {},
   "outputs": [],
   "source": [
    "#new_df['TNM_PATH_N'].value_counts()"
   ]
  },
  {
   "cell_type": "markdown",
   "metadata": {},
   "source": [
    "For the `RACE` attribute, there are several demographics that we only have a single representative; for simplicity, we split these demographics into white, black, and other and hispanic or not hispanic."
   ]
  },
  {
   "cell_type": "code",
   "execution_count": 12,
   "metadata": {},
   "outputs": [],
   "source": [
    "import numpy as np\n",
    "#new_df['RACE'].value_counts()\n",
    "#a = np.array(new_df['RACE'].values.tolist())\n",
    "#new_df['RACE'] = np.where(a > 2, 3, a).tolist()\n",
    "#new_df['RACE'].value_counts()#new_df['RACE'] = new_df['RACE'].apply(lambda x: [y if y <= 1 else 2 for y in x])\n",
    "##new_df['RACE']\n",
    "#\n",
    "#a = np.array(new_df['SPANISH_HISPANIC_ORIGIN'].values.tolist())\n",
    "#new_df['SPANISH_HISPANIC_ORIGIN'] = np.where(a > 1, 1, a).tolist()\n",
    "#new_df['SPANISH_HISPANIC_ORIGIN'].value_counts()"
   ]
  },
  {
   "cell_type": "markdown",
   "metadata": {},
   "source": [
    "The other feature used is the `PRIMARY_SITE`, which codes where the melanoma is located. The features are fairly specific, so for now I coarse grain this into three categories: Head and neck, Trunk, or Extremity.\n",
    "\n",
    "Current labels are\n",
    "\n",
    "- `c440`: Skin of lip -> Head or Neck\n",
    "- `c441`: Eyelid -> Head or Neck\n",
    "- `c442`: External ear -> Head or Neck\n",
    "- `c443`: Skin of other and unspecified parts of face -> Head or Neck\n",
    "- `c444`: Skin of scalp and neck -> Head or Neck\n",
    "- `c445`: Skin of trunk -> Trunk\n",
    "- `c446`: Skin of upper limb and shoulder -> Extremity\n",
    "- `c447`: Skin of lower limb and hip -> Extremity\n",
    "- `c448`: Overlapping lesion of skin -> ?\n",
    "- `c449`: Skin, NOS -> ?"
   ]
  },
  {
   "cell_type": "code",
   "execution_count": 392,
   "metadata": {},
   "outputs": [],
   "source": [
    "#new_df['DEPTH_3'] = new_df['DEPTH'] ** 3"
   ]
  },
  {
   "cell_type": "code",
   "execution_count": 13,
   "metadata": {},
   "outputs": [],
   "source": [
    "new_df['PRIMARY_SITE'].value_counts()\n",
    "new_df['PRIMARY_SITE'] = new_df['PRIMARY_SITE'].replace([\n",
    "    'C440', 'C441', 'C442', 'C443', 'C444', 'C445', 'C446', 'C447', 'C448', 'C449'],\n",
    "    [0,0,0,0,0,1, 2,2,999,999])\n",
    "\n",
    "new_df = new_df[(new_df != 999).all(1)]\n"
   ]
  },
  {
   "cell_type": "code",
   "execution_count": 14,
   "metadata": {},
   "outputs": [],
   "source": [
    "#attribs = ['AGE', 'SEX', 'RACE', 'SPANISH_HISPANIC_ORIGIN', 'DEPTH', 'DEPTH_3', 'ULCERATION',\n",
    "#           'MITOSES', 'CS_EXTENSION', 'PRIMARY_SITE']\n",
    "\n",
    "attribs = ['AGE', 'SEX', 'DEPTH', 'ULCERATION',\n",
    "            'MITOSES', 'CS_EXTENSION', 'PRIMARY_SITE']\n",
    "\n",
    "X = new_df[attribs]\n",
    "y = new_df['CS_LYMPH_NODE_METS']\n",
    "#y = new_df['REGIONAL_NODES_POSITIVE']\n",
    "\n",
    "import numpy as np\n",
    "from sklearn.model_selection import train_test_split\n",
    "X_train, X_test, y_train, y_test = train_test_split(X, y, test_size=0.20, random_state=20)"
   ]
  },
  {
   "cell_type": "markdown",
   "metadata": {},
   "source": [
    "## Encoding Attributes\n",
    "\n",
    "We have a few <b>numerical attributes</b>\n",
    "- AGE\n",
    "- DEPTH\n",
    "- MITOSES\n",
    "- CS_EXTENSION\n",
    "\n",
    "\n",
    "<b>Categorical Attributes</b>\n",
    "- SEX\n",
    "- RACE\n",
    "- SPANISH_HISPANIC_ORIGIN\n",
    "- ULCERATION\n",
    "- PRIMARY_SITE"
   ]
  },
  {
   "cell_type": "code",
   "execution_count": 15,
   "metadata": {},
   "outputs": [],
   "source": [
    "from sklearn.base import BaseEstimator, TransformerMixin\n",
    "from sklearn.preprocessing import PolynomialFeatures\n",
    "\n",
    "\n",
    "class DataFrameSelector(BaseEstimator, TransformerMixin):\n",
    "    def __init__(self, attribute_names):\n",
    "        self.attribute_names = attribute_names\n",
    "    def fit(self, X, y=None):\n",
    "        return self\n",
    "    def transform(self, X, y=None):\n",
    "        return X[self.attribute_names]\n",
    "    \n",
    "    \n",
    "class MostFrequentImputer(BaseEstimator, TransformerMixin):\n",
    "    def fit(self, X,y=None):\n",
    "        self.most_frequent_ = pd.Series([X[c].value_counts().index[0] for c in X], index=X.columns)\n",
    "        return self\n",
    "    def transform(self, X, y=None):\n",
    "        return X.fillna(self.most_frequent_)\n",
    "\n",
    "from sklearn.pipeline import Pipeline\n",
    "from sklearn.impute import SimpleImputer\n",
    "\n",
    "num_pipeline = Pipeline([\n",
    "    (\"select_numeric\", DataFrameSelector([\"AGE\",\"DEPTH\", \"CS_EXTENSION\", \"MITOSES\"])),\n",
    "    ('poly', PolynomialFeatures(degree=3)),\n",
    "    (\"imputer\", SimpleImputer(strategy=\"median\")),\n",
    "     ])\n",
    "\n",
    "from sklearn.preprocessing import OneHotEncoder\n",
    "\n",
    "cat_pipeline = Pipeline([\n",
    "    (\"select_cat\", DataFrameSelector(['SEX','ULCERATION', 'PRIMARY_SITE'])),\n",
    "    (\"imputer\", MostFrequentImputer()),\n",
    "    (\"cat_encoder\", OneHotEncoder(sparse=False))\n",
    "])"
   ]
  },
  {
   "cell_type": "code",
   "execution_count": 16,
   "metadata": {},
   "outputs": [
    {
     "data": {
      "text/plain": [
       "CS_LYMPH_NODE_METS    1.000000\n",
       "DEPTH                 0.253322\n",
       "MITOSES               0.235096\n",
       "CS_EXTENSION          0.211535\n",
       "ULCERATION            0.191461\n",
       "PRIMARY_SITE          0.031266\n",
       "SEX                  -0.017389\n",
       "AGE                  -0.070249\n",
       "Name: CS_LYMPH_NODE_METS, dtype: float64"
      ]
     },
     "execution_count": 16,
     "metadata": {},
     "output_type": "execute_result"
    }
   ],
   "source": [
    "corr_matrix = new_df.corr()\n",
    "corr_matrix[\"CS_LYMPH_NODE_METS\"].sort_values(ascending=False)"
   ]
  },
  {
   "cell_type": "code",
   "execution_count": 22,
   "metadata": {},
   "outputs": [
    {
     "name": "stdout",
     "output_type": "stream",
     "text": [
      "90816\n",
      "104928.0\n"
     ]
    }
   ],
   "source": [
    "train_num = num_pipeline.fit_transform(X_train)\n",
    "print(len(train_num))\n",
    "print(len(y) - sum(y))"
   ]
  },
  {
   "cell_type": "code",
   "execution_count": 23,
   "metadata": {},
   "outputs": [],
   "source": [
    "cat_pipeline.fit_transform(X_train);"
   ]
  },
  {
   "cell_type": "markdown",
   "metadata": {},
   "source": [
    "### Pre-processing the data\n",
    "\n",
    "Now, I want to take out the numerical attributes and the categorical attributes and format the data according to the pipeline above. In addition, I split the data again into a cross-validation set in order to better tune the model parameters."
   ]
  },
  {
   "cell_type": "code",
   "execution_count": 24,
   "metadata": {},
   "outputs": [
    {
     "name": "stdout",
     "output_type": "stream",
     "text": [
      "        AGE  SEX  DEPTH  ULCERATION  MITOSES  CS_EXTENSION  PRIMARY_SITE\n",
      "272276   60    2   46.0         0.0      0.0           1.0             1\n",
      "32925    62    2   68.0         0.0      1.0           3.0             2\n",
      "318766   56    2  180.0         1.0      2.0           3.0             2\n",
      "167670   47    2   24.0         0.0      0.0           1.0             2\n",
      "147181   58    1   65.0         0.0      0.0           2.0             1\n",
      "416799    0.0\n",
      "116889    0.0\n",
      "127160    1.0\n",
      "266797    0.0\n",
      "171709    0.0\n",
      "         ... \n",
      "147926    0.0\n",
      "410205    0.0\n",
      "111826    0.0\n",
      "171287    0.0\n",
      "427091    0.0\n",
      "Name: CS_LYMPH_NODE_METS, Length: 80816, dtype: float64\n"
     ]
    }
   ],
   "source": [
    "from sklearn.pipeline import FeatureUnion\n",
    "\n",
    "preprocess_pipeline = FeatureUnion(transformer_list=[\n",
    "    (\"num_pipeline\", num_pipeline),\n",
    "    (\"cat_pipeline\", cat_pipeline)\n",
    "])\n",
    "\n",
    "x_train = preprocess_pipeline.fit_transform(X_train)\n",
    "from sklearn.preprocessing import MinMaxScaler\n",
    "sc = MinMaxScaler()\n",
    "x_train = sc.fit_transform(x_train)\n",
    "x_cv, x_train = x_train[:10000, :], x_train[10000:,:]\n",
    "y_cv, y_train = y_train[:10000], y_train[10000:]\n",
    "print(X_train.head())\n",
    "print(y_train)"
   ]
  },
  {
   "cell_type": "markdown",
   "metadata": {},
   "source": [
    "# Methods for Estimating\n",
    "\n",
    "Our baseline for estimating is to predict the majority class, i.e. that everyone doesn't need the SLNB. This gives us a point of comparison for the accuracy of our method: we must perform better than this in a meaningful way for our new model to be performing well."
   ]
  },
  {
   "cell_type": "code",
   "execution_count": 25,
   "metadata": {},
   "outputs": [],
   "source": [
    "class BaseLine(BaseEstimator):\n",
    "    def fit(self, X, y=None):\n",
    "        pass\n",
    "    def predict(self,X):\n",
    "        return np.zeros((len(X),1))"
   ]
  },
  {
   "cell_type": "code",
   "execution_count": 26,
   "metadata": {},
   "outputs": [
    {
     "data": {
      "text/plain": [
       "0.9249158689942139"
      ]
     },
     "execution_count": 26,
     "metadata": {},
     "output_type": "execute_result"
    }
   ],
   "source": [
    "from sklearn.model_selection import cross_val_score\n",
    "base_line_clf = BaseLine()\n",
    "base_scores = cross_val_score(base_line_clf,x_train,y_train,cv=10,scoring=\"accuracy\")\n",
    "base_scores.mean()"
   ]
  },
  {
   "cell_type": "code",
   "execution_count": 27,
   "metadata": {},
   "outputs": [
    {
     "name": "stdout",
     "output_type": "stream",
     "text": [
      "0.9252004553553752\n",
      "Feature: 0, Score: 0.00000\n",
      "Feature: 1, Score: -1.23276\n",
      "Feature: 2, Score: 7.13034\n",
      "Feature: 3, Score: 4.08934\n",
      "Feature: 4, Score: 4.82121\n",
      "Feature: 5, Score: -0.41630\n",
      "Feature: 6, Score: 2.08603\n",
      "Feature: 7, Score: 0.96442\n",
      "Feature: 8, Score: 0.84543\n",
      "Feature: 9, Score: -4.64221\n",
      "Feature: 10, Score: -0.51924\n",
      "Feature: 11, Score: -4.11678\n",
      "Feature: 12, Score: 0.65328\n",
      "Feature: 13, Score: -1.04679\n",
      "Feature: 14, Score: -4.89950\n",
      "Feature: 15, Score: -0.94650\n",
      "Feature: 16, Score: -0.00448\n",
      "Feature: 17, Score: 0.27557\n",
      "Feature: 18, Score: -0.42994\n",
      "Feature: 19, Score: -1.54968\n",
      "Feature: 20, Score: -1.06700\n",
      "Feature: 21, Score: -1.04168\n",
      "Feature: 22, Score: -0.34216\n",
      "Feature: 23, Score: -0.82208\n",
      "Feature: 24, Score: -0.23765\n",
      "Feature: 25, Score: 0.04695\n",
      "Feature: 26, Score: 0.67883\n",
      "Feature: 27, Score: 2.32335\n",
      "Feature: 28, Score: -1.40614\n",
      "Feature: 29, Score: 1.04124\n",
      "Feature: 30, Score: 0.29572\n",
      "Feature: 31, Score: -2.04057\n",
      "Feature: 32, Score: 0.99942\n",
      "Feature: 33, Score: -0.01488\n",
      "Feature: 34, Score: 2.22242\n",
      "Feature: 35, Score: -1.03557\n",
      "Feature: 36, Score: -1.16179\n",
      "Feature: 37, Score: -1.31121\n",
      "Feature: 38, Score: -0.88615\n",
      "Feature: 39, Score: -1.06710\n",
      "Feature: 40, Score: -0.49259\n",
      "Feature: 41, Score: -0.63766\n",
      "[[74646   102]\n",
      " [ 5943   125]]\n",
      "The precision is 0.5506607929515418, the recall is 0.02059986816084377, and the f1 score is 0.03971405877680698\n"
     ]
    }
   ],
   "source": [
    "from sklearn.linear_model import LogisticRegression\n",
    "from sklearn.metrics import accuracy_score\n",
    "from sklearn.metrics import recall_score\n",
    "from sklearn.metrics import precision_score\n",
    "from sklearn.metrics import f1_score\n",
    "\n",
    "log_clf = LogisticRegression(solver=\"liblinear\")\n",
    "log_clf.fit(x_train,y_train)\n",
    "log_scores = cross_val_score(log_clf, x_train,y_train,cv=10,scoring=\"accuracy\")\n",
    "y_pred = log_clf.predict(x_train)\n",
    "log_score = accuracy_score(y_train,y_pred)\n",
    "print(log_score)\n",
    "log_scores.mean()\n",
    "\n",
    "importance = log_clf.coef_[0]\n",
    "# summarize feature importance\n",
    "for i,v in enumerate(importance):\n",
    "    print('Feature: %0d, Score: %.5f' % (i,v))\n",
    "\n",
    "from sklearn.metrics import confusion_matrix\n",
    "print(confusion_matrix(y_train, y_pred))\n",
    "#y_pred = y_pred == 2\n",
    "#y_simple = y_train == 2\n",
    "log_f1 = f1_score(y_train,y_pred)\n",
    "log_recall = recall_score(y_train, y_pred)\n",
    "log_precision = precision_score(y_train,y_pred)\n",
    "print(f\"The precision is {log_precision}, the recall is {log_recall}, and the f1 score is {log_f1}\")\n",
    "\n"
   ]
  },
  {
   "cell_type": "code",
   "execution_count": 69,
   "metadata": {},
   "outputs": [
    {
     "name": "stdout",
     "output_type": "stream",
     "text": [
      "0.9241102889358703\n",
      "0.9191\n",
      "The precision is 0.43333333333333335, the recall is 0.016149068322981366, and the f1 score is 0.031137724550898204\n",
      "[[9178   17]\n",
      " [ 792   13]]\n"
     ]
    },
    {
     "data": {
      "image/png": "[encoded data removed]",
      "text/plain": [
       "<Figure size 432x288 with 1 Axes>"
      ]
     },
     "metadata": {
      "needs_background": "light"
     },
     "output_type": "display_data"
    },
    {
     "name": "stdout",
     "output_type": "stream",
     "text": [
      "0.6331471585935188\n"
     ]
    }
   ],
   "source": [
    "x_test = preprocess_pipeline.transform(X_test) #running our train_set through the pipeline\n",
    "x_test = sc.transform (x_test)\n",
    "y_pred = log_clf.predict(x_test)\n",
    "print(accuracy_score(y_pred,y_test))\n",
    "#y_cv_test = y_cv == 2\n",
    "#print(sum(y_cv_test))\n",
    "#y_pred = y_pred == 2\n",
    "#print(sum(y_pred == 2))\n",
    "y_pred = log_clf.predict(x_cv)\n",
    "\n",
    "log_score = accuracy_score(y_cv, y_pred)\n",
    "print(log_score)\n",
    "#print(y_test)\n",
    "log_f1 = f1_score(y_cv,y_pred)\n",
    "log_recall = recall_score(y_cv, y_pred)\n",
    "log_precision = precision_score(y_cv,y_pred)\n",
    "print(f\"The precision is {log_precision}, the recall is {log_recall}, and the f1 score is {log_f1}\")\n",
    "\n",
    "\n",
    "y_proba = log_clf.predict_proba(x_cv)\n",
    "from sklearn.metrics import precision_recall_curve\n",
    "#precision, recall, thresholds = precision_recall_curve(y_cv, y_proba)\n",
    "\n",
    "from sklearn.metrics import plot_precision_recall_curve\n",
    "import matplotlib.pyplot as plt\n",
    "from sklearn.metrics import average_precision_score\n",
    "average_precision = average_precision_score(y_cv, y_pred)\n",
    "\n",
    "disp = plot_precision_recall_curve(log_clf, x_cv, y_cv)\n",
    "disp.ax_.set_title('2-class Precision-Recall curve: '\n",
    "                   'AP={0:0.2f}'.format(average_precision))\n",
    "\n",
    "from sklearn import metrics\n",
    "from sklearn.preprocessing import label_binarize\n",
    "y = label_binarize(y_cv, classes = [0, 1])\n",
    "fpr_logreg, tpr_logreg, thresholds = metrics.roc_curve(y, y_proba[:,1], pos_label=1)\n",
    "misclassified = np.where(y_cv != y_pred)\n",
    "\n",
    "print(confusion_matrix(y_cv, y_pred))\n",
    "plt.show()\n",
    "print(max(y_proba[:,1]))"
   ]
  },
  {
   "cell_type": "code",
   "execution_count": 68,
   "metadata": {},
   "outputs": [
    {
     "data": {
      "image/png": "[encoded data removed]",
      "text/plain": [
       "<Figure size 432x288 with 1 Axes>"
      ]
     },
     "metadata": {
      "needs_background": "light"
     },
     "output_type": "display_data"
    }
   ],
   "source": [
    "y_proba = gnb.predict_proba(x_cv)\n",
    "fpr_gnb, tpr_gnb, thresholds = metrics.roc_curve(y, y_proba[:,1], pos_label=1)\n",
    "plt.plot(fpr_logreg, tpr_logreg)\n",
    "plt.plot(fpr_gnb, tpr_gnb)\n",
    "x = np.arange(0,1,0.01)\n",
    "plt.plot(x,x)\n",
    "plt.ylabel('True Positive Rate')\n",
    "plt.xlabel('False Positive Rate')\n",
    "plt.title('ROC Curve')\n",
    "plt.legend(['Logistic Regressor','Gaussian Naive Bayes',''])\n",
    "plt.show()"
   ]
  },
  {
   "cell_type": "code",
   "execution_count": 29,
   "metadata": {},
   "outputs": [
    {
     "data": {
      "text/plain": [
       "231"
      ]
     },
     "execution_count": 29,
     "metadata": {},
     "output_type": "execute_result"
    }
   ],
   "source": [
    "x_miss = x_cv[misclassified]\n",
    "y_proba = log_clf.predict_proba(x_miss)\n",
    "\n",
    "super_misclassified = np.where(y_proba[:][:,1] < 0.10)\n",
    "\n",
    "x_features = x_miss[super_misclassified]\n",
    "\n",
    "len(x_features)\n",
    "\n",
    "#\n",
    "#import seaborn as sns\n",
    "##y_proba[:][:,0]\n",
    "#sns.scatterplot(x=y_proba[:][:,0], y=y_proba[:][:,1])\n",
    "\n",
    "#min(y_proba[:][:,1])\n",
    "#min(y_proba[:][:,0])"
   ]
  },
  {
   "cell_type": "code",
   "execution_count": 30,
   "metadata": {},
   "outputs": [
    {
     "name": "stdout",
     "output_type": "stream",
     "text": [
      "[[9178   17]\n",
      " [ 792   13]]\n"
     ]
    }
   ],
   "source": [
    "print(confusion_matrix(y_cv, y_pred))\n"
   ]
  },
  {
   "cell_type": "code",
   "execution_count": 36,
   "metadata": {},
   "outputs": [
    {
     "name": "stdout",
     "output_type": "stream",
     "text": [
      "0.8392768758661651\n",
      "The precision is 0.20077821011673153, the recall is 0.38266315095583386, and the f1 score is 0.2633698179549708\n",
      "[[65505  9243]\n",
      " [ 3746  2322]]\n",
      "0.8421\n",
      "The precision is 0.22823033707865167, the recall is 0.40372670807453415, and the f1 score is 0.2916105877074921\n",
      "[[8096 1099]\n",
      " [ 480  325]]\n",
      "0.001343798041946182\n",
      "0.3668528414064812\n",
      "0.8421423537702607\n"
     ]
    },
    {
     "data": {
      "text/plain": [
       "Text(0.5, 1.0, '2-class Precision-Recall curve: AP=0.09')"
      ]
     },
     "execution_count": 36,
     "metadata": {},
     "output_type": "execute_result"
    },
    {
     "data": {
      "image/png": "[encoded data removed]",
      "text/plain": [
       "<Figure size 432x288 with 1 Axes>"
      ]
     },
     "metadata": {
      "needs_background": "light"
     },
     "output_type": "display_data"
    },
    {
     "data": {
      "image/png": "[encoded data removed]",
      "text/plain": [
       "<Figure size 432x288 with 1 Axes>"
      ]
     },
     "metadata": {
      "needs_background": "light"
     },
     "output_type": "display_data"
    }
   ],
   "source": [
    "from sklearn.naive_bayes import GaussianNB\n",
    "gnb = GaussianNB()\n",
    "y_pred = gnb.fit(x_train, y_train).predict(x_train)\n",
    "gnb_score = accuracy_score(y_train, y_pred)\n",
    "print(gnb_score)\n",
    "#print(y_test)\n",
    "gnb_f1 = f1_score(y_train,y_pred)\n",
    "gnb_recall = recall_score(y_train, y_pred)\n",
    "gnb_precision = precision_score(y_train,y_pred)\n",
    "print(f\"The precision is {gnb_precision}, the recall is {gnb_recall}, and the f1 score is {gnb_f1}\")\n",
    "print(confusion_matrix(y_train, y_pred))\n",
    "\n",
    "y_pred = gnb.fit(x_train, y_train).predict(x_cv)\n",
    "gnb_score = accuracy_score(y_cv, y_pred)\n",
    "print(gnb_score)\n",
    "#print(y_test)\n",
    "gnb_f1 = f1_score(y_cv,y_pred)\n",
    "gnb_recall = recall_score(y_cv, y_pred)\n",
    "gnb_precision = precision_score(y_cv,y_pred)\n",
    "print(f\"The precision is {gnb_precision}, the recall is {gnb_recall}, and the f1 score is {gnb_f1}\")\n",
    "print(confusion_matrix(y_cv, y_pred))\n",
    "\n",
    "misclassified = np.where(y_cv != y_pred)\n",
    "x_miss = x_cv[misclassified]\n",
    "y_proba = log_clf.predict_proba(x_miss)\n",
    "\n",
    "import seaborn as sns\n",
    "#y_proba[:][:,0]\n",
    "sns.scatterplot(x=y_proba[:][:,0], y=y_proba[:][:,1])\n",
    "\n",
    "print(min(y_proba[:][:,1]))\n",
    "print(min(y_proba[:][:,0]))\n",
    "\n",
    "y_pred = gnb.predict(x_test)\n",
    "print(accuracy_score(y_pred,y_test))\n",
    "\n",
    "\n",
    "disp = plot_precision_recall_curve(gnb, x_cv, y_cv)\n",
    "disp.ax_.set_title('2-class Precision-Recall curve: '\n",
    "                   'AP={0:0.2f}'.format(average_precision))\n"
   ]
  },
  {
   "cell_type": "code",
   "execution_count": 32,
   "metadata": {},
   "outputs": [
    {
     "name": "stdout",
     "output_type": "stream",
     "text": [
      "0.9521381904573352\n",
      "The precision is 0.9169825625473844, the recall is 0.39864864864864863, and the f1 score is 0.5557087066390994\n",
      "[[74529   219]\n",
      " [ 3649  2419]]\n",
      "0.8976\n",
      "The precision is 0.21409921671018275, the recall is 0.10186335403726708, and the f1 score is 0.13804713804713806\n",
      "[[8894  301]\n",
      " [ 723   82]]\n",
      "0.001343798041946182\n",
      "0.3668528414064812\n"
     ]
    },
    {
     "data": {
      "image/png": "[encoded data removed]",
      "text/plain": [
       "<Figure size 432x288 with 1 Axes>"
      ]
     },
     "metadata": {
      "needs_background": "light"
     },
     "output_type": "display_data"
    }
   ],
   "source": [
    "##Prone to Overfitting\n",
    "\n",
    "from sklearn.tree import DecisionTreeClassifier\n",
    "tree = DecisionTreeClassifier(random_state=42, max_depth = 15)\n",
    "tree.fit(x_train, y_train)\n",
    "\n",
    "y_pred = tree.predict(x_train)\n",
    "tree_score = accuracy_score(y_train, y_pred)\n",
    "print(tree_score)\n",
    "#print(y_test)\n",
    "tree_f1 = f1_score(y_train,y_pred)\n",
    "tree_recall = recall_score(y_train, y_pred)\n",
    "tree_precision = precision_score(y_train,y_pred)\n",
    "print(f\"The precision is {tree_precision}, the recall is {tree_recall}, and the f1 score is {tree_f1}\")\n",
    "print(confusion_matrix(y_train, y_pred))\n",
    "\n",
    "y_pred = tree.predict(x_cv)\n",
    "tree_score = accuracy_score(y_cv, y_pred)\n",
    "print(tree_score)\n",
    "#print(y_test)\n",
    "tree_f1 = f1_score(y_cv,y_pred)\n",
    "tree_recall = recall_score(y_cv, y_pred)\n",
    "tree_precision = precision_score(y_cv,y_pred)\n",
    "print(f\"The precision is {tree_precision}, the recall is {tree_recall}, and the f1 score is {tree_f1}\")\n",
    "print(confusion_matrix(y_cv, y_pred))\n",
    "\n",
    "misclassified = np.where(y_cv != y_pred)\n",
    "x_miss = x_cv[misclassified]\n",
    "y_proba = log_clf.predict_proba(x_miss)\n",
    "\n",
    "import seaborn as sns\n",
    "#y_proba[:][:,0]\n",
    "sns.scatterplot(x=y_proba[:][:,0], y=y_proba[:][:,1])\n",
    "\n",
    "print(min(y_proba[:][:,1]))\n",
    "print(min(y_proba[:][:,0]))"
   ]
  },
  {
   "cell_type": "code",
   "execution_count": 33,
   "metadata": {},
   "outputs": [
    {
     "name": "stdout",
     "output_type": "stream",
     "text": [
      "0.8976\n",
      "The precision is 0.9153605015673981, the recall is 0.04812129202373105, and the f1 score is 0.0914357288241741 for depth 10\n",
      "[[74721    27]\n",
      " [ 5776   292]]\n",
      "0.9189\n",
      "The precision is 0.3333333333333333, the recall is 0.007453416149068323, and the f1 score is 0.014580801944106925 for depth 10\n",
      "[[9183   12]\n",
      " [ 799    6]]\n",
      "0.001343798041946182\n",
      "0.3668528414064812\n",
      "0.8976\n",
      "The precision is 0.9984785916105194, the recall is 0.7570863546473302, and the f1 score is 0.8611866154278751 for depth 20\n",
      "[[74741     7]\n",
      " [ 1474  4594]]\n",
      "0.9114\n",
      "The precision is 0.28342245989304815, the recall is 0.06583850931677018, and the f1 score is 0.10685483870967744 for depth 20\n",
      "[[9061  134]\n",
      " [ 752   53]]\n",
      "0.001343798041946182\n",
      "0.3668528414064812\n",
      "0.8976\n",
      "The precision is 0.9924772568229531, the recall is 0.9349044166117337, and the f1 score is 0.9628309572301427 for depth 30\n",
      "[[74705    43]\n",
      " [  395  5673]]\n",
      "0.9078\n",
      "The precision is 0.27756653992395436, the recall is 0.0906832298136646, and the f1 score is 0.13670411985018727 for depth 30\n",
      "[[9005  190]\n",
      " [ 732   73]]\n",
      "0.001343798041946182\n",
      "0.3668528414064812\n"
     ]
    },
    {
     "data": {
      "image/png": "[encoded data removed]",
      "text/plain": [
       "<Figure size 432x288 with 1 Axes>"
      ]
     },
     "metadata": {
      "needs_background": "light"
     },
     "output_type": "display_data"
    }
   ],
   "source": [
    "from sklearn.ensemble import RandomForestClassifier\n",
    "\n",
    "depth = [10, 20, 30]\n",
    "\n",
    "for d in depth:\n",
    "\n",
    "    forest = RandomForestClassifier(max_depth = d,random_state=42)\n",
    "    forest.fit(x_train,y_train)\n",
    "    y_pred = forest.predict(x_train)\n",
    "    forest_score = accuracy_score(y_train, y_pred)\n",
    "    print(tree_score)\n",
    "    #print(y_test)\n",
    "    forest_f1 = f1_score(y_train,y_pred)\n",
    "    forest_recall = recall_score(y_train, y_pred)\n",
    "    forest_precision = precision_score(y_train,y_pred)\n",
    "    print(f\"The precision is {forest_precision}, the recall is {forest_recall}, and the f1 score is {forest_f1} for depth {d}\")\n",
    "    print(confusion_matrix(y_train, y_pred))\n",
    "    \n",
    "    y_pred = forest.predict(x_cv)\n",
    "    forest_score = accuracy_score(y_cv, y_pred)\n",
    "    print(forest_score)\n",
    "    #print(y_test)\n",
    "    forest_f1 = f1_score(y_cv,y_pred)\n",
    "    forest_recall = recall_score(y_cv, y_pred)\n",
    "    forest_precision = precision_score(y_cv,y_pred)\n",
    "    print(f\"The precision is {forest_precision}, the recall is {forest_recall}, and the f1 score is {forest_f1} for depth {d}\")\n",
    "    print(confusion_matrix(y_cv, y_pred))\n",
    "    misclassified = np.where(y_cv != y_pred)\n",
    "    x_miss = x_cv[misclassified]\n",
    "    y_proba = log_clf.predict_proba(x_miss)\n",
    "\n",
    "    import seaborn as sns\n",
    "#y_proba[:][:,0]\n",
    "    sns.scatterplot(x=y_proba[:][:,0], y=y_proba[:][:,1])\n",
    "\n",
    "    print(min(y_proba[:][:,1]))\n",
    "    print(min(y_proba[:][:,0]))\n",
    "\n"
   ]
  },
  {
   "cell_type": "code",
   "execution_count": null,
   "metadata": {},
   "outputs": [],
   "source": []
  },
  {
   "cell_type": "code",
   "execution_count": 409,
   "metadata": {},
   "outputs": [],
   "source": [
    "# import tensorflow as tf # Note that tf is the standard way to import tensorflow, much like pd is to pandas\n",
    "# from tensorflow import keras\n",
    "\n",
    "# # The code to build the neural network architecture. \n",
    "\n",
    "# # We will use the Keras sequential API to build the neural network one layer at a time\n",
    "# NN = keras.models.Sequential()\n",
    "\n",
    "# # Next add an input layer\n",
    "# # '.Flatten' tells keras to reshape the data with this layer and not transform the inputs\n",
    "# # We specified the input shape as [28,28] since that is the dimensions of our input arrays\n",
    "# #print(len(x_train), len(x_train[0]))\n",
    "# NN.add(keras.layers.Flatten(input_shape=(len(x_train[0]),)))\n",
    "\n",
    "# # Make the hidden layers\n",
    "# # The '.Dense' part just tells keras/tensorflow that this is just a regular densely connected layer.\n",
    "# NN.add(keras.layers.Dense(10, activation='relu'))\n",
    "# NN.add(keras.layers.Dense(5, activation='relu'))\n",
    "\n",
    "# # Lastly add the output layer\n",
    "# # Remember to specify the softmax activation function\n",
    "# NN.add(keras.layers.Dense(2, activation='sigmoid'))"
   ]
  },
  {
   "cell_type": "code",
   "execution_count": 410,
   "metadata": {},
   "outputs": [],
   "source": [
    "#NN.summary()"
   ]
  },
  {
   "cell_type": "code",
   "execution_count": 411,
   "metadata": {},
   "outputs": [],
   "source": [
    "# weights, biases = NN.layers[1].get_weights()"
   ]
  },
  {
   "cell_type": "code",
   "execution_count": 412,
   "metadata": {},
   "outputs": [],
   "source": [
    "# #from keras.optimizers import SGD\n",
    "# opt = keras.optimizers.SGD(learning_rate=0.1)\n",
    "#  NN.compile(loss = 'sparse_categorical_crossentropy', # This is explained much more below\n",
    "#           optimizer = opt, # sgd stands for stochastic gradient descent\n",
    "#           metrics = ['accuracy']) # These are other metrics you would like to calculate after each epoch"
   ]
  },
  {
   "cell_type": "code",
   "execution_count": 413,
   "metadata": {},
   "outputs": [],
   "source": [
    "# history = NN.fit(x_train, y_train, epochs = 30,\n",
    "#                  validation_data = (x_cv, y_cv))"
   ]
  },
  {
   "cell_type": "code",
   "execution_count": 414,
   "metadata": {},
   "outputs": [],
   "source": [
    "# import pandas as pd\n",
    "# import matplotlib.pyplot as plt\n",
    "# %matplotlib inline\n",
    "\n",
    "# pd.DataFrame(history.history).plot(figsize=(8,5))\n",
    "# plt.grid(True)\n",
    "# plt.gca().set_ylim(0,1)\n",
    "# plt.show();"
   ]
  },
  {
   "cell_type": "code",
   "execution_count": null,
   "metadata": {},
   "outputs": [],
   "source": []
  }
 ],
 "metadata": {
  "kernelspec": {
   "display_name": "Python 3",
   "language": "python",
   "name": "python3"
  },
  "language_info": {
   "codemirror_mode": {
    "name": "ipython",
    "version": 3
   },
   "file_extension": ".py",
   "mimetype": "text/x-python",
   "name": "python",
   "nbconvert_exporter": "python",
   "pygments_lexer": "ipython3",
   "version": "3.7.6"
  },
  "toc": {
   "base_numbering": 1,
   "nav_menu": {},
   "number_sections": true,
   "sideBar": true,
   "skip_h1_title": false,
   "title_cell": "Table of Contents",
   "title_sidebar": "Contents",
   "toc_cell": false,
   "toc_position": {},
   "toc_section_display": true,
   "toc_window_display": false
  }
 },
 "nbformat": 4,
 "nbformat_minor": 4
}
