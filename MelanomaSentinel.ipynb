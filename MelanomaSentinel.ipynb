{
 "cells": [
  {
   "cell_type": "markdown",
   "metadata": {},
   "source": [
    "# Personalized Melanoma Staging Model\n",
    "\n",
    "The goal of this project is to create an easily understood and used tool for doctors to predict whether patients need a sentinel lymph node biopsy (SLNB). SLNB are an invasive procedure and currently doctors suggest it to patients if there is around a 10% chance for a positive biopsy. These odds are mostly based upon the depth of the melanoma, so I would like to use more data in order to create better predictions for the odds that patients need the biopsy. \n",
    "\n",
    "## The Data\n",
    "I am using data from two sources: the National Cancer Database and the NIH's SEER Database. Currently, we are soley focusing on the NCDB's melanoma patients."
   ]
  },
  {
   "cell_type": "code",
   "execution_count": 269,
   "metadata": {},
   "outputs": [],
   "source": [
    "import pandas as pd\n",
    "import  psycopg2 as sql\n",
    "\n",
    "#mela = pd.read_csv('Melanoma.csv')\n",
    "sql_mela = sql.connect(host=\"localhost\", user=\"karenlarson\", dbname=\"melanoma\")\n",
    "#attribs = ['AGE', 'SEX', 'CS_SITESPECIFIC_FACTOR_1', 'CS_SITESPECIFIC_FACTOR_2',\n",
    " #          'CS_SITESPECIFIC_FACTOR_7', 'CS_EXTENSION', 'PRIMARY_SITE', 'CS_SITESPECIFIC_FACTOR_3']\n"
   ]
  },
  {
   "cell_type": "code",
   "execution_count": 270,
   "metadata": {},
   "outputs": [],
   "source": [
    "query = \"\"\"SELECT \"AGE\", \"SEX\", \"DEPTH\", \"ULCERATION\", \"MITOSES\", \"CS_EXTENSION\", \"PRIMARY_SITE\", \"CS_LYMPH_NODE_METS\"\n",
    "            FROM melanoma\"\"\"\n",
    "#query = \"\"\"SELECT \"AGE\", \"SEX\", \"DEPTH\", \"ULCERATION\", \"MITOSES\", \"CS_EXTENSION\", \"PRIMARY_SITE\", \"CS_LYMPH_NODE_METS\"\n",
    "#           FROM melanoma\n",
    "#           WHERE (\"DEPTH\" <= 400 AND \"DEPTH\" >= 100)\n",
    "#           OR ((\"DEPTH\" < 100 AND \"DEPTH\" >= 75) AND\n",
    "#           (\"ULCERATION\" >= 1 OR \"MITOSES\" >= 1 OR \"AGE\" < 40 )) OR \n",
    "#           ((\"DEPTH\" < 75 AND \"DEPTH\" >= 54) AND \n",
    "#           ((\"MITOSES\" >= 1 AND \"ULCERATION\" >= 1) OR (\"ULCERATION\" >= 1\n",
    "#           AND \"AGE\" < 40) OR (\"MITOSES\" >= 1 AND \"AGE\" < 40)));\"\"\""
   ]
  },
  {
   "cell_type": "code",
   "execution_count": 271,
   "metadata": {},
   "outputs": [],
   "source": [
    "mela = pd.read_sql_query(query, sql_mela)"
   ]
  },
  {
   "cell_type": "code",
   "execution_count": 272,
   "metadata": {},
   "outputs": [
    {
     "name": "stdout",
     "output_type": "stream",
     "text": [
      "<class 'pandas.core.frame.DataFrame'>\n",
      "RangeIndex: 860205 entries, 0 to 860204\n",
      "Data columns (total 8 columns):\n",
      " #   Column              Non-Null Count   Dtype  \n",
      "---  ------              --------------   -----  \n",
      " 0   AGE                 860205 non-null  int64  \n",
      " 1   SEX                 860205 non-null  int64  \n",
      " 2   DEPTH               860201 non-null  float64\n",
      " 3   ULCERATION          860202 non-null  float64\n",
      " 4   MITOSES             854683 non-null  float64\n",
      " 5   CS_EXTENSION        860202 non-null  float64\n",
      " 6   PRIMARY_SITE        860205 non-null  object \n",
      " 7   CS_LYMPH_NODE_METS  860202 non-null  float64\n",
      "dtypes: float64(5), int64(2), object(1)\n",
      "memory usage: 52.5+ MB\n"
     ]
    }
   ],
   "source": [
    "mela.info()\n",
    "data = mela.dropna()"
   ]
  },
  {
   "cell_type": "markdown",
   "metadata": {},
   "source": [
    "As we can see, we have 523492 patients with 126 features (or attributes). Since it is a database, not all of these attributes would be known before a SLNB would be suggested and others of them would be irrelevant to the need for a biopsy. For example, <code>PUF_FACILITY_ID</code> (or the facility where these data were recorded) likely doesn't influence a patient's need for a biopsy. I will use the following subset of features below:\n",
    "\n",
    "- <code>AGE</code>: The age of the patient\n",
    "- <code>SEX</code>: The sex of the patient\n",
    "- <code>RACE</code>: The race of the patient\n",
    "- <code>SPANISH_HISPANIC_ORIGIN</code>: Indicates whether a patient is hispanic\n",
    "- <code>CS_SITESPECIFIC_FACTOR_1</code>: The depth of the tumor. I rename this feature <code>DEPTH</code> to be more easily interpable\n",
    "- <code>CS_SITESPECIFIC_FACTOR_2</code>: The formation of an ulcer on the skin. I rename this feature <code>ULCERATION</code> to be more easily interpable\n",
    "- <code>CS_EXTENSION</code>: Indicates the extent of the spread of the melanoma.\n",
    "- <code>CS_SITESPECIFIC_FACTOR_7</code>: Categories for the number of mitoses per square mm around a \"hot spot\". I rename this feature to <code>MITOSES</code> for interprability.\n",
    "- <code>PRIMARY_SITE</code>: The main site for the melanoma. The options are:\n",
    "    - <code>C44.0</code>: Skin of lips, NOS\n",
    "    - <code>C44.1</code>: Eyelid\n",
    "    - <code>C44.2</code>: External Ear\n",
    "    - <code>C44.3</code>: Skin of other and unspecified parts of face\n",
    "    - <code>C44.4</code>: Skin of scalp and neck\n",
    "    - <code>C44.5</code>: Skin of the trunk\n",
    "    - <code>C44.6</code>: Skin of upper limb and shoulder\n",
    "    - <code>C44.7</code>: Skin of lower limb and hip\n",
    "    - <code>C44.8</code>: Overlapping lesion of skin\n",
    "    - <code>C44.9</code>: Skin, NOS\n",
    " \n",
    "We are trying to calssify the patients into whether they had a positive lymph node biopsy or not. This is recorded in <code>TNM_PATH_N</code> or <code>REGIONAL_NODES_POSITIVE</code>."
   ]
  },
  {
   "cell_type": "code",
   "execution_count": 273,
   "metadata": {},
   "outputs": [],
   "source": [
    "#mela['TNM_PATH_N'].value_counts()"
   ]
  },
  {
   "cell_type": "markdown",
   "metadata": {},
   "source": [
    "## Data Cleaning and Feature Combining\n",
    "\n",
    "Some of the rows of the features are missing data. To start with, I will drop rows with missing data in order to have the best possible training data possible. This is a reasonable assumption currently because I have a large amount of training data, but I can work on creating a model including interpolation at a later point."
   ]
  },
  {
   "cell_type": "code",
   "execution_count": 274,
   "metadata": {},
   "outputs": [],
   "source": [
    "#attribs = ['AGE', 'SEX', 'CS_SITESPECIFIC_FACTOR_1', 'CS_SITESPECIFIC_FACTOR_2',\n",
    "     #      'CS_SITESPECIFIC_FACTOR_7', 'CS_EXTENSION', 'PRIMARY_SITE', 'CS_SITESPECIFIC_FACTOR_3']\n",
    "#num_attribs = ['AGE', 'SEX', 'CS_SITESPECIFIC_FACTOR_1', 'CS_SITESPECIFIC_FACTOR_2',\n",
    "      #     'CS_SITESPECIFIC_FACTOR_7', 'CS_EXTENSION', 'CS_SITESPECIFIC_FACTOR_3']\n",
    "#attribs = ['AGE', 'SEX', 'RACE', 'SPANISH_HISPANIC_ORIGIN', 'CS_SITESPECIFIC_FACTOR_1', 'CS_SITESPECIFIC_FACTOR_2',\n",
    "#           'CS_SITESPECIFIC_FACTOR_7', 'CS_EXTENSION', 'PRIMARY_SITE', 'REGIONAL_NODES_POSITIVE']\n",
    "#attribs = ['AGE', 'SEX', 'RACE', 'SPANISH_HISPANIC_ORIGIN', 'CS_SITESPECIFIC_FACTOR_1', 'CS_SITESPECIFIC_FACTOR_2',\n",
    "#           'CS_SITESPECIFIC_FACTOR_7', 'CS_EXTENSION', 'PRIMARY_SITE', 'TNM_PATH_N']\n",
    "\n",
    "#attribs = ['AGE', 'SEX', 'CS_SITESPECIFIC_FACTOR_1', 'CS_SITESPECIFIC_FACTOR_2',\n",
    "#           'CS_SITESPECIFIC_FACTOR_7', 'CS_EXTENSION', 'PRIMARY_SITE', 'TNM_PATH_N']"
   ]
  },
  {
   "cell_type": "code",
   "execution_count": 275,
   "metadata": {},
   "outputs": [],
   "source": [
    "#data = mela[attribs].dropna()\n",
    "#data[num_attribs] = data[num_attribs].apply(pd.to_numeric, errors='coerce')\n",
    "#data.info()"
   ]
  },
  {
   "cell_type": "code",
   "execution_count": 276,
   "metadata": {},
   "outputs": [],
   "source": [
    "#data['SPANISH_HISPANIC_ORIGIN'].value_counts() #9 means unknown if HISPANIC, 99 FOR RACE MEANS RACE UNKNOWN"
   ]
  },
  {
   "cell_type": "code",
   "execution_count": 277,
   "metadata": {},
   "outputs": [],
   "source": [
    "#data = data.rename(columns={'CS_SITESPECIFIC_FACTOR_1': \"DEPTH\", 'CS_SITESPECIFIC_FACTOR_2': 'ULCERATION',\n",
    " #      'CS_SITESPECIFIC_FACTOR_7': 'MITOSES', 'CS_SITESPECIFIC_FACTOR_3': 'CS_LYMPH_NODE_METS'})"
   ]
  },
  {
   "cell_type": "code",
   "execution_count": 278,
   "metadata": {},
   "outputs": [],
   "source": [
    "#attribs = ['AGE', 'SEX', 'RACE', 'SPANISH_HISPANIC_ORIGIN', 'DEPTH', 'ULCERATION',\n",
    "#           'MITOSES', 'CS_EXTENSION', 'PRIMARY_SITE', 'REGIONAL_NODES_POSITIVE']\n",
    "#attribs = ['AGE', 'SEX',  'DEPTH', 'ULCERATION',\n",
    "  #      'MITOSES', 'CS_EXTENSION', 'PRIMARY_SITE', 'CS_LYMPH_NODE_METS']\n",
    "\n",
    "#attribs = ['AGE', 'SEX', 'DEPTH', 'ULCERATION',\n",
    "#           'MITOSES', 'CS_EXTENSION', 'PRIMARY_SITE', 'TNM_PATH_N']"
   ]
  },
  {
   "cell_type": "markdown",
   "metadata": {},
   "source": [
    "### Dropping Missing Values\n",
    "For most of our attributes, a missing value is coded as 999. We care remove these entries easily by using .dropna(). However, I need to do additional cleaning for each of our attributes."
   ]
  },
  {
   "cell_type": "code",
   "execution_count": 279,
   "metadata": {},
   "outputs": [],
   "source": [
    "#data['CS_LYMPH_NODE_METS'] = data['CS_LYMPH_NODE_METS'].replace([5, 10],[0, 1])\n",
    "#data = data[data['CS_LYMPH_NODE_METS'] <= 1.5]\n",
    "##data['CS_LYMPH_NODE_METS'].value_counts()\n",
    "#print(data['TNM_PATH_N'].value_counts())\n",
    "#\n",
    "#import numpy as np\n",
    "##data['TNM_PATH_N'] = data['TNM_PATH_N'].replace(['p0', 'pX', 'p1A', 'p2A', 'p1', 'p3', 'p2C', 'p2', 'p1B', 'p2B', '88'], [0, 0, 1, 1, 0, 0, 0, 0, 0, 0, 0])\n",
    "#\n",
    "#print(data['TNM_PATH_N'].value_counts())\n",
    "#\n",
    "#print(sum(data['CS_LYMPH_NODE_METS']))\n",
    "#print(sum(data['TNM_PATH_N']))\n",
    "#data['REGIONAL_NODES_POSITIVE'] = data['REGIONAL_NODES_POSITIVE'].replace([98, 99], [0, 0])\n",
    "#data['POSITIVE'] = np.where(data['TNM_PATH_N'] + data['CS_LYMPH_NODE_METS'] + data['REGIONAL_NODES_POSITIVE'] > 0, 1, 0)\n",
    "#print(sum(data['POSITIVE']))"
   ]
  },
  {
   "cell_type": "code",
   "execution_count": 325,
   "metadata": {},
   "outputs": [
    {
     "data": {
      "text/html": [
       "<div>\n",
       "<style scoped>\n",
       "    .dataframe tbody tr th:only-of-type {\n",
       "        vertical-align: middle;\n",
       "    }\n",
       "\n",
       "    .dataframe tbody tr th {\n",
       "        vertical-align: top;\n",
       "    }\n",
       "\n",
       "    .dataframe thead th {\n",
       "        text-align: right;\n",
       "    }\n",
       "</style>\n",
       "<table border=\"1\" class=\"dataframe\">\n",
       "  <thead>\n",
       "    <tr style=\"text-align: right;\">\n",
       "      <th></th>\n",
       "      <th>AGE</th>\n",
       "      <th>SEX</th>\n",
       "      <th>DEPTH</th>\n",
       "      <th>ULCERATION</th>\n",
       "      <th>MITOSES</th>\n",
       "      <th>CS_EXTENSION</th>\n",
       "      <th>PRIMARY_SITE</th>\n",
       "      <th>CS_LYMPH_NODE_METS</th>\n",
       "    </tr>\n",
       "  </thead>\n",
       "  <tbody>\n",
       "    <tr>\n",
       "      <th>860085</th>\n",
       "      <td>81</td>\n",
       "      <td>1</td>\n",
       "      <td>89.0</td>\n",
       "      <td>0.0</td>\n",
       "      <td>0.0</td>\n",
       "      <td>300.0</td>\n",
       "      <td>442</td>\n",
       "      <td>5.0</td>\n",
       "    </tr>\n",
       "    <tr>\n",
       "      <th>860086</th>\n",
       "      <td>51</td>\n",
       "      <td>1</td>\n",
       "      <td>50.0</td>\n",
       "      <td>0.0</td>\n",
       "      <td>0.0</td>\n",
       "      <td>200.0</td>\n",
       "      <td>446</td>\n",
       "      <td>5.0</td>\n",
       "    </tr>\n",
       "    <tr>\n",
       "      <th>860087</th>\n",
       "      <td>53</td>\n",
       "      <td>1</td>\n",
       "      <td>42.0</td>\n",
       "      <td>0.0</td>\n",
       "      <td>0.0</td>\n",
       "      <td>100.0</td>\n",
       "      <td>446</td>\n",
       "      <td>5.0</td>\n",
       "    </tr>\n",
       "    <tr>\n",
       "      <th>860159</th>\n",
       "      <td>40</td>\n",
       "      <td>2</td>\n",
       "      <td>34.0</td>\n",
       "      <td>0.0</td>\n",
       "      <td>0.0</td>\n",
       "      <td>100.0</td>\n",
       "      <td>445</td>\n",
       "      <td>5.0</td>\n",
       "    </tr>\n",
       "    <tr>\n",
       "      <th>860170</th>\n",
       "      <td>34</td>\n",
       "      <td>2</td>\n",
       "      <td>88.0</td>\n",
       "      <td>0.0</td>\n",
       "      <td>1.0</td>\n",
       "      <td>300.0</td>\n",
       "      <td>447</td>\n",
       "      <td>5.0</td>\n",
       "    </tr>\n",
       "  </tbody>\n",
       "</table>\n",
       "</div>"
      ],
      "text/plain": [
       "        AGE  SEX  DEPTH  ULCERATION  MITOSES  CS_EXTENSION PRIMARY_SITE  \\\n",
       "860085   81    1   89.0         0.0      0.0         300.0          442   \n",
       "860086   51    1   50.0         0.0      0.0         200.0          446   \n",
       "860087   53    1   42.0         0.0      0.0         100.0          446   \n",
       "860159   40    2   34.0         0.0      0.0         100.0          445   \n",
       "860170   34    2   88.0         0.0      1.0         300.0          447   \n",
       "\n",
       "        CS_LYMPH_NODE_METS  \n",
       "860085                 5.0  \n",
       "860086                 5.0  \n",
       "860087                 5.0  \n",
       "860159                 5.0  \n",
       "860170                 5.0  "
      ]
     },
     "execution_count": 325,
     "metadata": {},
     "output_type": "execute_result"
    }
   ],
   "source": [
    "new_df = data[(data != 999).all(1)]\n",
    "new_df = new_df[(new_df != 1022).all(1)]\n",
    "new_df = new_df[new_df['DEPTH'] != 980]\n",
    "#new_df = new_df[new_df['DEPTH'] <= 400]\n",
    "\n",
    "\n",
    "#new_df = new_df[new_df['SPANISH_HISPANIC_ORIGIN'] != 9]\n",
    "new_df = new_df[new_df['MITOSES'] != 988]\n",
    "\n",
    "#new_df.info()\n",
    "new_df.tail()"
   ]
  },
  {
   "cell_type": "markdown",
   "metadata": {},
   "source": [
    "### Combining Feature Values\n",
    "For some of our features, there have been two coding schema. For example, `ULCERATION` = 1.0 and `ULCERATION` = 10.0 both correspond to the presence of ulceration. Below, we combine our features in order to better represent the data."
   ]
  },
  {
   "cell_type": "code",
   "execution_count": 326,
   "metadata": {},
   "outputs": [
    {
     "data": {
      "text/plain": [
       "0.0    203406\n",
       "1.0     38163\n",
       "Name: ULCERATION, dtype: int64"
      ]
     },
     "execution_count": 326,
     "metadata": {},
     "output_type": "execute_result"
    }
   ],
   "source": [
    "new_df['ULCERATION'] = new_df['ULCERATION'].replace(10.0, 1.0)\n",
    "new_df['ULCERATION'].value_counts()"
   ]
  },
  {
   "cell_type": "markdown",
   "metadata": {},
   "source": [
    "The `CS_EXTENSION` attribute has a combination of features for the depth of the extension as well as the Clark Level. For now, I have removed anything that isn't about the Clark Level of the tumor."
   ]
  },
  {
   "cell_type": "code",
   "execution_count": 327,
   "metadata": {},
   "outputs": [
    {
     "name": "stdout",
     "output_type": "stream",
     "text": [
      "300.0    84144\n",
      "100.0    58838\n",
      "200.0    46192\n",
      "400.0    12158\n",
      "310.0     9927\n",
      "500.0     9024\n",
      "0.0       4736\n",
      "330.0     3759\n",
      "315.0     3033\n",
      "350.0     1804\n",
      "375.0     1768\n",
      "355.0     1479\n",
      "950.0     1167\n",
      "335.0     1041\n",
      "370.0     1011\n",
      "320.0      475\n",
      "360.0      280\n",
      "380.0      273\n",
      "340.0      251\n",
      "800.0      209\n",
      "Name: CS_EXTENSION, dtype: int64\n"
     ]
    },
    {
     "data": {
      "text/plain": [
       "300.0    84144\n",
       "100.0    58838\n",
       "200.0    46192\n",
       "500.0     9024\n",
       "0.0       4736\n",
       "800.0      209\n",
       "Name: CS_EXTENSION, dtype: int64"
      ]
     },
     "execution_count": 327,
     "metadata": {},
     "output_type": "execute_result"
    }
   ],
   "source": [
    "print(new_df['CS_EXTENSION'].value_counts())\n",
    "new_df['CS_EXTENSION'] = new_df['CS_EXTENSION'].replace([\n",
    "    310, 315, 320, 330, 335, 340, 350, 355, 360, 370, 375, 380, 400, 800, 950],\n",
    "    [999, 999, 999, 999, 999, 999, 999, 999, 999, 999, 999, 999, 999, 800, 999])\n",
    "new_df = new_df[(new_df != 999).all(1)]\n",
    "new_df['CS_EXTENSION'].value_counts()"
   ]
  },
  {
   "cell_type": "code",
   "execution_count": 283,
   "metadata": {},
   "outputs": [],
   "source": [
    "#new_df['REGIONAL_NODES_POSITIVE'] = new_df['REGIONAL_NODES_POSITIVE'].replace(98, 0)\n",
    "#new_df['REGIONAL_NODES_POSITIVE'].value_counts()\n",
    "#new_df = new_df[(new_df['REGIONAL_NODES_POSITIVE'] != 99)]\n",
    "\n",
    "#new_df['REGIONAL_NODES_POSITIVE'] = new_df['REGIONAL_NODES_POSITIVE'] > 0 \n",
    "#new_df['REGIONAL_NODES_POSITIVE'].value_counts()"
   ]
  },
  {
   "cell_type": "code",
   "execution_count": 328,
   "metadata": {},
   "outputs": [
    {
     "data": {
      "text/plain": [
       "0.0    185344\n",
       "1.0     12214\n",
       "Name: CS_LYMPH_NODE_METS, dtype: int64"
      ]
     },
     "execution_count": 328,
     "metadata": {},
     "output_type": "execute_result"
    }
   ],
   "source": [
    "new_df['CS_LYMPH_NODE_METS'] = new_df['CS_LYMPH_NODE_METS'].replace([5, 10],[0, 1])\n",
    "new_df = new_df[new_df['CS_LYMPH_NODE_METS'] <= 1.5]\n",
    "new_df['CS_LYMPH_NODE_METS'].value_counts()\n"
   ]
  },
  {
   "cell_type": "code",
   "execution_count": 285,
   "metadata": {},
   "outputs": [],
   "source": [
    "#new_df['TNM_PATH_N'].value_counts()\n",
    "#new_df = new_df[new_df['TNM_PATH_N'] != '88']\n",
    "#new_df = new_df[new_df['TNM_PATH_N'] != 'pX']\n",
    "\n",
    "#new_df['TNM_PATH_N'].value_counts()\n",
    "#new_df['TNM_PATH_N'] = new_df['TNM_PATH_N'].apply(lambda x: 0 if x == 'pX' else x)\n",
    "#new_df['TNM_PATH_N'] = new_df['TNM_PATH_N'].apply(lambda x: 0 if x == 'p0' else 1)\n",
    "#new_df['TNM_PATH_N'] = new_df['TNM_PATH_N'].apply(lambda x: x if x == 0 or x == 1 else 1)\n"
   ]
  },
  {
   "cell_type": "code",
   "execution_count": 286,
   "metadata": {},
   "outputs": [],
   "source": [
    "#new_df['TNM_PATH_N'].value_counts()"
   ]
  },
  {
   "cell_type": "markdown",
   "metadata": {},
   "source": [
    "For the `RACE` attribute, there are several demographics that we only have a single representative; for simplicity, we split these demographics into white, black, and other and hispanic or not hispanic."
   ]
  },
  {
   "cell_type": "code",
   "execution_count": 287,
   "metadata": {},
   "outputs": [],
   "source": [
    "#import numpy as np\n",
    "#new_df['RACE'].value_counts()\n",
    "#a = np.array(new_df['RACE'].values.tolist())\n",
    "#new_df['RACE'] = np.where(a > 2, 3, a).tolist()\n",
    "#new_df['RACE'].value_counts()#new_df['RACE'] = new_df['RACE'].apply(lambda x: [y if y <= 1 else 2 for y in x])\n",
    "##new_df['RACE']\n",
    "#\n",
    "#a = np.array(new_df['SPANISH_HISPANIC_ORIGIN'].values.tolist())\n",
    "#new_df['SPANISH_HISPANIC_ORIGIN'] = np.where(a > 1, 1, a).tolist()\n",
    "#new_df['SPANISH_HISPANIC_ORIGIN'].value_counts()"
   ]
  },
  {
   "cell_type": "markdown",
   "metadata": {},
   "source": [
    "The other feature used is the `PRIMARY_SITE`, which codes where the melanoma is located. The features are fairly specific, so for now I coarse grain this into three categories: Head and neck, Trunk, or Extremity.\n",
    "\n",
    "Current labels are\n",
    "\n",
    "- `c440`: Skin of lip -> Head or Neck\n",
    "- `c441`: Eyelid -> Head or Neck\n",
    "- `c442`: External ear -> Head or Neck\n",
    "- `c443`: Skin of other and unspecified parts of face -> Head or Neck\n",
    "- `c444`: Skin of scalp and neck -> Head or Neck\n",
    "- `c445`: Skin of trunk -> Trunk\n",
    "- `c446`: Skin of upper limb and shoulder -> Extremity\n",
    "- `c447`: Skin of lower limb and hip -> Extremity\n",
    "- `c448`: Overlapping lesion of skin -> ?\n",
    "- `c449`: Skin, NOS -> ?"
   ]
  },
  {
   "cell_type": "code",
   "execution_count": 288,
   "metadata": {},
   "outputs": [],
   "source": [
    "#new_df['DEPTH_3'] = new_df['DEPTH'] ** 3"
   ]
  },
  {
   "cell_type": "code",
   "execution_count": 329,
   "metadata": {},
   "outputs": [
    {
     "name": "stdout",
     "output_type": "stream",
     "text": [
      "<class 'pandas.core.frame.DataFrame'>\n",
      "Int64Index: 196806 entries, 4 to 860170\n",
      "Data columns (total 8 columns):\n",
      " #   Column              Non-Null Count   Dtype  \n",
      "---  ------              --------------   -----  \n",
      " 0   AGE                 196806 non-null  int64  \n",
      " 1   SEX                 196806 non-null  int64  \n",
      " 2   DEPTH               196806 non-null  float64\n",
      " 3   ULCERATION          196806 non-null  float64\n",
      " 4   MITOSES             196806 non-null  float64\n",
      " 5   CS_EXTENSION        196806 non-null  float64\n",
      " 6   PRIMARY_SITE        196806 non-null  int64  \n",
      " 7   CS_LYMPH_NODE_METS  196806 non-null  float64\n",
      "dtypes: float64(5), int64(3)\n",
      "memory usage: 13.5 MB\n"
     ]
    }
   ],
   "source": [
    "import numpy as np\n",
    "new_df['PRIMARY_SITE'].value_counts()\n",
    "new_df['PRIMARY_SITE'] = new_df['PRIMARY_SITE'].replace([\n",
    "    'C440', 'C441', 'C442', 'C443', 'C444', 'C445', 'C446', 'C447', 'C448', 'C449'],\n",
    "    #[0,1,2,3,4,5, 6,7,999,999])\n",
    "    [0,0,0,0,0,1, 2,2,999,999])\n",
    "new_df['PRIMARY_SITE'] = new_df['PRIMARY_SITE'].replace([\n",
    "    '440', '441', '442', '443', '444', '445', '446', '447', '448', '449'],\n",
    "    [0,0,0,0,0,1,2,2,999,999])\n",
    "\n",
    "new_df = new_df[(new_df != 999).all(1)]\n",
    "\n",
    "new_df['PRIMARY_SITE'].value_counts()\n",
    "new_df.info()"
   ]
  },
  {
   "cell_type": "code",
   "execution_count": 330,
   "metadata": {},
   "outputs": [
    {
     "name": "stdout",
     "output_type": "stream",
     "text": [
      "196806\n",
      "0.062025843513362836\n",
      "0.06142980539606727\n",
      "0.06147983486821213\n"
     ]
    }
   ],
   "source": [
    "#attribs = ['AGE', 'SEX', 'RACE', 'SPANISH_HISPANIC_ORIGIN', 'DEPTH', 'DEPTH_3', 'ULCERATION',\n",
    "#           'MITOSES', 'CS_EXTENSION', 'PRIMARY_SITE']\n",
    "\n",
    "attribs = ['AGE', 'SEX', 'DEPTH', 'ULCERATION',\n",
    "            'MITOSES', 'CS_EXTENSION', 'PRIMARY_SITE']\n",
    "\n",
    "X = new_df[attribs]\n",
    "y = new_df['CS_LYMPH_NODE_METS']\n",
    "#y = new_df['REGIONAL_NODES_POSITIVE']\n",
    "print(len(X))\n",
    "import numpy as np\n",
    "from sklearn.model_selection import train_test_split\n",
    "X_train, X_test, y_train, y_test = train_test_split(X, y, test_size=0.20, random_state=20)\n",
    "X_train, X_cv, y_train, y_cv = train_test_split(X_train, y_train, test_size=0.10, random_state=20)\n",
    "\n",
    "\n",
    "#stratifying\n",
    "tmp = X_cv\n",
    "tmp['TARGET'] = y\n",
    "c1 = tmp['DEPTH'] <= 100\n",
    "c2 = tmp['ULCERATION'] == 0\n",
    "c3 = tmp['MITOSES'] == 0\n",
    "c4 = (tmp['DEPTH'] > 100) & (tmp['DEPTH'] <= 200)\n",
    "c5 = (tmp['DEPTH'] > 200) & (tmp['DEPTH'] <= 400)\n",
    "\n",
    "T1a = tmp[c1 & c2 & c3]\n",
    "y1a = T1a['TARGET']\n",
    "T1a = T1a.drop(columns=[\"TARGET\"])\n",
    "\n",
    "T1b = tmp[c1 & ~(c2 & c3)]\n",
    "y1b = T1b['TARGET']\n",
    "T1b = T1b.drop(columns=[\"TARGET\"])\n",
    "\n",
    "T2a = tmp[c4 & c2]\n",
    "y2a = T2a['TARGET']\n",
    "T2a = T2a.drop(columns=[\"TARGET\"])\n",
    "\n",
    "T2b = tmp[c4 & ~(c2)]\n",
    "y2b = T2b['TARGET']\n",
    "T2b = T2b.drop(columns=[\"TARGET\"])\n",
    "\n",
    "T3a = tmp[c5 & c2]\n",
    "y3a = T3a['TARGET']\n",
    "T3a = T3a.drop(columns=[\"TARGET\"])\n",
    "\n",
    "T3b = tmp[c5 & ~(c2)]\n",
    "y3b = T3b['TARGET']\n",
    "T3b = T3b.drop(columns=[\"TARGET\"])\n",
    "#T1 = tmp[tmp['DEPTH' <= 100]]\n",
    "\n",
    "\n",
    "print(sum(y_train)/len(X_train))\n",
    "print(sum(y_test)/len(X_test))\n",
    "print(sum(y_cv)/len(X_cv))"
   ]
  },
  {
   "cell_type": "markdown",
   "metadata": {},
   "source": [
    "## Encoding Attributes\n",
    "\n",
    "We have a few <b>numerical attributes</b>\n",
    "- AGE\n",
    "- DEPTH\n",
    "- MITOSES\n",
    "- CS_EXTENSION\n",
    "\n",
    "\n",
    "<b>Categorical Attributes</b>\n",
    "- SEX\n",
    "- RACE\n",
    "- SPANISH_HISPANIC_ORIGIN\n",
    "- ULCERATION\n",
    "- PRIMARY_SITE"
   ]
  },
  {
   "cell_type": "code",
   "execution_count": 356,
   "metadata": {},
   "outputs": [],
   "source": [
    "from sklearn.base import BaseEstimator, TransformerMixin\n",
    "from sklearn.preprocessing import PolynomialFeatures\n",
    "from sklearn.preprocessing import MinMaxScaler\n",
    "\n",
    "\n",
    "\n",
    "class DataFrameSelector(BaseEstimator, TransformerMixin):\n",
    "    def __init__(self, attribute_names):\n",
    "        self.attribute_names = attribute_names\n",
    "    def fit(self, X, y=None):\n",
    "        return self\n",
    "    def transform(self, X, y=None):\n",
    "        return X[self.attribute_names]\n",
    "    \n",
    "    \n",
    "class MostFrequentImputer(BaseEstimator, TransformerMixin):\n",
    "    def fit(self, X,y=None):\n",
    "        self.most_frequent_ = pd.Series([X[c].value_counts().index[0] for c in X], index=X.columns)\n",
    "        return self\n",
    "    def transform(self, X, y=None):\n",
    "        return X.fillna(self.most_frequent_)\n",
    "\n",
    "from sklearn.pipeline import Pipeline\n",
    "from sklearn.impute import SimpleImputer\n",
    "\n",
    "num_pipeline = Pipeline([\n",
    "    (\"select_numeric\", DataFrameSelector([\"AGE\",\"DEPTH\", \"CS_EXTENSION\", \"MITOSES\"])),\n",
    "    ('poly', PolynomialFeatures(degree=3)),\n",
    "    (\"imputer\", SimpleImputer(strategy=\"median\")),\n",
    "    (\"scaler\", MinMaxScaler())\n",
    "     ])\n",
    "\n",
    "from sklearn.preprocessing import OneHotEncoder\n",
    "\n",
    "cat_pipeline = Pipeline([\n",
    "    (\"select_cat\", DataFrameSelector(['SEX','ULCERATION', 'PRIMARY_SITE'])),\n",
    "    (\"imputer\", MostFrequentImputer()),\n",
    "    (\"cat_encoder\", OneHotEncoder(sparse=False))\n",
    "])"
   ]
  },
  {
   "cell_type": "code",
   "execution_count": 292,
   "metadata": {},
   "outputs": [
    {
     "data": {
      "text/plain": [
       "CS_LYMPH_NODE_METS    1.000000\n",
       "DEPTH                 0.258939\n",
       "CS_EXTENSION          0.213738\n",
       "ULCERATION            0.195658\n",
       "SEX                  -0.015521\n",
       "MITOSES              -0.056798\n",
       "AGE                  -0.063927\n",
       "Name: CS_LYMPH_NODE_METS, dtype: float64"
      ]
     },
     "execution_count": 292,
     "metadata": {},
     "output_type": "execute_result"
    }
   ],
   "source": [
    "corr_matrix = new_df.corr()\n",
    "corr_matrix[\"CS_LYMPH_NODE_METS\"].sort_values(ascending=False)"
   ]
  },
  {
   "cell_type": "code",
   "execution_count": 293,
   "metadata": {},
   "outputs": [
    {
     "name": "stdout",
     "output_type": "stream",
     "text": [
      "142241\n"
     ]
    }
   ],
   "source": [
    "train_num = num_pipeline.fit_transform(X_train)\n",
    "print(len(train_num))"
   ]
  },
  {
   "cell_type": "code",
   "execution_count": 294,
   "metadata": {},
   "outputs": [],
   "source": [
    "#cat_pipeline.fit_transform(X_train);"
   ]
  },
  {
   "cell_type": "markdown",
   "metadata": {},
   "source": [
    "### Pre-processing the data\n",
    "\n",
    "Now, I want to take out the numerical attributes and the categorical attributes and format the data according to the pipeline above. In addition, I split the data again into a cross-validation set in order to better tune the model parameters."
   ]
  },
  {
   "cell_type": "code",
   "execution_count": 357,
   "metadata": {},
   "outputs": [],
   "source": [
    "from sklearn.pipeline import FeatureUnion\n",
    "\n",
    "preprocess_pipeline = FeatureUnion(transformer_list=[\n",
    "    (\"num_pipeline\", num_pipeline),\n",
    "    (\"cat_pipeline\", cat_pipeline)\n",
    "])\n",
    "\n",
    "x_train = preprocess_pipeline.fit_transform(X_train)\n",
    "#print(X_train.head())\n",
    "\n",
    "#print(len(x_train[0]))\n",
    "#sc = MinMaxScaler()\n",
    "#x_train = sc.fit_transform(x_train)\n",
    "x_cv = preprocess_pipeline.transform(X_cv)\n",
    "x_test = preprocess_pipeline.transform(X_test)\n",
    "\n",
    "x_t1a = preprocess_pipeline.transform(T1a)\n",
    "x_t1b = preprocess_pipeline.transform(T1b)\n",
    "\n",
    "x_t2a = preprocess_pipeline.transform(T2a)\n",
    "x_t2b = preprocess_pipeline.transform(T2b)\n",
    "\n",
    "x_t3a = preprocess_pipeline.transform(T3a)\n",
    "x_t3b = preprocess_pipeline.transform(T3b)"
   ]
  },
  {
   "cell_type": "code",
   "execution_count": 355,
   "metadata": {},
   "outputs": [
    {
     "name": "stdout",
     "output_type": "stream",
     "text": [
      "[0.e+00 1.e+06 0.e+00 0.e+00 0.e+00 0.e+00 1.e+00 1.e+00 0.e+00 0.e+00\n",
      " 0.e+00 1.e+00]\n"
     ]
    }
   ],
   "source": [
    "#print(x_train[0][30:])"
   ]
  },
  {
   "cell_type": "markdown",
   "metadata": {},
   "source": [
    "# Methods for Estimating\n",
    "\n",
    "Our baseline for estimating is to predict the majority class, i.e. that everyone doesn't need the SLNB. This gives us a point of comparison for the accuracy of our method: we must perform better than this in a meaningful way for our new model to be performing well."
   ]
  },
  {
   "cell_type": "code",
   "execution_count": 296,
   "metadata": {},
   "outputs": [],
   "source": [
    "from sklearn.base import BaseEstimator\n",
    "\n",
    "class BaseLine(BaseEstimator):\n",
    "    def fit(self, X, y=None):\n",
    "        pass\n",
    "    def predict(self,X):\n",
    "        return np.zeros((len(X),1))"
   ]
  },
  {
   "cell_type": "code",
   "execution_count": 297,
   "metadata": {},
   "outputs": [
    {
     "data": {
      "text/plain": [
       "0.9384495266299094"
      ]
     },
     "execution_count": 297,
     "metadata": {},
     "output_type": "execute_result"
    }
   ],
   "source": [
    "from sklearn.model_selection import cross_val_score\n",
    "base_line_clf = BaseLine()\n",
    "base_scores = cross_val_score(base_line_clf,x_train,y_train,cv=10,scoring=\"accuracy\")\n",
    "base_scores.mean()"
   ]
  },
  {
   "cell_type": "code",
   "execution_count": 377,
   "metadata": {},
   "outputs": [
    {
     "data": {
      "text/plain": [
       "LogisticRegression(C=0.001, class_weight=None, dual=False, fit_intercept=True,\n",
       "                   intercept_scaling=1, l1_ratio=None, max_iter=100,\n",
       "                   multi_class='auto', n_jobs=None, penalty='l2',\n",
       "                   random_state=None, solver='liblinear', tol=0.0001, verbose=0,\n",
       "                   warm_start=False)"
      ]
     },
     "execution_count": 377,
     "metadata": {},
     "output_type": "execute_result"
    }
   ],
   "source": [
    "from sklearn.linear_model import LogisticRegression\n",
    "from sklearn.metrics import accuracy_score\n",
    "from sklearn.metrics import recall_score\n",
    "from sklearn.metrics import precision_score\n",
    "from sklearn.metrics import f1_score\n",
    "from sklearn.metrics import confusion_matrix\n",
    "\n",
    "log_clf = LogisticRegression(solver=\"liblinear\", C = 0.001)\n",
    "log_clf.fit(x_train,y_train)\n",
    "#log_scores = cross_val_score(log_clf, x_train,y_train,cv=10,scoring=\"accuracy\")\n",
    "\n"
   ]
  },
  {
   "cell_type": "code",
   "execution_count": 382,
   "metadata": {},
   "outputs": [
    {
     "name": "stdout",
     "output_type": "stream",
     "text": [
      "0.09162379409875863\n",
      "The confusion matrix is [[  4215 128695]\n",
      " [    21   8768]]\n",
      "Feature: 0, Score: 0.00000\n",
      "Feature: 1, Score: -0.62358\n",
      "Feature: 2, Score: 0.51117\n",
      "Feature: 3, Score: 0.30839\n",
      "Feature: 4, Score: -0.14793\n",
      "Feature: 5, Score: -0.51273\n",
      "Feature: 6, Score: 0.27305\n",
      "Feature: 7, Score: 0.13854\n",
      "Feature: 8, Score: -0.08878\n",
      "Feature: 9, Score: 0.19894\n",
      "Feature: 10, Score: 0.23189\n",
      "Feature: 11, Score: 0.03057\n",
      "Feature: 12, Score: 0.21607\n",
      "Feature: 13, Score: 0.00247\n",
      "Feature: 14, Score: -0.15760\n",
      "Feature: 15, Score: -0.43424\n",
      "Feature: 16, Score: 0.14942\n",
      "Feature: 17, Score: 0.05520\n",
      "Feature: 18, Score: -0.05762\n",
      "Feature: 19, Score: 0.09745\n",
      "Feature: 20, Score: 0.14433\n",
      "Feature: 21, Score: 0.02140\n",
      "Feature: 22, Score: 0.11091\n",
      "Feature: 23, Score: 0.00301\n",
      "Feature: 24, Score: -0.09416\n",
      "Feature: 25, Score: 0.06894\n",
      "Feature: 26, Score: 0.08590\n",
      "Feature: 27, Score: 0.01270\n",
      "Feature: 28, Score: 0.09070\n",
      "Feature: 29, Score: 0.01590\n",
      "Feature: 30, Score: 0.02705\n",
      "Feature: 31, Score: 0.10577\n",
      "Feature: 32, Score: 0.01048\n",
      "Feature: 33, Score: -0.00186\n",
      "Feature: 34, Score: -0.15641\n",
      "Feature: 35, Score: -0.33629\n",
      "Feature: 36, Score: -0.44229\n",
      "Feature: 37, Score: -0.93433\n",
      "Feature: 38, Score: 0.15575\n",
      "Feature: 39, Score: -0.39013\n",
      "Feature: 40, Score: -0.15817\n",
      "Feature: 41, Score: -0.23029\n",
      "[[  4215 128695]\n",
      " [    21   8768]]\n",
      "The precision is 0.06378443653928693, the recall is 0.997610649675731, and the f1 score is 0.11990263381013594\n"
     ]
    }
   ],
   "source": [
    "THRESHOLD = 0.02\n",
    "y_pred = np.where(log_clf.predict_proba(x_train)[:,1] > THRESHOLD, 1, 0)\n",
    "log_score = accuracy_score(y_train,y_pred)\n",
    "print(log_score)\n",
    "#log_scores.mean()\n",
    "print(f\"The confusion matrix is {confusion_matrix(y_train,y_pred)}\")\n",
    "importance = log_clf.coef_[0]\n",
    "# summarize feature importance\n",
    "for i,v in enumerate(importance):\n",
    "    print('Feature: %0d, Score: %.5f' % (i,v))\n",
    "\n",
    "from sklearn.metrics import confusion_matrix\n",
    "print(confusion_matrix(y_train, y_pred))\n",
    "#y_pred = y_pred == 2\n",
    "#y_simple = y_train == 2\n",
    "log_f1 = f1_score(y_train,y_pred)\n",
    "log_recall = recall_score(y_train, y_pred)\n",
    "log_precision = precision_score(y_train,y_pred)\n",
    "print(f\"The precision is {log_precision}, the recall is {log_recall}, and the f1 score is {log_f1}\")\n"
   ]
  },
  {
   "cell_type": "code",
   "execution_count": 364,
   "metadata": {
    "scrolled": true
   },
   "outputs": [
    {
     "data": {
      "text/plain": [
       "array([ 0,  5, 23, 17, 13, 32, 29, 16, 21, 40, 30, 41, 18, 38, 35, 39, 11,\n",
       "       36,  8, 12, 33, 37, 24, 15,  1, 14, 34, 26, 22, 27,  7, 19, 31,  4,\n",
       "        6, 28, 25, 10, 20,  3,  9,  2])"
      ]
     },
     "execution_count": 364,
     "metadata": {},
     "output_type": "execute_result"
    }
   ],
   "source": [
    "abs(importance).argsort()"
   ]
  },
  {
   "cell_type": "code",
   "execution_count": 373,
   "metadata": {},
   "outputs": [
    {
     "name": "stdout",
     "output_type": "stream",
     "text": [
      "196806\n",
      "0.3149571292473801\n",
      "The precision is 0.08207049208241103, the recall is 0.9958677685950413, and the f1 score is 0.15164385716532955\n",
      "The confusion matrix is \n",
      " [[ 3995 10782]\n",
      " [    4   964]]\n"
     ]
    },
    {
     "data": {
      "image/png": "[encoded data removed]",
      "text/plain": [
       "<Figure size 432x288 with 1 Axes>"
      ]
     },
     "metadata": {
      "needs_background": "light"
     },
     "output_type": "display_data"
    }
   ],
   "source": [
    "THRESHOLD = 0.005\n",
    "y_pred = np.where(log_clf.predict_proba(x_cv)[:,1] > THRESHOLD, 1, 0)\n",
    "print(len(X))\n",
    "#y_cv_test = y_cv == 2\n",
    "#print(sum(y_cv_test))\n",
    "#y_pred = y_pred == 2\n",
    "#print(sum(y_pred == 2))\n",
    "log_score = accuracy_score(y_cv, y_pred)\n",
    "print(log_score)\n",
    "#print(y_test)\n",
    "log_f1 = f1_score(y_cv,y_pred)\n",
    "log_recall = recall_score(y_cv, y_pred)\n",
    "log_precision = precision_score(y_cv,y_pred)\n",
    "print(f\"The precision is {log_precision}, the recall is {log_recall}, and the f1 score is {log_f1}\")\n",
    "print(f\"The confusion matrix is \\n {confusion_matrix(y_cv,y_pred)}\")\n",
    "\n",
    "\n",
    "y_proba = log_clf.predict_proba(x_cv)\n",
    "from sklearn.metrics import precision_recall_curve\n",
    "#precision, recall, thresholds = precision_recall_curve(y_cv, y_proba)\n",
    "\n",
    "from sklearn.metrics import plot_precision_recall_curve\n",
    "import matplotlib.pyplot as plt\n",
    "from sklearn.metrics import average_precision_score\n",
    "average_precision = average_precision_score(y_cv, y_pred)\n",
    "\n",
    "disp = plot_precision_recall_curve(log_clf, x_cv, y_cv)\n",
    "disp.ax_.set_title('2-class Precision-Recall curve: '\n",
    "                   'AP={0:0.2f}'.format(average_precision))\n",
    "\n",
    "\n",
    "\n",
    "misclassified = np.where(y_cv != y_pred)"
   ]
  },
  {
   "cell_type": "code",
   "execution_count": 375,
   "metadata": {},
   "outputs": [
    {
     "name": "stdout",
     "output_type": "stream",
     "text": [
      "0.9671512176703795\n",
      "The T1a precision is 0.017857142857142856, the recall is 0.25, and the f1 score is 0.03333333333333333\n",
      "The T1a confusion matrix is \n",
      " [[5120  165]\n",
      " [   9    3]]\n",
      "\n",
      "\n",
      "\n",
      "0.8500956836062088\n",
      "The T1b precision is 0.08513708513708514, the recall is 0.45384615384615384, and the f1 score is 0.14337788578371813\n",
      "The T1b confusion matrix is \n",
      " [[3939  634]\n",
      " [  71   59]]\n",
      "\n",
      "\n",
      "\n",
      "0.4076923076923077\n",
      "The T2a precision is 0.12316176470588236, the recall is 0.8626609442060086, and the f1 score is 0.2155495978552279\n",
      "The T2a confusion matrix is \n",
      " [[ 806 1431]\n",
      " [  32  201]]\n",
      "\n",
      "\n",
      "\n",
      "0.2621184919210054\n",
      "The T2b precision is 0.15145228215767634, the recall is 0.9733333333333334, and the f1 score is 0.2621184919210054\n",
      "The T2b confusion matrix is \n",
      " [[ 73 409]\n",
      " [  2  73]]\n",
      "\n",
      "\n",
      "\n",
      "0.21793534932221065\n",
      "The T3a precision is 0.1668520578420467, the recall is 0.9933774834437086, and the f1 score is 0.2857142857142857\n",
      "The T3a confusion matrix is \n",
      " [[ 59 749]\n",
      " [  1 150]]\n",
      "\n",
      "\n",
      "\n",
      "0.199203187250996\n",
      "The T3b precision is 0.19168900804289543, the recall is 1.0, and the f1 score is 0.32170978627671537\n",
      "The T3b confusion matrix is \n",
      " [[  7 603]\n",
      " [  0 143]]\n",
      "\n",
      "\n",
      "\n"
     ]
    }
   ],
   "source": [
    "THRESHOLD = 0.05\n",
    "y_pred = np.where(log_clf.predict_proba(x_t1a)[:,1] > THRESHOLD, 1, 0)\n",
    "#y_cv_test = y_cv == 2\n",
    "#print(sum(y_cv_test))\n",
    "#y_pred = y_pred == 2\n",
    "#print(sum(y_pred == 2))\n",
    "log_score = accuracy_score(y1a, y_pred)\n",
    "print(log_score)\n",
    "#print(y_test)\n",
    "log_f1 = f1_score(y1a,y_pred)\n",
    "log_recall = recall_score(y1a, y_pred)\n",
    "log_precision = precision_score(y1a,y_pred)\n",
    "print(f\"The T1a precision is {log_precision}, the recall is {log_recall}, and the f1 score is {log_f1}\")\n",
    "print(f\"The T1a confusion matrix is \\n {confusion_matrix(y1a,y_pred)}\\n\\n\\n\")\n",
    "\n",
    "y_pred = np.where(log_clf.predict_proba(x_t1b)[:,1] > THRESHOLD, 1, 0)\n",
    "#y_cv_test = y_cv == 2\n",
    "#print(sum(y_cv_test))\n",
    "#y_pred = y_pred == 2\n",
    "#print(sum(y_pred == 2))\n",
    "log_score = accuracy_score(y1b, y_pred)\n",
    "print(log_score)\n",
    "#print(y_test)\n",
    "log_f1 = f1_score(y1b,y_pred)\n",
    "log_recall = recall_score(y1b, y_pred)\n",
    "log_precision = precision_score(y1b,y_pred)\n",
    "print(f\"The T1b precision is {log_precision}, the recall is {log_recall}, and the f1 score is {log_f1}\")\n",
    "print(f\"The T1b confusion matrix is \\n {confusion_matrix(y1b,y_pred)}\\n\\n\\n\")\n",
    "\n",
    "\n",
    "y_pred = np.where(log_clf.predict_proba(x_t2a)[:,1] > THRESHOLD, 1, 0)\n",
    "#y_cv_test = y_cv == 2\n",
    "#print(sum(y_cv_test))\n",
    "#y_pred = y_pred == 2\n",
    "#print(sum(y_pred == 2))\n",
    "log_score = accuracy_score(y2a, y_pred)\n",
    "print(log_score)\n",
    "#print(y_test)\n",
    "log_f1 = f1_score(y2a,y_pred)\n",
    "log_recall = recall_score(y2a, y_pred)\n",
    "log_precision = precision_score(y2a,y_pred)\n",
    "print(f\"The T2a precision is {log_precision}, the recall is {log_recall}, and the f1 score is {log_f1}\")\n",
    "print(f\"The T2a confusion matrix is \\n {confusion_matrix(y2a,y_pred)}\\n\\n\\n\")\n",
    "\n",
    "y_pred = np.where(log_clf.predict_proba(x_t2b)[:,1] > THRESHOLD, 1, 0)\n",
    "#y_cv_test = y_cv == 2\n",
    "#print(sum(y_cv_test))\n",
    "#y_pred = y_pred == 2\n",
    "#print(sum(y_pred == 2))\n",
    "log_score = accuracy_score(y2b, y_pred)\n",
    "print(log_score)\n",
    "#print(y_test)\n",
    "log_f1 = f1_score(y2b,y_pred)\n",
    "log_recall = recall_score(y2b, y_pred)\n",
    "log_precision = precision_score(y2b,y_pred)\n",
    "print(f\"The T2b precision is {log_precision}, the recall is {log_recall}, and the f1 score is {log_f1}\")\n",
    "print(f\"The T2b confusion matrix is \\n {confusion_matrix(y2b,y_pred)}\\n\\n\\n\")\n",
    "\n",
    "y_pred = np.where(log_clf.predict_proba(x_t3a)[:,1] > THRESHOLD, 1, 0)\n",
    "#y_cv_test = y_cv == 2\n",
    "#print(sum(y_cv_test))\n",
    "#y_pred = y_pred == 2\n",
    "#print(sum(y_pred == 2))\n",
    "log_score = accuracy_score(y3a, y_pred)\n",
    "print(log_score)\n",
    "#print(y_test)\n",
    "log_f1 = f1_score(y3a,y_pred)\n",
    "log_recall = recall_score(y3a, y_pred)\n",
    "log_precision = precision_score(y3a,y_pred)\n",
    "print(f\"The T3a precision is {log_precision}, the recall is {log_recall}, and the f1 score is {log_f1}\")\n",
    "print(f\"The T3a confusion matrix is \\n {confusion_matrix(y3a,y_pred)}\\n\\n\\n\")\n",
    "\n",
    "y_pred = np.where(log_clf.predict_proba(x_t3b)[:,1] > THRESHOLD, 1, 0)\n",
    "#y_cv_test = y_cv == 2\n",
    "#print(sum(y_cv_test))\n",
    "#y_pred = y_pred == 2\n",
    "#print(sum(y_pred == 2))\n",
    "log_score = accuracy_score(y3b, y_pred)\n",
    "print(log_score)\n",
    "#print(y_test)\n",
    "log_f1 = f1_score(y3b,y_pred)\n",
    "log_recall = recall_score(y3b, y_pred)\n",
    "log_precision = precision_score(y3b,y_pred)\n",
    "print(f\"The T3b precision is {log_precision}, the recall is {log_recall}, and the f1 score is {log_f1}\")\n",
    "print(f\"The T3b confusion matrix is \\n {confusion_matrix(y3b,y_pred)}\\n\\n\\n\")\n",
    "\n",
    "\n",
    "\n",
    "\n",
    "\n",
    "\n",
    "\n"
   ]
  },
  {
   "cell_type": "markdown",
   "metadata": {},
   "source": []
  },
  {
   "cell_type": "code",
   "execution_count": 302,
   "metadata": {},
   "outputs": [
    {
     "data": {
      "text/plain": [
       "5554"
      ]
     },
     "execution_count": 302,
     "metadata": {},
     "output_type": "execute_result"
    }
   ],
   "source": [
    "x_miss = x_cv[misclassified]\n",
    "y_proba = log_clf.predict_proba(x_miss)\n",
    "\n",
    "super_misclassified = np.where(y_proba[:][:,1] < 0.10)\n",
    "\n",
    "x_features = x_miss[super_misclassified]\n",
    "\n",
    "len(x_features)\n",
    "\n",
    "#\n",
    "#import seaborn as sns\n",
    "##y_proba[:][:,0]\n",
    "#sns.scatterplot(x=y_proba[:][:,0], y=y_proba[:][:,1])\n",
    "\n",
    "#min(y_proba[:][:,1])\n",
    "#min(y_proba[:][:,0])"
   ]
  },
  {
   "cell_type": "code",
   "execution_count": 303,
   "metadata": {},
   "outputs": [
    {
     "ename": "ValueError",
     "evalue": "Found input variables with inconsistent numbers of samples: [15805, 745]",
     "output_type": "error",
     "traceback": [
      "\u001b[0;31m---------------------------------------------------------------------------\u001b[0m",
      "\u001b[0;31mValueError\u001b[0m                                Traceback (most recent call last)",
      "\u001b[0;32m<ipython-input-303-621673b31040>\u001b[0m in \u001b[0;36m<module>\u001b[0;34m\u001b[0m\n\u001b[0;32m----> 1\u001b[0;31m \u001b[0mprint\u001b[0m\u001b[0;34m(\u001b[0m\u001b[0mconfusion_matrix\u001b[0m\u001b[0;34m(\u001b[0m\u001b[0my_cv\u001b[0m\u001b[0;34m,\u001b[0m \u001b[0my_pred\u001b[0m\u001b[0;34m)\u001b[0m\u001b[0;34m)\u001b[0m\u001b[0;34m\u001b[0m\u001b[0;34m\u001b[0m\u001b[0m\n\u001b[0m",
      "\u001b[0;32m~/opt/anaconda3/lib/python3.7/site-packages/sklearn/metrics/_classification.py\u001b[0m in \u001b[0;36mconfusion_matrix\u001b[0;34m(y_true, y_pred, labels, sample_weight, normalize)\u001b[0m\n\u001b[1;32m    266\u001b[0m \u001b[0;34m\u001b[0m\u001b[0m\n\u001b[1;32m    267\u001b[0m     \"\"\"\n\u001b[0;32m--> 268\u001b[0;31m     \u001b[0my_type\u001b[0m\u001b[0;34m,\u001b[0m \u001b[0my_true\u001b[0m\u001b[0;34m,\u001b[0m \u001b[0my_pred\u001b[0m \u001b[0;34m=\u001b[0m \u001b[0m_check_targets\u001b[0m\u001b[0;34m(\u001b[0m\u001b[0my_true\u001b[0m\u001b[0;34m,\u001b[0m \u001b[0my_pred\u001b[0m\u001b[0;34m)\u001b[0m\u001b[0;34m\u001b[0m\u001b[0;34m\u001b[0m\u001b[0m\n\u001b[0m\u001b[1;32m    269\u001b[0m     \u001b[0;32mif\u001b[0m \u001b[0my_type\u001b[0m \u001b[0;32mnot\u001b[0m \u001b[0;32min\u001b[0m \u001b[0;34m(\u001b[0m\u001b[0;34m\"binary\"\u001b[0m\u001b[0;34m,\u001b[0m \u001b[0;34m\"multiclass\"\u001b[0m\u001b[0;34m)\u001b[0m\u001b[0;34m:\u001b[0m\u001b[0;34m\u001b[0m\u001b[0;34m\u001b[0m\u001b[0m\n\u001b[1;32m    270\u001b[0m         \u001b[0;32mraise\u001b[0m \u001b[0mValueError\u001b[0m\u001b[0;34m(\u001b[0m\u001b[0;34m\"%s is not supported\"\u001b[0m \u001b[0;34m%\u001b[0m \u001b[0my_type\u001b[0m\u001b[0;34m)\u001b[0m\u001b[0;34m\u001b[0m\u001b[0;34m\u001b[0m\u001b[0m\n",
      "\u001b[0;32m~/opt/anaconda3/lib/python3.7/site-packages/sklearn/metrics/_classification.py\u001b[0m in \u001b[0;36m_check_targets\u001b[0;34m(y_true, y_pred)\u001b[0m\n\u001b[1;32m     78\u001b[0m     \u001b[0my_pred\u001b[0m \u001b[0;34m:\u001b[0m \u001b[0marray\u001b[0m \u001b[0;32mor\u001b[0m \u001b[0mindicator\u001b[0m \u001b[0mmatrix\u001b[0m\u001b[0;34m\u001b[0m\u001b[0;34m\u001b[0m\u001b[0m\n\u001b[1;32m     79\u001b[0m     \"\"\"\n\u001b[0;32m---> 80\u001b[0;31m     \u001b[0mcheck_consistent_length\u001b[0m\u001b[0;34m(\u001b[0m\u001b[0my_true\u001b[0m\u001b[0;34m,\u001b[0m \u001b[0my_pred\u001b[0m\u001b[0;34m)\u001b[0m\u001b[0;34m\u001b[0m\u001b[0;34m\u001b[0m\u001b[0m\n\u001b[0m\u001b[1;32m     81\u001b[0m     \u001b[0mtype_true\u001b[0m \u001b[0;34m=\u001b[0m \u001b[0mtype_of_target\u001b[0m\u001b[0;34m(\u001b[0m\u001b[0my_true\u001b[0m\u001b[0;34m)\u001b[0m\u001b[0;34m\u001b[0m\u001b[0;34m\u001b[0m\u001b[0m\n\u001b[1;32m     82\u001b[0m     \u001b[0mtype_pred\u001b[0m \u001b[0;34m=\u001b[0m \u001b[0mtype_of_target\u001b[0m\u001b[0;34m(\u001b[0m\u001b[0my_pred\u001b[0m\u001b[0;34m)\u001b[0m\u001b[0;34m\u001b[0m\u001b[0;34m\u001b[0m\u001b[0m\n",
      "\u001b[0;32m~/opt/anaconda3/lib/python3.7/site-packages/sklearn/utils/validation.py\u001b[0m in \u001b[0;36mcheck_consistent_length\u001b[0;34m(*arrays)\u001b[0m\n\u001b[1;32m    210\u001b[0m     \u001b[0;32mif\u001b[0m \u001b[0mlen\u001b[0m\u001b[0;34m(\u001b[0m\u001b[0muniques\u001b[0m\u001b[0;34m)\u001b[0m \u001b[0;34m>\u001b[0m \u001b[0;36m1\u001b[0m\u001b[0;34m:\u001b[0m\u001b[0;34m\u001b[0m\u001b[0;34m\u001b[0m\u001b[0m\n\u001b[1;32m    211\u001b[0m         raise ValueError(\"Found input variables with inconsistent numbers of\"\n\u001b[0;32m--> 212\u001b[0;31m                          \" samples: %r\" % [int(l) for l in lengths])\n\u001b[0m\u001b[1;32m    213\u001b[0m \u001b[0;34m\u001b[0m\u001b[0m\n\u001b[1;32m    214\u001b[0m \u001b[0;34m\u001b[0m\u001b[0m\n",
      "\u001b[0;31mValueError\u001b[0m: Found input variables with inconsistent numbers of samples: [15805, 745]"
     ]
    }
   ],
   "source": [
    "print(confusion_matrix(y_cv, y_pred))\n"
   ]
  },
  {
   "cell_type": "code",
   "execution_count": null,
   "metadata": {},
   "outputs": [],
   "source": [
    "from sklearn.naive_bayes import GaussianNB\n",
    "gnb = GaussianNB()\n",
    "y_pred = gnb.fit(x_train, y_train).predict(x_train)\n",
    "gnb_score = accuracy_score(y_train, y_pred)\n",
    "print(gnb_score)\n",
    "#print(y_test)\n",
    "gnb_f1 = f1_score(y_train,y_pred)\n",
    "gnb_recall = recall_score(y_train, y_pred)\n",
    "gnb_precision = precision_score(y_train,y_pred)\n",
    "print(f\"The precision is {gnb_precision}, the recall is {gnb_recall}, and the f1 score is {gnb_f1}\")\n",
    "print(confusion_matrix(y_train, y_pred))\n",
    "\n",
    "y_pred = gnb.fit(x_train, y_train).predict(x_cv)\n",
    "gnb_score = accuracy_score(y_cv, y_pred)\n",
    "print(gnb_score)\n",
    "#print(y_test)\n",
    "gnb_f1 = f1_score(y_cv,y_pred)\n",
    "gnb_recall = recall_score(y_cv, y_pred)\n",
    "gnb_precision = precision_score(y_cv,y_pred)\n",
    "print(f\"The precision is {gnb_precision}, the recall is {gnb_recall}, and the f1 score is {gnb_f1}\")\n",
    "print(confusion_matrix(y_cv, y_pred))\n",
    "\n",
    "misclassified = np.where(y_cv != y_pred)\n",
    "x_miss = x_cv[misclassified]\n",
    "y_proba = log_clf.predict_proba(x_miss)\n",
    "\n",
    "import seaborn as sns\n",
    "#y_proba[:][:,0]\n",
    "sns.scatterplot(x=y_proba[:][:,0], y=y_proba[:][:,1])\n",
    "\n",
    "print(min(y_proba[:][:,1]))\n",
    "print(min(y_proba[:][:,0]))"
   ]
  },
  {
   "cell_type": "code",
   "execution_count": null,
   "metadata": {},
   "outputs": [],
   "source": [
    "##Prone to Overfitting\n",
    "\n",
    "from sklearn.tree import DecisionTreeClassifier\n",
    "tree = DecisionTreeClassifier(random_state=42, max_depth = 15)\n",
    "tree.fit(x_train, y_train)\n",
    "\n",
    "y_pred = tree.predict(x_train)\n",
    "tree_score = accuracy_score(y_train, y_pred)\n",
    "print(tree_score)\n",
    "#print(y_test)\n",
    "tree_f1 = f1_score(y_train,y_pred)\n",
    "tree_recall = recall_score(y_train, y_pred)\n",
    "tree_precision = precision_score(y_train,y_pred)\n",
    "print(f\"The precision is {tree_precision}, the recall is {tree_recall}, and the f1 score is {tree_f1}\")\n",
    "print(confusion_matrix(y_train, y_pred))\n",
    "\n",
    "y_pred = tree.predict(x_cv)\n",
    "tree_score = accuracy_score(y_cv, y_pred)\n",
    "print(tree_score)\n",
    "#print(y_test)\n",
    "tree_f1 = f1_score(y_cv,y_pred)\n",
    "tree_recall = recall_score(y_cv, y_pred)\n",
    "tree_precision = precision_score(y_cv,y_pred)\n",
    "print(f\"The precision is {tree_precision}, the recall is {tree_recall}, and the f1 score is {tree_f1}\")\n",
    "print(confusion_matrix(y_cv, y_pred))\n",
    "\n",
    "misclassified = np.where(y_cv != y_pred)\n",
    "x_miss = x_cv[misclassified]\n",
    "y_proba = log_clf.predict_proba(x_miss)\n",
    "\n",
    "import seaborn as sns\n",
    "#y_proba[:][:,0]\n",
    "sns.scatterplot(x=y_proba[:][:,0], y=y_proba[:][:,1])\n",
    "\n",
    "print(min(y_proba[:][:,1]))\n",
    "print(min(y_proba[:][:,0]))"
   ]
  },
  {
   "cell_type": "code",
   "execution_count": null,
   "metadata": {},
   "outputs": [],
   "source": [
    "from sklearn.ensemble import RandomForestClassifier\n",
    "\n",
    "depth = [10, 20, 30]\n",
    "\n",
    "for d in depth:\n",
    "\n",
    "    forest = RandomForestClassifier(max_depth = d,random_state=42)\n",
    "    forest.fit(x_train,y_train)\n",
    "    y_pred = forest.predict(x_train)\n",
    "    forest_score = accuracy_score(y_train, y_pred)\n",
    "    print(tree_score)\n",
    "    #print(y_test)\n",
    "    forest_f1 = f1_score(y_train,y_pred)\n",
    "    forest_recall = recall_score(y_train, y_pred)\n",
    "    forest_precision = precision_score(y_train,y_pred)\n",
    "    print(f\"The precision is {forest_precision}, the recall is {forest_recall}, and the f1 score is {forest_f1} for depth {d}\")\n",
    "    print(confusion_matrix(y_train, y_pred))\n",
    "    \n",
    "    y_pred = forest.predict(x_cv)\n",
    "    forest_score = accuracy_score(y_cv, y_pred)\n",
    "    print(forest_score)\n",
    "    #print(y_test)\n",
    "    forest_f1 = f1_score(y_cv,y_pred)\n",
    "    forest_recall = recall_score(y_cv, y_pred)\n",
    "    forest_precision = precision_score(y_cv,y_pred)\n",
    "    print(f\"The precision is {forest_precision}, the recall is {forest_recall}, and the f1 score is {forest_f1} for depth {d}\")\n",
    "    print(confusion_matrix(y_cv, y_pred))\n",
    "    misclassified = np.where(y_cv != y_pred)\n",
    "    x_miss = x_cv[misclassified]\n",
    "    y_proba = log_clf.predict_proba(x_miss)\n",
    "\n",
    "    import seaborn as sns\n",
    "#y_proba[:][:,0]\n",
    "    sns.scatterplot(x=y_proba[:][:,0], y=y_proba[:][:,1])\n",
    "\n",
    "    print(min(y_proba[:][:,1]))\n",
    "    print(min(y_proba[:][:,0]))\n",
    "\n"
   ]
  },
  {
   "cell_type": "code",
   "execution_count": null,
   "metadata": {},
   "outputs": [],
   "source": [
    "# import tensorflow as tf # Note that tf is the standard way to import tensorflow, much like pd is to pandas\n",
    "# from tensorflow import keras\n",
    "\n",
    "# # The code to build the neural network architecture. \n",
    "\n",
    "# # We will use the Keras sequential API to build the neural network one layer at a time\n",
    "# NN = keras.models.Sequential()\n",
    "\n",
    "# # Next add an input layer\n",
    "# # '.Flatten' tells keras to reshape the data with this layer and not transform the inputs\n",
    "# # We specified the input shape as [28,28] since that is the dimensions of our input arrays\n",
    "# #print(len(x_train), len(x_train[0]))\n",
    "# NN.add(keras.layers.Flatten(input_shape=(len(x_train[0]),)))\n",
    "\n",
    "# # Make the hidden layers\n",
    "# # The '.Dense' part just tells keras/tensorflow that this is just a regular densely connected layer.\n",
    "# NN.add(keras.layers.Dense(10, activation='relu'))\n",
    "# NN.add(keras.layers.Dense(5, activation='relu'))\n",
    "\n",
    "# # Lastly add the output layer\n",
    "# # Remember to specify the softmax activation function\n",
    "# NN.add(keras.layers.Dense(2, activation='sigmoid'))"
   ]
  },
  {
   "cell_type": "code",
   "execution_count": null,
   "metadata": {},
   "outputs": [],
   "source": [
    "#NN.summary()"
   ]
  },
  {
   "cell_type": "code",
   "execution_count": null,
   "metadata": {},
   "outputs": [],
   "source": [
    "# weights, biases = NN.layers[1].get_weights()"
   ]
  },
  {
   "cell_type": "code",
   "execution_count": null,
   "metadata": {},
   "outputs": [],
   "source": [
    "# #from keras.optimizers import SGD\n",
    "# opt = keras.optimizers.SGD(learning_rate=0.1)\n",
    "#  NN.compile(loss = 'sparse_categorical_crossentropy', # This is explained much more below\n",
    "#           optimizer = opt, # sgd stands for stochastic gradient descent\n",
    "#           metrics = ['accuracy']) # These are other metrics you would like to calculate after each epoch"
   ]
  },
  {
   "cell_type": "code",
   "execution_count": null,
   "metadata": {},
   "outputs": [],
   "source": [
    "# history = NN.fit(x_train, y_train, epochs = 30,\n",
    "#                  validation_data = (x_cv, y_cv))"
   ]
  },
  {
   "cell_type": "code",
   "execution_count": null,
   "metadata": {},
   "outputs": [],
   "source": [
    "# import pandas as pd\n",
    "# import matplotlib.pyplot as plt\n",
    "# %matplotlib inline\n",
    "\n",
    "# pd.DataFrame(history.history).plot(figsize=(8,5))\n",
    "# plt.grid(True)\n",
    "# plt.gca().set_ylim(0,1)\n",
    "# plt.show();"
   ]
  },
  {
   "cell_type": "markdown",
   "metadata": {},
   "source": [
    "# Undersampling the classes + single data set"
   ]
  },
  {
   "cell_type": "code",
   "execution_count": null,
   "metadata": {},
   "outputs": [],
   "source": [
    "X = new_df[attribs]\n",
    "y = new_df['CS_LYMPH_NODE_METS']\n",
    "healthy_idx = new_df[new_df['CS_LYMPH_NODE_METS'] == 0.0].index\n",
    "#print(len(healthy_idx))\n",
    "#print(len(y))\n",
    "random_idx = np.random.choice(healthy_idx, 10000, replace=False)\n",
    "##print(len(random_idx))\n",
    "\n",
    "sick_idx = new_df[new_df['CS_LYMPH_NODE_METS'] == 1.0].index\n",
    "all_idx = np.concatenate((random_idx, sick_idx), axis = None)\n",
    "\n",
    "X = X.loc[all_idx]\n",
    "y = y.loc[all_idx]\n",
    "X_train, X_test, y_train, y_test = train_test_split(X, y, test_size=0.20, random_state=20)\n",
    "X_train, X_cv, y_train, y_cv = train_test_split(X_train, y_train, test_size=0.10, random_state=20)\n",
    "\n",
    "x_train = preprocess_pipeline.fit_transform(X_train)\n",
    "x_train\n",
    "x_cv = preprocess_pipeline.transform(X_cv)\n",
    "x_test = preprocess_pipeline.transform(X_test)"
   ]
  },
  {
   "cell_type": "code",
   "execution_count": null,
   "metadata": {},
   "outputs": [],
   "source": [
    "from sklearn.linear_model import LogisticRegression\n",
    "from sklearn.metrics import accuracy_score\n",
    "from sklearn.metrics import recall_score\n",
    "from sklearn.metrics import precision_score\n",
    "from sklearn.metrics import f1_score\n",
    "from sklearn.metrics import confusion_matrix\n",
    "\n",
    "log_clf = LogisticRegression(solver=\"liblinear\")\n",
    "log_clf.fit(x_train,y_train)\n",
    "\n",
    "\n",
    "log_scores = cross_val_score(log_clf, x_train,y_train,cv=10,scoring=\"accuracy\")\n",
    "print(min(log_scores))\n",
    "\n",
    "importance = log_clf.coef_[0]\n",
    "# summarize feature importance\n",
    "for i,v in enumerate(importance):\n",
    "    print('Feature: %0d, Score: %.5f' % (i,v))\n"
   ]
  },
  {
   "cell_type": "code",
   "execution_count": null,
   "metadata": {},
   "outputs": [],
   "source": [
    "THRESHOLD = [0.1, 0.15, 0.2]\n",
    "for thresh in THRESHOLD:\n",
    "    print(f\"THRESHOLD is {thresh}\")\n",
    "    y_pred = np.where(log_clf.predict_proba(x_train)[:,1] > thresh, 1, 0)\n",
    "    log_score = accuracy_score(y_train,y_pred)\n",
    "    print(log_score)\n",
    "    log_scores.mean()\n",
    "    print(confusion_matrix(y_train, y_pred))\n",
    "#y_pred = y_pred == 2\n",
    "#y_simple = y_train == 2\n",
    "    log_f1 = f1_score(y_train,y_pred)\n",
    "    log_recall = recall_score(y_train, y_pred)\n",
    "    log_precision = precision_score(y_train,y_pred)\n",
    "    print(f\"The precision is {log_precision}, the recall is {log_recall}, and the f1 score is {log_f1}\\n\\n\\n\")"
   ]
  },
  {
   "cell_type": "code",
   "execution_count": null,
   "metadata": {},
   "outputs": [],
   "source": [
    "#x_test = preprocess_pipeline.transform(X_test) #running our train_set through the pipeline\n",
    "#x_test = sc.transform (x_test)\n",
    "for thresh in THRESHOLD:\n",
    "    print(f\"THRESHOLD is {thresh}\")\n",
    "\n",
    "    y_pred = np.where(log_clf.predict_proba(x_cv)[:,1] > thresh, 1, 0)\n",
    "\n",
    "#y_cv_test = y_cv == 2\n",
    "#print(sum(y_cv_test))\n",
    "#y_pred = y_pred == 2\n",
    "#print(sum(y_pred == 2))\n",
    "    log_score = accuracy_score(y_cv, y_pred)\n",
    "    print(log_score)\n",
    "#print(y_test)\n",
    "    log_f1 = f1_score(y_cv,y_pred)\n",
    "    log_recall = recall_score(y_cv, y_pred)\n",
    "    log_precision = precision_score(y_cv,y_pred)\n",
    "    print(f\"The precision is {log_precision}, the recall is {log_recall}, and the f1 score is {log_f1}\")\n",
    "    print(f\"The confusion matrix is \\n {confusion_matrix(y_cv,y_pred)}\\n\\n\\n\")\n",
    "\n",
    "\n",
    "#y_proba = log_clf.predict_proba(x_cv)\n",
    "#from sklearn.metrics import precision_recall_curve\n",
    "##precision, recall, thresholds = precision_recall_curve(y_cv, y_proba)\n",
    "#\n",
    "#from sklearn.metrics import plot_precision_recall_curve\n",
    "#import matplotlib.pyplot as plt\n",
    "#from sklearn.metrics import average_precision_score\n",
    "#average_precision = average_precision_score(y_cv, y_pred)\n",
    "#\n",
    "#disp = plot_precision_recall_curve(log_clf, x_cv, y_cv)\n",
    "#disp.ax_.set_title('2-class Precision-Recall curve: '\n",
    "#                   'AP={0:0.2f}'.format(average_precision))\n",
    "#\n",
    "#\n",
    "#\n",
    "#misclassified = np.where(y_cv != y_pred)"
   ]
  },
  {
   "cell_type": "markdown",
   "metadata": {},
   "source": [
    "# adding in more data rofl hahaha this definitely works\n"
   ]
  },
  {
   "cell_type": "code",
   "execution_count": null,
   "metadata": {},
   "outputs": [],
   "source": [
    "new_mela = pd.read_csv('seer_melanoma.csv')\n",
    "new_mela = new_mela.rename(columns={'CS_SITESPECIFIC_FACTOR_1': \"DEPTH\", 'CS_SITESPECIFIC_FACTOR_2': 'ULCERATION',\n",
    "       'CS_SITESPECIFIC_FACTOR_7': 'MITOSES', 'CS_SITESPECIFIC_FACTOR_3': 'CS_LYMPH_NODE_METS'})\n",
    "attribs = ['AGE', 'SEX', 'DEPTH', 'ULCERATION',\n",
    "        'MITOSES', 'CS_EXTENSION', 'PRIMARY_SITE', 'CS_LYMPH_NODE_METS']\n",
    "\n",
    "new_data = new_mela[attribs].dropna()\n",
    "\n",
    "\n",
    "#### NEW SECTION\n",
    "#new_data['CS_LYMPH_NODE_METS'] = new_data['CS_LYMPH_NODE_METS'].replace([5, 10],[0, 1])\n",
    "#new_data = new_data[new_data['CS_LYMPH_NODE_METS'] <= 1.5]\n",
    "#data['CS_LYMPH_NODE_METS'].value_counts()\n",
    "#import numpy as np\n",
    "#data['TNM_PATH_N'] = data['TNM_PATH_N'].replace(['p0', 'pX', 'p1A', 'p2A', 'p1', 'p3', 'p2C', 'p2', 'p1B', 'p2B', '88'], [0, 0, 1, 1, 0, 0, 0, 0, 0, 0, 0])\n",
    "\n",
    "#new_data['REGIONAL_NODES_POSITIVE'] = new_data['REGIONAL_NODES_POSITIVE'].replace([98, 99], [0, 0])\n",
    "#new_data['POSITIVE'] = np.where(new_data['TNM_PATH_N'] + new_data['CS_LYMPH_NODE_METS'] + new_data['REGIONAL_NODES_POSITIVE'] > 0, 1, 0)\n",
    "\n",
    "### END OF NEW SECTION\n",
    "\n",
    "df = new_data[(new_data != 999).all(1)]\n",
    "df = df[df['MITOSES'] != 988]\n",
    "df = df.dropna()\n",
    "df = df[(df != 1022).all(1)]\n",
    "df['ULCERATION'] = df['ULCERATION'].replace(10, 1)\n",
    "\n",
    "df['CS_EXTENSION'].value_counts()\n",
    "df['CS_EXTENSION'] = df['CS_EXTENSION'].replace([\n",
    "    310, 315, 320, 330, 335, 340, 350, 355, 360, 370, 375, 380, 400, 950],\n",
    "    [999, 999, 999, 999, 999, 999, 999, 999, 999, 999, 999, 999, 999,  999])\n",
    "df = df[(df != 999).all(1)]\n",
    "df = df[df['AGE'] <= 84]\n",
    "df['CS_LYMPH_NODE_METS'] = df['CS_LYMPH_NODE_METS'].replace([5, 10],[0, 1])\n",
    "df = df[df['CS_LYMPH_NODE_METS'] <= 1.5]\n",
    "df['CS_LYMPH_NODE_METS'].value_counts()\n",
    "print(df['PRIMARY_SITE'].value_counts())\n",
    "df['PRIMARY_SITE'] = df['PRIMARY_SITE'].replace([\n",
    "    440, 441, 442, 443, 444, 445, 446, 447, 448, 449],  [0,0,0,0,0,1, 2,2,999,999])\n",
    "print(df['PRIMARY_SITE'].value_counts())\n",
    "df = df[(df != 999).all(1)]\n",
    "df = df[df['MITOSES'] <= 11]\n",
    "\n",
    "#print(df.describe())\n",
    "#print(new_df.describe())"
   ]
  },
  {
   "cell_type": "code",
   "execution_count": null,
   "metadata": {},
   "outputs": [],
   "source": [
    "#attribs = ['AGE', 'SEX', 'RACE', 'SPANISH_HISPANIC_ORIGIN', 'DEPTH', 'DEPTH_3', 'ULCERATION',\n",
    "#           'MITOSES', 'CS_EXTENSION', 'PRIMARY_SITE']\n",
    "\n",
    "attribs = ['AGE', 'SEX', 'DEPTH', 'ULCERATION',\n",
    "            'MITOSES', 'CS_EXTENSION', 'PRIMARY_SITE']\n",
    "#print(new_df.describe())\n",
    "concat_data = pd.concat([new_df, df])\n",
    "print(concat_data.describe())\n",
    "#X = new_df[attribs]\n",
    "X = concat_data[attribs]\n",
    "#y = new_df['CS_LYMPH_NODE_METS']\n",
    "y = concat_data['CS_LYMPH_NODE_METS']\n",
    "#y = new_df['REGIONAL_NODES_POSITIVE']\n",
    "import numpy as np\n",
    "from sklearn.model_selection import train_test_split\n",
    "X_train, X_test, y_train, y_test = train_test_split(X, y, test_size=0.20, random_state=20)\n",
    "X_train, X_cv, y_train, y_cv = train_test_split(X_train, y_train, test_size=0.10, random_state=20)"
   ]
  },
  {
   "cell_type": "code",
   "execution_count": null,
   "metadata": {},
   "outputs": [],
   "source": [
    "x_train = preprocess_pipeline.fit_transform(X_train)\n",
    "x_train\n",
    "x_cv = preprocess_pipeline.transform(X_cv)\n",
    "x_test = preprocess_pipeline.transform(X_test)"
   ]
  },
  {
   "cell_type": "code",
   "execution_count": null,
   "metadata": {},
   "outputs": [],
   "source": [
    "from sklearn.linear_model import LogisticRegression\n",
    "from sklearn.metrics import accuracy_score\n",
    "from sklearn.metrics import recall_score\n",
    "from sklearn.metrics import precision_score\n",
    "from sklearn.metrics import f1_score\n",
    "from sklearn.metrics import confusion_matrix\n",
    "\n",
    "log_clf = LogisticRegression(solver=\"liblinear\", class_weight=\"balanced\")\n",
    "log_clf.fit(x_train,y_train)\n",
    "\n",
    "\n",
    "log_scores = cross_val_score(log_clf, x_train,y_train,cv=10,scoring=\"accuracy\")\n",
    "print(min(log_scores))"
   ]
  },
  {
   "cell_type": "code",
   "execution_count": null,
   "metadata": {},
   "outputs": [],
   "source": [
    "THRESHOLD = 0.03\n",
    "y_pred = np.where(log_clf.predict_proba(x_train)[:,1] > THRESHOLD, 1, 0)\n",
    "log_score = accuracy_score(y_train,y_pred)\n",
    "print(log_score)\n",
    "log_scores.mean()\n",
    "print(f\"The confusion matrix is {confusion_matrix(y_train,y_pred)}\")\n",
    "importance = log_clf.coef_[0]\n",
    "# summarize feature importance\n",
    "for i,v in enumerate(importance):\n",
    "    print('Feature: %0d, Score: %.5f' % (i,v))\n",
    "\n",
    "from sklearn.metrics import confusion_matrix\n",
    "print(confusion_matrix(y_train, y_pred))\n",
    "#y_pred = y_pred == 2\n",
    "#y_simple = y_train == 2\n",
    "log_f1 = f1_score(y_train,y_pred)\n",
    "log_recall = recall_score(y_train, y_pred)\n",
    "log_precision = precision_score(y_train,y_pred)\n",
    "print(f\"The precision is {log_precision}, the recall is {log_recall}, and the f1 score is {log_f1}\")"
   ]
  },
  {
   "cell_type": "code",
   "execution_count": null,
   "metadata": {},
   "outputs": [],
   "source": [
    "#x_test = preprocess_pipeline.transform(X_test) #running our train_set through the pipeline\n",
    "#x_test = sc.transform (x_test)\n",
    "#THRESHOLD = 0.001\n",
    "y_pred = np.where(log_clf.predict_proba(x_cv)[:,1] > THRESHOLD, 1, 0)\n",
    "\n",
    "#y_cv_test = y_cv == 2\n",
    "#print(sum(y_cv_test))\n",
    "#y_pred = y_pred == 2\n",
    "#print(sum(y_pred == 2))\n",
    "log_score = accuracy_score(y_cv, y_pred)\n",
    "print(log_score)\n",
    "#print(y_test)\n",
    "log_f1 = f1_score(y_cv,y_pred)\n",
    "log_recall = recall_score(y_cv, y_pred)\n",
    "log_precision = precision_score(y_cv,y_pred)\n",
    "print(f\"The precision is {log_precision}, the recall is {log_recall}, and the f1 score is {log_f1}\")\n",
    "print(f\"The confusion matrix is \\n {confusion_matrix(y_cv,y_pred)}\")\n",
    "\n",
    "\n",
    "y_proba = log_clf.predict_proba(x_cv)\n",
    "from sklearn.metrics import precision_recall_curve\n",
    "#precision, recall, thresholds = precision_recall_curve(y_cv, y_proba)\n",
    "\n",
    "from sklearn.metrics import plot_precision_recall_curve\n",
    "import matplotlib.pyplot as plt\n",
    "from sklearn.metrics import average_precision_score\n",
    "average_precision = average_precision_score(y_cv, y_pred)\n",
    "\n",
    "disp = plot_precision_recall_curve(log_clf, x_cv, y_cv)\n",
    "disp.ax_.set_title('2-class Precision-Recall curve: '\n",
    "                   'AP={0:0.2f}'.format(average_precision))\n",
    "\n",
    "\n",
    "\n",
    "misclassified = np.where(y_cv != y_pred)"
   ]
  },
  {
   "cell_type": "markdown",
   "metadata": {},
   "source": [
    "# Undersampling + 2 data sets"
   ]
  },
  {
   "cell_type": "code",
   "execution_count": null,
   "metadata": {},
   "outputs": [],
   "source": [
    "X = concat_data[attribs]\n",
    "y = concat_data['CS_LYMPH_NODE_METS']\n",
    "healthy_idx = concat_data[concat_data['CS_LYMPH_NODE_METS'] == 0.0].index\n",
    "#print(len(healthy_idx))\n",
    "#print(len(y))\n",
    "random_idx = np.random.choice(healthy_idx, 12000, replace=False)\n",
    "##print(len(random_idx))\n",
    "\n",
    "sick_idx = concat_data[concat_data['CS_LYMPH_NODE_METS'] == 1.0].index\n",
    "all_idx = np.concatenate((random_idx, sick_idx), axis = None)\n",
    "\n",
    "X = X.loc[all_idx]\n",
    "y = y.loc[all_idx]\n",
    "X_train, X_test, y_train, y_test = train_test_split(X, y, test_size=0.20, random_state=20)\n",
    "X_train, X_cv, y_train, y_cv = train_test_split(X_train, y_train, test_size=0.10, random_state=20)\n",
    "\n",
    "x_train = preprocess_pipeline.fit_transform(X_train)\n",
    "x_train\n",
    "x_cv = preprocess_pipeline.transform(X_cv)\n",
    "x_test = preprocess_pipeline.transform(X_test)\n"
   ]
  },
  {
   "cell_type": "code",
   "execution_count": null,
   "metadata": {},
   "outputs": [],
   "source": [
    "log_clf = LogisticRegression(solver=\"liblinear\")\n",
    "log_clf.fit(x_train,y_train)\n",
    "\n",
    "\n",
    "log_scores = cross_val_score(log_clf, x_train,y_train,cv=10,scoring=\"accuracy\")\n",
    "print(min(log_scores))\n",
    "\n",
    "\n",
    "importance = log_clf.coef_[0]\n",
    "# summarize feature importance\n",
    "for i,v in enumerate(importance):\n",
    "    print('Feature: %0d, Score: %.5f' % (i,v))"
   ]
  },
  {
   "cell_type": "code",
   "execution_count": null,
   "metadata": {},
   "outputs": [],
   "source": [
    "THRESHOLD = [0.01, 0.02, 0.03, 0.04, 0.05]\n",
    "for thresh in THRESHOLD:\n",
    "    print(f\"THRESHOLD is {thresh}\")\n",
    "    y_pred = np.where(log_clf.predict_proba(x_train)[:,1] > thresh, 1, 0)\n",
    "    log_score = accuracy_score(y_train,y_pred)\n",
    "    print(log_score)\n",
    "    log_scores.mean()\n",
    "    print(confusion_matrix(y_train, y_pred))\n",
    "#y_pred = y_pred == 2\n",
    "#y_simple = y_train == 2\n",
    "    log_f1 = f1_score(y_train,y_pred)\n",
    "    log_recall = recall_score(y_train, y_pred)\n",
    "    log_precision = precision_score(y_train,y_pred)\n",
    "    print(f\"The precision is {log_precision}, the recall is {log_recall}, and the f1 score is {log_f1}\\n\\n\\n\")"
   ]
  },
  {
   "cell_type": "code",
   "execution_count": null,
   "metadata": {},
   "outputs": [],
   "source": [
    "#x_test = preprocess_pipeline.transform(X_test) #running our train_set through the pipeline\n",
    "#x_test = sc.transform (x_test)\n",
    "for thresh in THRESHOLD:\n",
    "    print(f\"THRESHOLD is {thresh}\")\n",
    "\n",
    "    y_pred = np.where(log_clf.predict_proba(x_cv)[:,1] > thresh, 1, 0)\n",
    "\n",
    "#y_cv_test = y_cv == 2\n",
    "#print(sum(y_cv_test))\n",
    "#y_pred = y_pred == 2\n",
    "#print(sum(y_pred == 2))\n",
    "    log_score = accuracy_score(y_cv, y_pred)\n",
    "    print(log_score)\n",
    "#print(y_test)\n",
    "    log_f1 = f1_score(y_cv,y_pred)\n",
    "    log_recall = recall_score(y_cv, y_pred)\n",
    "    log_precision = precision_score(y_cv,y_pred)\n",
    "    print(f\"The precision is {log_precision}, the recall is {log_recall}, and the f1 score is {log_f1}\")\n",
    "    print(f\"The confusion matrix is \\n {confusion_matrix(y_cv,y_pred)}\\n\\n\\n\")"
   ]
  },
  {
   "cell_type": "code",
   "execution_count": null,
   "metadata": {},
   "outputs": [],
   "source": []
  }
 ],
 "metadata": {
  "kernelspec": {
   "display_name": "Python 3",
   "language": "python",
   "name": "python3"
  },
  "language_info": {
   "codemirror_mode": {
    "name": "ipython",
    "version": 3
   },
   "file_extension": ".py",
   "mimetype": "text/x-python",
   "name": "python",
   "nbconvert_exporter": "python",
   "pygments_lexer": "ipython3",
   "version": "3.7.6"
  },
  "toc": {
   "base_numbering": 1,
   "nav_menu": {},
   "number_sections": true,
   "sideBar": true,
   "skip_h1_title": false,
   "title_cell": "Table of Contents",
   "title_sidebar": "Contents",
   "toc_cell": false,
   "toc_position": {},
   "toc_section_display": true,
   "toc_window_display": false
  }
 },
 "nbformat": 4,
 "nbformat_minor": 4
}
